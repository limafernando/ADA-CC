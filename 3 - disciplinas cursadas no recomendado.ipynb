{
 "cells": [
  {
   "cell_type": "markdown",
   "metadata": {},
   "source": [
    "# Checagem de disciplinas cursadas no recomendado"
   ]
  },
  {
   "cell_type": "markdown",
   "metadata": {},
   "source": [
    "#### Importando Bibliotecas"
   ]
  },
  {
   "cell_type": "code",
   "execution_count": 1,
   "metadata": {},
   "outputs": [],
   "source": [
    "import pandas as pd\n",
    "from statistics import mean, median, mode, stdev, variance\n",
    "from os import listdir\n",
    "from math import modf"
   ]
  },
  {
   "cell_type": "code",
   "execution_count": 2,
   "metadata": {},
   "outputs": [],
   "source": [
    "import os\n",
    "import sys\n",
    "sys.path.append(os.path.abspath(\"util.py\"))\n",
    "\n",
    "import util "
   ]
  },
  {
   "cell_type": "markdown",
   "metadata": {},
   "source": [
    "#### Abrindo Arquivos CSV"
   ]
  },
  {
   "cell_type": "code",
   "execution_count": 3,
   "metadata": {},
   "outputs": [],
   "source": [
    "discentes = util.retorna_discentes()\n",
    "\n",
    "disciplinas = util.retorna_componentes_com_semestre()\n",
    "\n",
    "matriculas_realizadas = util.retorna_matriculas()"
   ]
  },
  {
   "cell_type": "code",
   "execution_count": 4,
   "metadata": {},
   "outputs": [
    {
     "data": {
      "text/html": [
       "<div>\n",
       "<style scoped>\n",
       "    .dataframe tbody tr th:only-of-type {\n",
       "        vertical-align: middle;\n",
       "    }\n",
       "\n",
       "    .dataframe tbody tr th {\n",
       "        vertical-align: top;\n",
       "    }\n",
       "\n",
       "    .dataframe thead th {\n",
       "        text-align: right;\n",
       "    }\n",
       "</style>\n",
       "<table border=\"1\" class=\"dataframe\">\n",
       "  <thead>\n",
       "    <tr style=\"text-align: right;\">\n",
       "      <th></th>\n",
       "      <th>matricula</th>\n",
       "      <th>cra</th>\n",
       "      <th>periodo_ingresso</th>\n",
       "      <th>descricao</th>\n",
       "      <th>periodo_conclusao</th>\n",
       "    </tr>\n",
       "  </thead>\n",
       "  <tbody>\n",
       "    <tr>\n",
       "      <th>0</th>\n",
       "      <td>18511024</td>\n",
       "      <td>8.18</td>\n",
       "      <td>1985.1</td>\n",
       "      <td>CONCLUÍDO</td>\n",
       "      <td>1988.2</td>\n",
       "    </tr>\n",
       "    <tr>\n",
       "      <th>1</th>\n",
       "      <td>18511029</td>\n",
       "      <td>7.70</td>\n",
       "      <td>1985.1</td>\n",
       "      <td>CONCLUÍDO</td>\n",
       "      <td>1988.2</td>\n",
       "    </tr>\n",
       "    <tr>\n",
       "      <th>2</th>\n",
       "      <td>18511030</td>\n",
       "      <td>9.22</td>\n",
       "      <td>1985.1</td>\n",
       "      <td>CONCLUÍDO</td>\n",
       "      <td>1988.2</td>\n",
       "    </tr>\n",
       "    <tr>\n",
       "      <th>3</th>\n",
       "      <td>18511033</td>\n",
       "      <td>8.31</td>\n",
       "      <td>1985.1</td>\n",
       "      <td>CONCLUÍDO</td>\n",
       "      <td>1988.2</td>\n",
       "    </tr>\n",
       "    <tr>\n",
       "      <th>4</th>\n",
       "      <td>18511035</td>\n",
       "      <td>8.06</td>\n",
       "      <td>1985.1</td>\n",
       "      <td>CONCLUÍDO</td>\n",
       "      <td>1988.2</td>\n",
       "    </tr>\n",
       "  </tbody>\n",
       "</table>\n",
       "</div>"
      ],
      "text/plain": [
       "   matricula   cra  periodo_ingresso  descricao  periodo_conclusao\n",
       "0   18511024  8.18            1985.1  CONCLUÍDO             1988.2\n",
       "1   18511029  7.70            1985.1  CONCLUÍDO             1988.2\n",
       "2   18511030  9.22            1985.1  CONCLUÍDO             1988.2\n",
       "3   18511033  8.31            1985.1  CONCLUÍDO             1988.2\n",
       "4   18511035  8.06            1985.1  CONCLUÍDO             1988.2"
      ]
     },
     "execution_count": 4,
     "metadata": {},
     "output_type": "execute_result"
    }
   ],
   "source": [
    "discentes.head()"
   ]
  },
  {
   "cell_type": "code",
   "execution_count": 5,
   "metadata": {},
   "outputs": [
    {
     "data": {
      "text/html": [
       "<div>\n",
       "<style scoped>\n",
       "    .dataframe tbody tr th:only-of-type {\n",
       "        vertical-align: middle;\n",
       "    }\n",
       "\n",
       "    .dataframe tbody tr th {\n",
       "        vertical-align: top;\n",
       "    }\n",
       "\n",
       "    .dataframe thead th {\n",
       "        text-align: right;\n",
       "    }\n",
       "</style>\n",
       "<table border=\"1\" class=\"dataframe\">\n",
       "  <thead>\n",
       "    <tr style=\"text-align: right;\">\n",
       "      <th></th>\n",
       "      <th>matricula</th>\n",
       "      <th>cra</th>\n",
       "      <th>periodo_ingresso</th>\n",
       "      <th>descricao</th>\n",
       "      <th>periodo_conclusao</th>\n",
       "    </tr>\n",
       "  </thead>\n",
       "  <tbody>\n",
       "    <tr>\n",
       "      <th>483</th>\n",
       "      <td>10611013</td>\n",
       "      <td>8.36</td>\n",
       "      <td>2006.1</td>\n",
       "      <td>CONCLUÍDO</td>\n",
       "      <td>2010.1</td>\n",
       "    </tr>\n",
       "    <tr>\n",
       "      <th>484</th>\n",
       "      <td>10611008</td>\n",
       "      <td>8.82</td>\n",
       "      <td>2006.1</td>\n",
       "      <td>CONCLUÍDO</td>\n",
       "      <td>2009.2</td>\n",
       "    </tr>\n",
       "    <tr>\n",
       "      <th>485</th>\n",
       "      <td>10611431</td>\n",
       "      <td>8.28</td>\n",
       "      <td>2006.1</td>\n",
       "      <td>CONCLUÍDO</td>\n",
       "      <td>2008.2</td>\n",
       "    </tr>\n",
       "    <tr>\n",
       "      <th>486</th>\n",
       "      <td>10611011</td>\n",
       "      <td>8.77</td>\n",
       "      <td>2006.1</td>\n",
       "      <td>CONCLUÍDO</td>\n",
       "      <td>2009.2</td>\n",
       "    </tr>\n",
       "    <tr>\n",
       "      <th>487</th>\n",
       "      <td>10611015</td>\n",
       "      <td>8.49</td>\n",
       "      <td>2006.1</td>\n",
       "      <td>CONCLUÍDO</td>\n",
       "      <td>2010.2</td>\n",
       "    </tr>\n",
       "  </tbody>\n",
       "</table>\n",
       "</div>"
      ],
      "text/plain": [
       "     matricula   cra  periodo_ingresso  descricao  periodo_conclusao\n",
       "483   10611013  8.36            2006.1  CONCLUÍDO             2010.1\n",
       "484   10611008  8.82            2006.1  CONCLUÍDO             2009.2\n",
       "485   10611431  8.28            2006.1  CONCLUÍDO             2008.2\n",
       "486   10611011  8.77            2006.1  CONCLUÍDO             2009.2\n",
       "487   10611015  8.49            2006.1  CONCLUÍDO             2010.2"
      ]
     },
     "execution_count": 5,
     "metadata": {},
     "output_type": "execute_result"
    }
   ],
   "source": [
    "discentes_depois = util.retorna_discentes_depois(discentes=discentes)\n",
    "\n",
    "discentes_depois.head()"
   ]
  },
  {
   "cell_type": "code",
   "execution_count": 6,
   "metadata": {},
   "outputs": [
    {
     "data": {
      "text/plain": [
       "[10611013, 10611008, 10611431, 10611011, 10611015]"
      ]
     },
     "execution_count": 6,
     "metadata": {},
     "output_type": "execute_result"
    }
   ],
   "source": [
    "matriculas_discentes = discentes_depois['matricula'].to_list()\n",
    "\n",
    "matriculas_discentes[:5]"
   ]
  },
  {
   "cell_type": "code",
   "execution_count": 7,
   "metadata": {},
   "outputs": [
    {
     "data": {
      "text/html": [
       "<div>\n",
       "<style scoped>\n",
       "    .dataframe tbody tr th:only-of-type {\n",
       "        vertical-align: middle;\n",
       "    }\n",
       "\n",
       "    .dataframe tbody tr th {\n",
       "        vertical-align: top;\n",
       "    }\n",
       "\n",
       "    .dataframe thead th {\n",
       "        text-align: right;\n",
       "    }\n",
       "</style>\n",
       "<table border=\"1\" class=\"dataframe\">\n",
       "  <thead>\n",
       "    <tr style=\"text-align: right;\">\n",
       "      <th></th>\n",
       "      <th>codigo</th>\n",
       "      <th>nome</th>\n",
       "      <th>ch_total</th>\n",
       "      <th>semestre</th>\n",
       "    </tr>\n",
       "  </thead>\n",
       "  <tbody>\n",
       "    <tr>\n",
       "      <th>0</th>\n",
       "      <td>1101101</td>\n",
       "      <td>COMPLEMENTOS EM FISICA GERAL I</td>\n",
       "      <td>30</td>\n",
       "      <td>NaN</td>\n",
       "    </tr>\n",
       "    <tr>\n",
       "      <th>1</th>\n",
       "      <td>1101107</td>\n",
       "      <td>ESTRUTURA DA MATÉRIA I</td>\n",
       "      <td>60</td>\n",
       "      <td>NaN</td>\n",
       "    </tr>\n",
       "    <tr>\n",
       "      <th>2</th>\n",
       "      <td>1101117</td>\n",
       "      <td>FISICA GERAL I</td>\n",
       "      <td>90</td>\n",
       "      <td>NaN</td>\n",
       "    </tr>\n",
       "    <tr>\n",
       "      <th>3</th>\n",
       "      <td>1101118</td>\n",
       "      <td>FISICA GERAL II</td>\n",
       "      <td>90</td>\n",
       "      <td>NaN</td>\n",
       "    </tr>\n",
       "    <tr>\n",
       "      <th>4</th>\n",
       "      <td>1101119</td>\n",
       "      <td>FISICA GERAL III</td>\n",
       "      <td>90</td>\n",
       "      <td>NaN</td>\n",
       "    </tr>\n",
       "  </tbody>\n",
       "</table>\n",
       "</div>"
      ],
      "text/plain": [
       "    codigo                            nome  ch_total  semestre\n",
       "0  1101101  COMPLEMENTOS EM FISICA GERAL I        30       NaN\n",
       "1  1101107          ESTRUTURA DA MATÉRIA I        60       NaN\n",
       "2  1101117                  FISICA GERAL I        90       NaN\n",
       "3  1101118                 FISICA GERAL II        90       NaN\n",
       "4  1101119                FISICA GERAL III        90       NaN"
      ]
     },
     "execution_count": 7,
     "metadata": {},
     "output_type": "execute_result"
    }
   ],
   "source": [
    "disciplinas.head()"
   ]
  },
  {
   "cell_type": "code",
   "execution_count": 8,
   "metadata": {},
   "outputs": [
    {
     "data": {
      "text/plain": [
       "codigo      291\n",
       "nome        291\n",
       "ch_total    291\n",
       "semestre     62\n",
       "dtype: int64"
      ]
     },
     "execution_count": 8,
     "metadata": {},
     "output_type": "execute_result"
    }
   ],
   "source": [
    "disciplinas.count()"
   ]
  },
  {
   "cell_type": "code",
   "execution_count": 9,
   "metadata": {},
   "outputs": [
    {
     "data": {
      "text/plain": [
       "codigo      62\n",
       "nome        62\n",
       "ch_total    62\n",
       "semestre    62\n",
       "dtype: int64"
      ]
     },
     "execution_count": 9,
     "metadata": {},
     "output_type": "execute_result"
    }
   ],
   "source": [
    "disciplinas = disciplinas[disciplinas['semestre'] >= 1]\n",
    "disciplinas.count()"
   ]
  },
  {
   "cell_type": "code",
   "execution_count": 10,
   "metadata": {},
   "outputs": [
    {
     "data": {
      "text/plain": [
       "['1101167', '1101168', '1101171', '1101172', '1103104']"
      ]
     },
     "execution_count": 10,
     "metadata": {},
     "output_type": "execute_result"
    }
   ],
   "source": [
    "codigos_disciplinas = disciplinas['codigo'].to_list()\n",
    "\n",
    "codigos_disciplinas[:5]"
   ]
  },
  {
   "cell_type": "code",
   "execution_count": 11,
   "metadata": {},
   "outputs": [
    {
     "data": {
      "text/html": [
       "<div>\n",
       "<style scoped>\n",
       "    .dataframe tbody tr th:only-of-type {\n",
       "        vertical-align: middle;\n",
       "    }\n",
       "\n",
       "    .dataframe tbody tr th {\n",
       "        vertical-align: top;\n",
       "    }\n",
       "\n",
       "    .dataframe thead th {\n",
       "        text-align: right;\n",
       "    }\n",
       "</style>\n",
       "<table border=\"1\" class=\"dataframe\">\n",
       "  <thead>\n",
       "    <tr style=\"text-align: right;\">\n",
       "      <th></th>\n",
       "      <th>matricula</th>\n",
       "      <th>periodo_matricula</th>\n",
       "      <th>codigo_componente</th>\n",
       "      <th>descricao</th>\n",
       "      <th>media_final</th>\n",
       "    </tr>\n",
       "  </thead>\n",
       "  <tbody>\n",
       "    <tr>\n",
       "      <th>0</th>\n",
       "      <td>10011003</td>\n",
       "      <td>2000.1</td>\n",
       "      <td>1103114</td>\n",
       "      <td>APROVADO</td>\n",
       "      <td>9.7</td>\n",
       "    </tr>\n",
       "    <tr>\n",
       "      <th>1</th>\n",
       "      <td>10011003</td>\n",
       "      <td>2000.1</td>\n",
       "      <td>1107137</td>\n",
       "      <td>APROVADO</td>\n",
       "      <td>10.0</td>\n",
       "    </tr>\n",
       "    <tr>\n",
       "      <th>2</th>\n",
       "      <td>10011003</td>\n",
       "      <td>2000.1</td>\n",
       "      <td>1103118</td>\n",
       "      <td>APROVADO</td>\n",
       "      <td>9.8</td>\n",
       "    </tr>\n",
       "    <tr>\n",
       "      <th>3</th>\n",
       "      <td>10011003</td>\n",
       "      <td>2000.1</td>\n",
       "      <td>1107136</td>\n",
       "      <td>APROVADO</td>\n",
       "      <td>10.0</td>\n",
       "    </tr>\n",
       "    <tr>\n",
       "      <th>4</th>\n",
       "      <td>10011003</td>\n",
       "      <td>2000.1</td>\n",
       "      <td>1101117</td>\n",
       "      <td>APROVADO</td>\n",
       "      <td>10.0</td>\n",
       "    </tr>\n",
       "  </tbody>\n",
       "</table>\n",
       "</div>"
      ],
      "text/plain": [
       "   matricula  periodo_matricula codigo_componente descricao  media_final\n",
       "0   10011003             2000.1           1103114  APROVADO          9.7\n",
       "1   10011003             2000.1           1107137  APROVADO         10.0\n",
       "2   10011003             2000.1           1103118  APROVADO          9.8\n",
       "3   10011003             2000.1           1107136  APROVADO         10.0\n",
       "4   10011003             2000.1           1101117  APROVADO         10.0"
      ]
     },
     "execution_count": 11,
     "metadata": {},
     "output_type": "execute_result"
    }
   ],
   "source": [
    "matriculas_realizadas.head()"
   ]
  },
  {
   "cell_type": "markdown",
   "metadata": {},
   "source": [
    "### Filtrando as matrículas nas quais os alunos obtiveram sucesso"
   ]
  },
  {
   "cell_type": "code",
   "execution_count": 12,
   "metadata": {},
   "outputs": [
    {
     "data": {
      "text/plain": [
       "matricula            37767\n",
       "periodo_matricula    37767\n",
       "codigo_componente    37767\n",
       "descricao            37767\n",
       "media_final          35939\n",
       "dtype: int64"
      ]
     },
     "execution_count": 12,
     "metadata": {},
     "output_type": "execute_result"
    }
   ],
   "source": [
    "matriculas_realizadas.count()"
   ]
  },
  {
   "cell_type": "code",
   "execution_count": 13,
   "metadata": {},
   "outputs": [],
   "source": [
    "aux = pd.DataFrame()"
   ]
  },
  {
   "cell_type": "code",
   "execution_count": 14,
   "metadata": {},
   "outputs": [
    {
     "data": {
      "text/plain": [
       "True"
      ]
     },
     "execution_count": 14,
     "metadata": {},
     "output_type": "execute_result"
    }
   ],
   "source": [
    "aux.empty"
   ]
  },
  {
   "cell_type": "code",
   "execution_count": 15,
   "metadata": {},
   "outputs": [],
   "source": [
    "aux = aux.append(matriculas_realizadas[matriculas_realizadas['descricao'] == 'APROVADO'])"
   ]
  },
  {
   "cell_type": "code",
   "execution_count": 16,
   "metadata": {},
   "outputs": [],
   "source": [
    "aux = aux.append(matriculas_realizadas[matriculas_realizadas['descricao'] == 'DISPENSADO'])"
   ]
  },
  {
   "cell_type": "code",
   "execution_count": 17,
   "metadata": {},
   "outputs": [],
   "source": [
    "aux = aux.append(matriculas_realizadas[matriculas_realizadas['descricao'] == 'MATRICULADO'])"
   ]
  },
  {
   "cell_type": "code",
   "execution_count": 18,
   "metadata": {},
   "outputs": [],
   "source": [
    "aux = aux.append(matriculas_realizadas[matriculas_realizadas['descricao'] == 'APROVEITADO'])"
   ]
  },
  {
   "cell_type": "code",
   "execution_count": 19,
   "metadata": {},
   "outputs": [
    {
     "data": {
      "text/plain": [
       "matricula            33295\n",
       "periodo_matricula    33295\n",
       "codigo_componente    33295\n",
       "descricao            33295\n",
       "media_final          33256\n",
       "dtype: int64"
      ]
     },
     "execution_count": 19,
     "metadata": {},
     "output_type": "execute_result"
    }
   ],
   "source": [
    "matriculas_realizadas = None\n",
    "\n",
    "matriculas_realizadas = aux\n",
    "\n",
    "matriculas_realizadas.count()"
   ]
  },
  {
   "cell_type": "markdown",
   "metadata": {},
   "source": [
    "### Tratando disciplinas com mais de um registro"
   ]
  },
  {
   "cell_type": "markdown",
   "metadata": {},
   "source": [
    "Disciplinas que precisam desse tratamento:\n",
    "\n",
    "* LOGICA APLC A COMPUTACAO e LOGICA APLICADA A COMPUTACAO\n",
    "\n",
    "* CALCULO NUMERICO (sem nenhuma matricula) e CALCULO NUMERICO e CALCULO NUMERICO\n",
    "\n",
    "* INTRODUCAO AO PROC DIGITAL DE IMAGENS e INTRODUÇÃO AO PROCESSAMENTO DIGITAL DE IMAGENS\n",
    "\n",
    "* ARQUITETURA DE COMPUTADORES II e ARQUITETURA DE COMPUTADORES II\n",
    "\n",
    "* ADM SIST DE INFORMACOES e ADMINISTRACAO DE SISTEMAS DE INFORMACAO\n",
    "\n",
    "* CONSTRUCAO DE COMPILADORES I e CONSTRUÇÃO DE COMPILADORES I\n",
    "\n",
    "* REDES DE COMPUTADORES I e REDES DE COMPUTADORES I\n",
    "\n",
    "* ESTÁGIO SUPERVISIONADO e ESTAGIO SUPERVISIONADO\n",
    "\n",
    "* FISICA APLICADA A COMPUTACAO I (de 60 creditos e de 90 creditos)\n",
    "\n",
    "* FISICA APLICADA A COMPUTACAO II (de 60 creditos e de 90 creditos)\n",
    "\n",
    "* CALCULO I (de 60 creditos e de 90 creditos)\n",
    "\n",
    "* CALCULO II (de 60 creditos e de 90 creditos)\n",
    "\n",
    "* CALCULO III (de 60 creditos e de 90 creditos)\n",
    "\n",
    "* CIRCUITOS (de 60 creditos e de 90 creditos)\n",
    "\n",
    "* INTRODUCAO A ALGEBRA LINEAR e ALGEBRA LIN GEO ANALITICA "
   ]
  },
  {
   "cell_type": "code",
   "execution_count": 20,
   "metadata": {},
   "outputs": [
    {
     "name": "stdout",
     "output_type": "stream",
     "text": [
      "['1101167', '1101171']\n",
      "['1103114', '1103177']\n",
      "['1101168', '1101172']\n",
      "['1103115', '1103178']\n",
      "['1103179', '1103104']\n",
      "['1107149', '1107200']\n",
      "['1103232', '1103112']\n",
      "['1107118', '1107182']\n",
      "['1103176', '1107114', 'GDCOC0072']\n",
      "['1107196', 'GDSCO0055']\n",
      "['1107109', 'GDSCO0037']\n",
      "['1107207', 'GDSCO0062']\n",
      "['1204112', '1204203']\n",
      "['1107122', 'GDSCO0043']\n",
      "['GDINF0100', '1107185']\n"
     ]
    }
   ],
   "source": [
    "fisica1 = []\n",
    "fisica1 = disciplinas[disciplinas['nome'] == 'FISICA APLICADA A COMPUTACAO I']['codigo'].to_list()\n",
    "print(fisica1)\n",
    "\n",
    "calc1 = []\n",
    "calc1 = disciplinas[disciplinas['nome'] == 'CALCULO DIFERENCIAL E INTEGRAL I']['codigo'].to_list()\n",
    "print(calc1)\n",
    "\n",
    "fisica2 = []\n",
    "fisica2 = disciplinas[disciplinas['nome'] == 'FISICA APLICADA A COMPUTACAO II']['codigo'].to_list()\n",
    "print(fisica2)\n",
    "\n",
    "calc2 = []\n",
    "calc2 = disciplinas[disciplinas['nome'] == 'CALCULO DIFERENCIAL E INTEGRAL II']['codigo'].to_list()\n",
    "print(calc2)\n",
    "\n",
    "algebra = []\n",
    "algebra.append(disciplinas[disciplinas['nome'] == 'INTRODUCAO A ALGEBRA LINEAR']['codigo'].iloc[0])\n",
    "algebra.append(disciplinas[disciplinas['nome'] == 'ALGEBRA LIN GEO ANALITICA']['codigo'].iloc[0])\n",
    "print(algebra)\n",
    "\n",
    "logica = []\n",
    "logica.append(disciplinas[disciplinas['nome'] == 'LOGICA APLC A COMPUTACAO']['codigo'].iloc[0])\n",
    "logica.append(disciplinas[disciplinas['nome'] == 'LOGICA APLICADA A COMPUTACAO']['codigo'].iloc[0])\n",
    "print(logica)\n",
    "\n",
    "calc3 = []\n",
    "calc3.append(disciplinas[disciplinas['nome'] == 'CALCULO DIF  E INTEGRAL III']['codigo'].iloc[0])\n",
    "calc3.append(disciplinas[disciplinas['nome'] == 'CALCULO DIFERENCIAL E INTEGRAL III']['codigo'].iloc[0])\n",
    "print(calc3)\n",
    "\n",
    "cl = []\n",
    "cl = disciplinas[disciplinas['nome'] == 'CIRCUITOS LOGICOS']['codigo'].to_list()\n",
    "print(cl)\n",
    "\n",
    "numerico = []\n",
    "numerico = disciplinas[disciplinas['nome'] == 'CALCULO NUMERICO']['codigo'].to_list()\n",
    "print(numerico)\n",
    "\n",
    "pdi = []\n",
    "pdi.append(disciplinas[disciplinas['nome'] == 'INTRODUCAO AO PROC DIGITAL DE IMAGENS']['codigo'].iloc[0])\n",
    "pdi.append(disciplinas[disciplinas['nome'] == 'INTRODUÇÃO AO PROCESSAMENTO DIGITAL DE IMAGENS']['codigo'].iloc[0])\n",
    "print(pdi)\n",
    "\n",
    "arq2 = []\n",
    "arq2 = disciplinas[disciplinas['nome'] == 'ARQUITETURA DE COMPUTADORES II']['codigo'].to_list()\n",
    "print(arq2)\n",
    "\n",
    "redes = []\n",
    "redes = disciplinas[disciplinas['nome'] == 'REDES DE COMPUTADORES I']['codigo'].to_list()\n",
    "print(redes)\n",
    "\n",
    "admsi = []\n",
    "admsi.append(disciplinas[disciplinas['nome'] == 'ADM SIST DE INFORMACOES']['codigo'].iloc[0])\n",
    "admsi.append(disciplinas[disciplinas['nome'] == 'ADMINISTRACAO DE SISTEMAS DE INFORMACAO']['codigo'].iloc[0])\n",
    "print(admsi)\n",
    "\n",
    "comp = []\n",
    "comp.append(disciplinas[disciplinas['nome'] == 'CONSTRUCAO DE COMPILADORES I']['codigo'].iloc[0])\n",
    "comp.append(disciplinas[disciplinas['nome'] == 'CONSTRUÇÃO DE COMPILADORES I']['codigo'].iloc[0])\n",
    "print(comp)\n",
    "\n",
    "estagio = []\n",
    "estagio.append(disciplinas[disciplinas['nome'] == 'ESTÁGIO SUPERVISIONADO']['codigo'].iloc[0])\n",
    "estagio.append(disciplinas[disciplinas['nome'] == 'ESTAGIO SUPERVISIONADO']['codigo'].iloc[0])\n",
    "print(estagio)"
   ]
  },
  {
   "cell_type": "code",
   "execution_count": 21,
   "metadata": {},
   "outputs": [
    {
     "name": "stdout",
     "output_type": "stream",
     "text": [
      "Disciplina(s) ['1101167'] mapeadas para o código 1101171\n",
      "Disciplina(s) ['1103114'] mapeadas para o código 1103177\n",
      "Disciplina(s) ['1101168'] mapeadas para o código 1101172\n",
      "Disciplina(s) ['1103115'] mapeadas para o código 1103178\n",
      "Disciplina(s) ['1103104'] mapeadas para o código 1103179\n",
      "Disciplina(s) ['1107200'] mapeadas para o código 1107149\n",
      "Disciplina(s) ['1103112'] mapeadas para o código 1103232\n",
      "Disciplina(s) ['1107182'] mapeadas para o código 1107118\n",
      "Disciplina(s) ['1107114', 'GDCOC0072'] mapeadas para o código 1103176\n",
      "Disciplina(s) ['GDSCO0055'] mapeadas para o código 1107196\n",
      "Disciplina(s) ['GDSCO0037'] mapeadas para o código 1107109\n",
      "Disciplina(s) ['GDSCO0062'] mapeadas para o código 1107207\n",
      "Disciplina(s) ['1204203'] mapeadas para o código 1204112\n",
      "Disciplina(s) ['GDSCO0043'] mapeadas para o código 1107122\n",
      "Disciplina(s) ['1107185'] mapeadas para o código GDINF0100\n"
     ]
    }
   ],
   "source": [
    "fisica1, matriculas_realizadas = util.mapeia_disciplina(fisica1.copy(), matriculas_realizadas)\n",
    "calc1, matriculas_realizadas = util.mapeia_disciplina(calc1.copy(), matriculas_realizadas)\n",
    "\n",
    "fisica2, matriculas_realizadas = util.mapeia_disciplina(fisica2.copy(), matriculas_realizadas)\n",
    "calc2, matriculas_realizadas = util.mapeia_disciplina(calc2.copy(), matriculas_realizadas)\n",
    "algebra, matriculas_realizadas = util.mapeia_disciplina(algebra.copy(), matriculas_realizadas)\n",
    "logica, matriculas_realizadas = util.mapeia_disciplina(logica.copy(), matriculas_realizadas)\n",
    "\n",
    "calc3, matriculas_realizadas = util.mapeia_disciplina(calc3.copy(), matriculas_realizadas)\n",
    "cl, matriculas_realizadas = util.mapeia_disciplina(cl.copy(), matriculas_realizadas)\n",
    "\n",
    "numerico, matriculas_realizadas = util.mapeia_disciplina(numerico.copy(), matriculas_realizadas)\n",
    "pdi, matriculas_realizadas = util.mapeia_disciplina(pdi.copy(), matriculas_realizadas)\n",
    "\n",
    "arq2, matriculas_realizadas = util.mapeia_disciplina(arq2.copy(), matriculas_realizadas)\n",
    "\n",
    "redes, matriculas_realizadas = util.mapeia_disciplina(redes.copy(), matriculas_realizadas)\n",
    "admsi, matriculas_realizadas = util.mapeia_disciplina(admsi.copy(), matriculas_realizadas)\n",
    "comp, matriculas_realizadas = util.mapeia_disciplina(comp.copy(), matriculas_realizadas)\n",
    "\n",
    "estagio, matriculas_realizadas = util.mapeia_disciplina(estagio.copy(), matriculas_realizadas)"
   ]
  },
  {
   "cell_type": "markdown",
   "metadata": {},
   "source": [
    "### Gerando relatório"
   ]
  },
  {
   "cell_type": "code",
   "execution_count": 22,
   "metadata": {},
   "outputs": [
    {
     "name": "stderr",
     "output_type": "stream",
     "text": [
      "/home/luiz/.local/lib/python3.6/site-packages/ipykernel_launcher.py:51: RuntimeWarning: invalid value encountered in long_scalars\n",
      "/home/luiz/.local/lib/python3.6/site-packages/ipykernel_launcher.py:52: RuntimeWarning: invalid value encountered in long_scalars\n"
     ]
    }
   ],
   "source": [
    "relatorio = []\n",
    "\n",
    "for codigo in codigos_disciplinas:\n",
    "    \n",
    "    relatorio_disciplina = {'nome': None, 'rec': None, 'nao_rec': None}\n",
    "\n",
    "    aux = matriculas_realizadas[matriculas_realizadas['codigo_componente'] == codigo]\n",
    "\n",
    "    disciplina = disciplinas[disciplinas['codigo'] == codigo]['nome'].iloc[0]\n",
    "\n",
    "    periodo_recomendado = int(disciplinas[disciplinas['codigo'] == codigo]['semestre'].iloc[0])\n",
    "\n",
    "    relatorio_disciplina['nome'] = disciplina\n",
    "\n",
    "    matriculas = aux.count().iloc[0]\n",
    "        \n",
    "    #matriculas = 1\n",
    "\n",
    "    rec = 0\n",
    "    nao_rec = 0\n",
    "\n",
    "    for row in aux.iterrows():\n",
    "\n",
    "        #print(row[1])\n",
    "        #print()\n",
    "\n",
    "        aluno = row[1]['matricula']\n",
    "\n",
    "        if aluno not in matriculas_discentes:\n",
    "            matriculas -= 1\n",
    "            continue\n",
    "\n",
    "        else:\n",
    "                \n",
    "            periodo_matricula = row[1]['periodo_matricula']\n",
    "            periodo_ingresso = discentes_depois[discentes_depois['matricula'] == aluno]['periodo_ingresso'].iloc[0]\n",
    "\n",
    "            periodo_cursou = util.retorna_tempo_graduacao(periodo_ingresso, periodo_matricula)\n",
    "\n",
    "            #print('rec: {} matri: {} ingre: {} cursou: {}'.format(periodo_recomendado, periodo_matricula, periodo_ingresso, periodo_cursou))\n",
    "\n",
    "            if periodo_cursou == periodo_recomendado:\n",
    "                rec += 1\n",
    "\n",
    "            else:\n",
    "                nao_rec += 1\n",
    "                    \n",
    "            #matriculas += 1\n",
    "\n",
    "    \n",
    "    relatorio_disciplina['rec'] = rec/matriculas\n",
    "    relatorio_disciplina['nao_rec'] = nao_rec/matriculas\n",
    "    \n",
    "    relatorio.append(relatorio_disciplina)"
   ]
  },
  {
   "cell_type": "markdown",
   "metadata": {},
   "source": [
    "### Ordenando relatório"
   ]
  },
  {
   "cell_type": "code",
   "execution_count": 23,
   "metadata": {},
   "outputs": [
    {
     "name": "stdout",
     "output_type": "stream",
     "text": [
      "[{'nome': 'FISICA APLICADA A COMPUTACAO I', 'rec': nan, 'nao_rec': nan}, {'nome': 'FISICA APLICADA A COMPUTACAO II', 'rec': nan, 'nao_rec': nan}, {'nome': 'ALGEBRA LIN GEO ANALITICA', 'rec': nan, 'nao_rec': nan}, {'nome': 'CALCULO DIFERENCIAL E INTEGRAL III', 'rec': nan, 'nao_rec': nan}, {'nome': 'CALCULO DIFERENCIAL E INTEGRAL I', 'rec': nan, 'nao_rec': nan}, {'nome': 'CALCULO DIFERENCIAL E INTEGRAL II', 'rec': nan, 'nao_rec': nan}, {'nome': 'CALCULO NUMERICO', 'rec': nan, 'nao_rec': nan}, {'nome': 'INTRODUCAO AO COMPUTADOR', 'rec': 0.958904109589041, 'nao_rec': 0.0410958904109589}, {'nome': 'INTRODUCAO A PROGRAMACAO', 'rec': 0.8721461187214612, 'nao_rec': 0.1278538812785388}, {'nome': 'CALCULO VET GEO ANALITICA', 'rec': 0.863013698630137, 'nao_rec': 0.136986301369863}, {'nome': 'CALCULO DIFERENCIAL E INTEGRAL I', 'rec': 0.821917808219178, 'nao_rec': 0.1780821917808219}, {'nome': 'FISICA APLICADA A COMPUTACAO I', 'rec': 0.7853881278538812, 'nao_rec': 0.2146118721461187}, {'nome': 'LOGICA APLC A COMPUTACAO', 'rec': 0.7692307692307693, 'nao_rec': 0.23076923076923078}, {'nome': 'CIRCUITOS LOGICOS', 'rec': 0.6894977168949772, 'nao_rec': 0.3105022831050228}, {'nome': 'LINGUAGEM PROGRAMACAO I', 'rec': 0.680365296803653, 'nao_rec': 0.319634703196347}, {'nome': 'FISICA APLICADA A COMPUTACAO II', 'rec': 0.5688073394495413, 'nao_rec': 0.43119266055045874}, {'nome': 'CIRCUITOS LOGICOS', 'rec': nan, 'nao_rec': nan}, {'nome': 'ESTAGIO SUPERVISIONADO', 'rec': nan, 'nao_rec': nan}, {'nome': 'LOGICA APLICADA A COMPUTACAO', 'rec': nan, 'nao_rec': nan}, {'nome': 'METODOLOGIA DO TRABALHO CIENTIFICO', 'rec': 0.6912442396313364, 'nao_rec': 0.3087557603686636}, {'nome': 'TEORIA DA COMPUTACAO', 'rec': 0.663594470046083, 'nao_rec': 0.33640552995391704}, {'nome': 'ARQUITETURA DE COMPUTADORES I', 'rec': 0.639269406392694, 'nao_rec': 0.3607305936073059}, {'nome': 'ESTRUTURA DE DADOS', 'rec': 0.5668202764976958, 'nao_rec': 0.43317972350230416}, {'nome': 'CALCULO DIFERENCIAL E INTEGRAL II', 'rec': 0.5525114155251142, 'nao_rec': 0.4474885844748858}, {'nome': 'LINGUAGENS FORMAIS E AUTOMATOS', 'rec': 0.543778801843318, 'nao_rec': 0.45622119815668205}, {'nome': 'INTRODUCAO A ALGEBRA LINEAR', 'rec': 0.5409090909090909, 'nao_rec': 0.4590909090909091}, {'nome': 'PESQUISA APLICADA A COMPUTACAO', 'rec': 0.5299539170506913, 'nao_rec': 0.4700460829493088}, {'nome': 'ESPECIFICACAO DE REQUISITOS DE SOFTWARE', 'rec': 0.4930875576036866, 'nao_rec': 0.5069124423963134}, {'nome': 'ARQUITETURA DE COMPUTADORES II', 'rec': 0.4700460829493088, 'nao_rec': 0.5299539170506913}, {'nome': 'SISTEMAS OPERACIONAIS I', 'rec': 0.41743119266055045, 'nao_rec': 0.5825688073394495}, {'nome': 'LINGUAGEM PROGRAMACAO II', 'rec': 0.4155251141552511, 'nao_rec': 0.5844748858447488}, {'nome': 'ADM DE EMPRESAS', 'rec': 0.4055299539170507, 'nao_rec': 0.5944700460829493}, {'nome': 'PARADIGMAS DE LING DE PROGRAMAÇÃO', 'rec': 0.4009216589861751, 'nao_rec': 0.5990783410138248}, {'nome': 'ORDENACAO E RECUPERACAO DE DADOS', 'rec': 0.39631336405529954, 'nao_rec': 0.6036866359447005}, {'nome': 'IINTRODUÇÃO A COMPUTAÇÃO GRÁFICA', 'rec': 0.3870967741935484, 'nao_rec': 0.6129032258064516}, {'nome': 'IINTRODUÇÃO A COMPUTAÇÃO GRÁFICA', 'rec': 0.3870967741935484, 'nao_rec': 0.6129032258064516}, {'nome': 'CALCULO DIF  E INTEGRAL III', 'rec': 0.3789954337899543, 'nao_rec': 0.6210045662100456}, {'nome': 'METODOS DE PROJETO DE SOFTWARE', 'rec': 0.3778801843317972, 'nao_rec': 0.6221198156682027}, {'nome': 'ADM SIST DE INFORMACOES', 'rec': 0.3548387096774194, 'nao_rec': 0.6451612903225806}, {'nome': 'ENGENHARIA DE SOFTWARE', 'rec': 0.3470319634703196, 'nao_rec': 0.6529680365296804}, {'nome': 'SISTEMA DE INFORMACAO E DECISAO', 'rec': 0.3394495412844037, 'nao_rec': 0.6605504587155964}, {'nome': 'CALCULO NUMERICO', 'rec': 0.3242009132420091, 'nao_rec': 0.6757990867579908}, {'nome': 'INTRODUCAO AO PROC DIGITAL DE IMAGENS', 'rec': 0.3087557603686636, 'nao_rec': 0.6912442396313364}, {'nome': 'BANCO DE DADOS I', 'rec': 0.271889400921659, 'nao_rec': 0.728110599078341}, {'nome': 'INTRODUCAO A INTELIGENCIA ARTIFICIAL', 'rec': 0.271889400921659, 'nao_rec': 0.728110599078341}, {'nome': 'INTERACAO HOMEMMAQUINA', 'rec': 0.2488479262672811, 'nao_rec': 0.7511520737327189}, {'nome': 'INTERACAO HOMEMMAQUINA', 'rec': 0.2488479262672811, 'nao_rec': 0.7511520737327189}, {'nome': 'COMPUTADORES E SOCIEDADE', 'rec': 0.2465753424657534, 'nao_rec': 0.7534246575342466}, {'nome': 'REDES DE COMPUTADORES I', 'rec': 0.2350230414746544, 'nao_rec': 0.7649769585253456}, {'nome': 'TRABALHO DE CONCLUSAO DE CURSO', 'rec': 0.20276497695852536, 'nao_rec': 0.7972350230414746}, {'nome': 'MODELOS PROBABILÍSTICOS P COMPUTAÇÃO', 'rec': 0.1893491124260355, 'nao_rec': 0.8106508875739645}, {'nome': 'ADMINISTRACAO DE SISTEMAS DE INFORMACAO', 'rec': nan, 'nao_rec': nan}, {'nome': 'LINGUA INGLESA I', 'rec': 0.1598173515981735, 'nao_rec': 0.8401826484018264}, {'nome': 'CALCULO NUMERICO', 'rec': nan, 'nao_rec': nan}, {'nome': 'ESTÁGIO SUPERVISIONADO', 'rec': 0.20276497695852536, 'nao_rec': 0.7972350230414746}, {'nome': 'CONSTRUCAO DE COMPILADORES I', 'rec': 0.1917808219178082, 'nao_rec': 0.8082191780821918}, {'nome': 'ANALISE E PROJETO DE ALGORITMOS', 'rec': 0.15207373271889402, 'nao_rec': 0.847926267281106}, {'nome': 'SERIES E EQUACOES DIF ORDINARIAS', 'rec': 0.13559322033898305, 'nao_rec': 0.864406779661017}, {'nome': 'ARQUITETURA DE COMPUTADORES II', 'rec': nan, 'nao_rec': nan}, {'nome': 'CONSTRUÇÃO DE COMPILADORES I', 'rec': nan, 'nao_rec': nan}, {'nome': 'INTRODUÇÃO AO PROCESSAMENTO DIGITAL DE IMAGENS', 'rec': nan, 'nao_rec': nan}, {'nome': 'REDES DE COMPUTADORES I', 'rec': nan, 'nao_rec': nan}]\n"
     ]
    }
   ],
   "source": [
    "relatorio.sort(key=lambda x: x['rec'], reverse=True)\n",
    "\n",
    "print(relatorio)"
   ]
  },
  {
   "cell_type": "markdown",
   "metadata": {},
   "source": [
    "### Salvando relatório"
   ]
  },
  {
   "cell_type": "code",
   "execution_count": 24,
   "metadata": {},
   "outputs": [],
   "source": [
    "relatorio_doc = open('checagem de disciplinas cursadas no recomendado.txt', 'w+')\n",
    "\n",
    "if relatorio_doc.readlines():\n",
    "    print('ARQUIVO JÁ EXISTE!!!')\n",
    "    relatorio.close()\n",
    "    \n",
    "else:\n",
    "    \n",
    "    for disciplina in relatorio:\n",
    "        \n",
    "        relatorio_doc.write('Disciplina: {} \\n\\n'.format(disciplina['nome']))\n",
    "        \n",
    "        relatorio_doc.write('Porcentagem pago no recomendado: {}\\n'.format(disciplina['rec']))\n",
    "        \n",
    "        relatorio_doc.write('Porcentagem não pago no recomendado: {}\\n'.format(disciplina['nao_rec']))\n",
    "        \n",
    "        relatorio_doc.write('-------------------------------------------------------\\n\\n')\n",
    "    \n",
    "    relatorio_doc.close()"
   ]
  }
 ],
 "metadata": {
  "kernelspec": {
   "display_name": "Python 3",
   "language": "python",
   "name": "python3"
  },
  "language_info": {
   "codemirror_mode": {
    "name": "ipython",
    "version": 3
   },
   "file_extension": ".py",
   "mimetype": "text/x-python",
   "name": "python",
   "nbconvert_exporter": "python",
   "pygments_lexer": "ipython3",
   "version": "3.6.8"
  }
 },
 "nbformat": 4,
 "nbformat_minor": 2
}
