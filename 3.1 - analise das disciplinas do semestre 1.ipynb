{
 "cells": [
  {
   "cell_type": "markdown",
   "metadata": {},
   "source": [
    "# Análise das questões levantadas para as disciplinas do P1"
   ]
  },
  {
   "cell_type": "markdown",
   "metadata": {},
   "source": [
    "#### Importando Bibliotecas"
   ]
  },
  {
   "cell_type": "code",
   "execution_count": 1,
   "metadata": {},
   "outputs": [],
   "source": [
    "import pandas as pd\n",
    "from statistics import mean, median, mode, stdev, variance\n",
    "from os import listdir\n",
    "from math import modf"
   ]
  },
  {
   "cell_type": "code",
   "execution_count": 2,
   "metadata": {},
   "outputs": [],
   "source": [
    "import os\n",
    "import sys\n",
    "sys.path.append(os.path.abspath(\"util.py\"))\n",
    "\n",
    "import util\n",
    "import util_extrator_padroes\n",
    "import util_gerador_graficos "
   ]
  },
  {
   "cell_type": "markdown",
   "metadata": {},
   "source": [
    "#### Abrindo Arquivos CSV"
   ]
  },
  {
   "cell_type": "code",
   "execution_count": 3,
   "metadata": {},
   "outputs": [],
   "source": [
    "discentes = util.retorna_discentes()\n",
    "\n",
    "disciplinas = util.retorna_componentes_com_semestre()\n",
    "\n",
    "matriculas_realizadas = util.retorna_matriculas()\n",
    "\n",
    "matriculas_geral = util.retorna_matriculas()"
   ]
  },
  {
   "cell_type": "code",
   "execution_count": 4,
   "metadata": {},
   "outputs": [
    {
     "data": {
      "text/html": [
       "<div>\n",
       "<style scoped>\n",
       "    .dataframe tbody tr th:only-of-type {\n",
       "        vertical-align: middle;\n",
       "    }\n",
       "\n",
       "    .dataframe tbody tr th {\n",
       "        vertical-align: top;\n",
       "    }\n",
       "\n",
       "    .dataframe thead th {\n",
       "        text-align: right;\n",
       "    }\n",
       "</style>\n",
       "<table border=\"1\" class=\"dataframe\">\n",
       "  <thead>\n",
       "    <tr style=\"text-align: right;\">\n",
       "      <th></th>\n",
       "      <th>matricula</th>\n",
       "      <th>cra</th>\n",
       "      <th>periodo_ingresso</th>\n",
       "      <th>descricao</th>\n",
       "      <th>periodo_conclusao</th>\n",
       "    </tr>\n",
       "  </thead>\n",
       "  <tbody>\n",
       "    <tr>\n",
       "      <th>0</th>\n",
       "      <td>18511024</td>\n",
       "      <td>8.18</td>\n",
       "      <td>1985.1</td>\n",
       "      <td>CONCLUÍDO</td>\n",
       "      <td>1988.2</td>\n",
       "    </tr>\n",
       "    <tr>\n",
       "      <th>1</th>\n",
       "      <td>18511029</td>\n",
       "      <td>7.70</td>\n",
       "      <td>1985.1</td>\n",
       "      <td>CONCLUÍDO</td>\n",
       "      <td>1988.2</td>\n",
       "    </tr>\n",
       "    <tr>\n",
       "      <th>2</th>\n",
       "      <td>18511030</td>\n",
       "      <td>9.22</td>\n",
       "      <td>1985.1</td>\n",
       "      <td>CONCLUÍDO</td>\n",
       "      <td>1988.2</td>\n",
       "    </tr>\n",
       "    <tr>\n",
       "      <th>3</th>\n",
       "      <td>18511033</td>\n",
       "      <td>8.31</td>\n",
       "      <td>1985.1</td>\n",
       "      <td>CONCLUÍDO</td>\n",
       "      <td>1988.2</td>\n",
       "    </tr>\n",
       "    <tr>\n",
       "      <th>4</th>\n",
       "      <td>18511035</td>\n",
       "      <td>8.06</td>\n",
       "      <td>1985.1</td>\n",
       "      <td>CONCLUÍDO</td>\n",
       "      <td>1988.2</td>\n",
       "    </tr>\n",
       "  </tbody>\n",
       "</table>\n",
       "</div>"
      ],
      "text/plain": [
       "   matricula   cra  periodo_ingresso  descricao  periodo_conclusao\n",
       "0   18511024  8.18            1985.1  CONCLUÍDO             1988.2\n",
       "1   18511029  7.70            1985.1  CONCLUÍDO             1988.2\n",
       "2   18511030  9.22            1985.1  CONCLUÍDO             1988.2\n",
       "3   18511033  8.31            1985.1  CONCLUÍDO             1988.2\n",
       "4   18511035  8.06            1985.1  CONCLUÍDO             1988.2"
      ]
     },
     "execution_count": 4,
     "metadata": {},
     "output_type": "execute_result"
    }
   ],
   "source": [
    "discentes.head()"
   ]
  },
  {
   "cell_type": "code",
   "execution_count": 5,
   "metadata": {},
   "outputs": [
    {
     "data": {
      "text/html": [
       "<div>\n",
       "<style scoped>\n",
       "    .dataframe tbody tr th:only-of-type {\n",
       "        vertical-align: middle;\n",
       "    }\n",
       "\n",
       "    .dataframe tbody tr th {\n",
       "        vertical-align: top;\n",
       "    }\n",
       "\n",
       "    .dataframe thead th {\n",
       "        text-align: right;\n",
       "    }\n",
       "</style>\n",
       "<table border=\"1\" class=\"dataframe\">\n",
       "  <thead>\n",
       "    <tr style=\"text-align: right;\">\n",
       "      <th></th>\n",
       "      <th>matricula</th>\n",
       "      <th>cra</th>\n",
       "      <th>periodo_ingresso</th>\n",
       "      <th>descricao</th>\n",
       "      <th>periodo_conclusao</th>\n",
       "    </tr>\n",
       "  </thead>\n",
       "  <tbody>\n",
       "    <tr>\n",
       "      <th>483</th>\n",
       "      <td>10611013</td>\n",
       "      <td>8.36</td>\n",
       "      <td>2006.1</td>\n",
       "      <td>CONCLUÍDO</td>\n",
       "      <td>2010.1</td>\n",
       "    </tr>\n",
       "    <tr>\n",
       "      <th>484</th>\n",
       "      <td>10611008</td>\n",
       "      <td>8.82</td>\n",
       "      <td>2006.1</td>\n",
       "      <td>CONCLUÍDO</td>\n",
       "      <td>2009.2</td>\n",
       "    </tr>\n",
       "    <tr>\n",
       "      <th>485</th>\n",
       "      <td>10611431</td>\n",
       "      <td>8.28</td>\n",
       "      <td>2006.1</td>\n",
       "      <td>CONCLUÍDO</td>\n",
       "      <td>2008.2</td>\n",
       "    </tr>\n",
       "    <tr>\n",
       "      <th>486</th>\n",
       "      <td>10611011</td>\n",
       "      <td>8.77</td>\n",
       "      <td>2006.1</td>\n",
       "      <td>CONCLUÍDO</td>\n",
       "      <td>2009.2</td>\n",
       "    </tr>\n",
       "    <tr>\n",
       "      <th>487</th>\n",
       "      <td>10611015</td>\n",
       "      <td>8.49</td>\n",
       "      <td>2006.1</td>\n",
       "      <td>CONCLUÍDO</td>\n",
       "      <td>2010.2</td>\n",
       "    </tr>\n",
       "  </tbody>\n",
       "</table>\n",
       "</div>"
      ],
      "text/plain": [
       "     matricula   cra  periodo_ingresso  descricao  periodo_conclusao\n",
       "483   10611013  8.36            2006.1  CONCLUÍDO             2010.1\n",
       "484   10611008  8.82            2006.1  CONCLUÍDO             2009.2\n",
       "485   10611431  8.28            2006.1  CONCLUÍDO             2008.2\n",
       "486   10611011  8.77            2006.1  CONCLUÍDO             2009.2\n",
       "487   10611015  8.49            2006.1  CONCLUÍDO             2010.2"
      ]
     },
     "execution_count": 5,
     "metadata": {},
     "output_type": "execute_result"
    }
   ],
   "source": [
    "discentes_depois = util.retorna_discentes_depois(discentes=discentes)\n",
    "\n",
    "discentes_depois.head()"
   ]
  },
  {
   "cell_type": "code",
   "execution_count": 6,
   "metadata": {},
   "outputs": [
    {
     "data": {
      "text/plain": [
       "[10611013, 10611008, 10611431, 10611011, 10611015]"
      ]
     },
     "execution_count": 6,
     "metadata": {},
     "output_type": "execute_result"
    }
   ],
   "source": [
    "matriculas_discentes = discentes_depois['matricula'].to_list()\n",
    "\n",
    "matriculas_discentes[:5]"
   ]
  },
  {
   "cell_type": "code",
   "execution_count": 7,
   "metadata": {},
   "outputs": [
    {
     "data": {
      "text/html": [
       "<div>\n",
       "<style scoped>\n",
       "    .dataframe tbody tr th:only-of-type {\n",
       "        vertical-align: middle;\n",
       "    }\n",
       "\n",
       "    .dataframe tbody tr th {\n",
       "        vertical-align: top;\n",
       "    }\n",
       "\n",
       "    .dataframe thead th {\n",
       "        text-align: right;\n",
       "    }\n",
       "</style>\n",
       "<table border=\"1\" class=\"dataframe\">\n",
       "  <thead>\n",
       "    <tr style=\"text-align: right;\">\n",
       "      <th></th>\n",
       "      <th>codigo</th>\n",
       "      <th>nome</th>\n",
       "      <th>ch_total</th>\n",
       "      <th>semestre</th>\n",
       "    </tr>\n",
       "  </thead>\n",
       "  <tbody>\n",
       "    <tr>\n",
       "      <th>0</th>\n",
       "      <td>1101101</td>\n",
       "      <td>COMPLEMENTOS EM FISICA GERAL I</td>\n",
       "      <td>30</td>\n",
       "      <td>NaN</td>\n",
       "    </tr>\n",
       "    <tr>\n",
       "      <th>1</th>\n",
       "      <td>1101107</td>\n",
       "      <td>ESTRUTURA DA MATÉRIA I</td>\n",
       "      <td>60</td>\n",
       "      <td>NaN</td>\n",
       "    </tr>\n",
       "    <tr>\n",
       "      <th>2</th>\n",
       "      <td>1101117</td>\n",
       "      <td>FISICA GERAL I</td>\n",
       "      <td>90</td>\n",
       "      <td>NaN</td>\n",
       "    </tr>\n",
       "    <tr>\n",
       "      <th>3</th>\n",
       "      <td>1101118</td>\n",
       "      <td>FISICA GERAL II</td>\n",
       "      <td>90</td>\n",
       "      <td>NaN</td>\n",
       "    </tr>\n",
       "    <tr>\n",
       "      <th>4</th>\n",
       "      <td>1101119</td>\n",
       "      <td>FISICA GERAL III</td>\n",
       "      <td>90</td>\n",
       "      <td>NaN</td>\n",
       "    </tr>\n",
       "  </tbody>\n",
       "</table>\n",
       "</div>"
      ],
      "text/plain": [
       "    codigo                            nome  ch_total  semestre\n",
       "0  1101101  COMPLEMENTOS EM FISICA GERAL I        30       NaN\n",
       "1  1101107          ESTRUTURA DA MATÉRIA I        60       NaN\n",
       "2  1101117                  FISICA GERAL I        90       NaN\n",
       "3  1101118                 FISICA GERAL II        90       NaN\n",
       "4  1101119                FISICA GERAL III        90       NaN"
      ]
     },
     "execution_count": 7,
     "metadata": {},
     "output_type": "execute_result"
    }
   ],
   "source": [
    "disciplinas.head()"
   ]
  },
  {
   "cell_type": "code",
   "execution_count": 8,
   "metadata": {},
   "outputs": [
    {
     "data": {
      "text/plain": [
       "codigo      291\n",
       "nome        291\n",
       "ch_total    291\n",
       "semestre     62\n",
       "dtype: int64"
      ]
     },
     "execution_count": 8,
     "metadata": {},
     "output_type": "execute_result"
    }
   ],
   "source": [
    "disciplinas.count()"
   ]
  },
  {
   "cell_type": "code",
   "execution_count": 9,
   "metadata": {},
   "outputs": [],
   "source": [
    "periodo_rec = 1"
   ]
  },
  {
   "cell_type": "code",
   "execution_count": 10,
   "metadata": {},
   "outputs": [
    {
     "data": {
      "text/plain": [
       "codigo      7\n",
       "nome        7\n",
       "ch_total    7\n",
       "semestre    7\n",
       "dtype: int64"
      ]
     },
     "execution_count": 10,
     "metadata": {},
     "output_type": "execute_result"
    }
   ],
   "source": [
    "disciplinas = disciplinas[disciplinas['semestre'] == periodo_rec]\n",
    "disciplinas.count()"
   ]
  },
  {
   "cell_type": "code",
   "execution_count": 11,
   "metadata": {},
   "outputs": [
    {
     "data": {
      "text/plain": [
       "['1101167', '1101171', '1103114', '1103118', '1103177']"
      ]
     },
     "execution_count": 11,
     "metadata": {},
     "output_type": "execute_result"
    }
   ],
   "source": [
    "codigos_disciplinas = disciplinas['codigo'].to_list()\n",
    "\n",
    "codigos_disciplinas[:5]"
   ]
  },
  {
   "cell_type": "code",
   "execution_count": 12,
   "metadata": {},
   "outputs": [
    {
     "data": {
      "text/html": [
       "<div>\n",
       "<style scoped>\n",
       "    .dataframe tbody tr th:only-of-type {\n",
       "        vertical-align: middle;\n",
       "    }\n",
       "\n",
       "    .dataframe tbody tr th {\n",
       "        vertical-align: top;\n",
       "    }\n",
       "\n",
       "    .dataframe thead th {\n",
       "        text-align: right;\n",
       "    }\n",
       "</style>\n",
       "<table border=\"1\" class=\"dataframe\">\n",
       "  <thead>\n",
       "    <tr style=\"text-align: right;\">\n",
       "      <th></th>\n",
       "      <th>matricula</th>\n",
       "      <th>periodo_matricula</th>\n",
       "      <th>codigo_componente</th>\n",
       "      <th>descricao</th>\n",
       "      <th>media_final</th>\n",
       "    </tr>\n",
       "  </thead>\n",
       "  <tbody>\n",
       "    <tr>\n",
       "      <th>0</th>\n",
       "      <td>10011003</td>\n",
       "      <td>2000.1</td>\n",
       "      <td>1103114</td>\n",
       "      <td>APROVADO</td>\n",
       "      <td>9.7</td>\n",
       "    </tr>\n",
       "    <tr>\n",
       "      <th>1</th>\n",
       "      <td>10011003</td>\n",
       "      <td>2000.1</td>\n",
       "      <td>1107137</td>\n",
       "      <td>APROVADO</td>\n",
       "      <td>10.0</td>\n",
       "    </tr>\n",
       "    <tr>\n",
       "      <th>2</th>\n",
       "      <td>10011003</td>\n",
       "      <td>2000.1</td>\n",
       "      <td>1103118</td>\n",
       "      <td>APROVADO</td>\n",
       "      <td>9.8</td>\n",
       "    </tr>\n",
       "    <tr>\n",
       "      <th>3</th>\n",
       "      <td>10011003</td>\n",
       "      <td>2000.1</td>\n",
       "      <td>1107136</td>\n",
       "      <td>APROVADO</td>\n",
       "      <td>10.0</td>\n",
       "    </tr>\n",
       "    <tr>\n",
       "      <th>4</th>\n",
       "      <td>10011003</td>\n",
       "      <td>2000.1</td>\n",
       "      <td>1101117</td>\n",
       "      <td>APROVADO</td>\n",
       "      <td>10.0</td>\n",
       "    </tr>\n",
       "  </tbody>\n",
       "</table>\n",
       "</div>"
      ],
      "text/plain": [
       "   matricula  periodo_matricula codigo_componente descricao  media_final\n",
       "0   10011003             2000.1           1103114  APROVADO          9.7\n",
       "1   10011003             2000.1           1107137  APROVADO         10.0\n",
       "2   10011003             2000.1           1103118  APROVADO          9.8\n",
       "3   10011003             2000.1           1107136  APROVADO         10.0\n",
       "4   10011003             2000.1           1101117  APROVADO         10.0"
      ]
     },
     "execution_count": 12,
     "metadata": {},
     "output_type": "execute_result"
    }
   ],
   "source": [
    "matriculas_realizadas.head()"
   ]
  },
  {
   "cell_type": "markdown",
   "metadata": {},
   "source": [
    "### Filtrando as matrículas nas quais os alunos obtiveram sucesso"
   ]
  },
  {
   "cell_type": "code",
   "execution_count": 13,
   "metadata": {},
   "outputs": [
    {
     "data": {
      "text/plain": [
       "matricula            37767\n",
       "periodo_matricula    37767\n",
       "codigo_componente    37767\n",
       "descricao            37767\n",
       "media_final          35939\n",
       "dtype: int64"
      ]
     },
     "execution_count": 13,
     "metadata": {},
     "output_type": "execute_result"
    }
   ],
   "source": [
    "matriculas_realizadas.count()"
   ]
  },
  {
   "cell_type": "code",
   "execution_count": 14,
   "metadata": {},
   "outputs": [],
   "source": [
    "aux = pd.DataFrame()"
   ]
  },
  {
   "cell_type": "code",
   "execution_count": 15,
   "metadata": {},
   "outputs": [
    {
     "data": {
      "text/plain": [
       "True"
      ]
     },
     "execution_count": 15,
     "metadata": {},
     "output_type": "execute_result"
    }
   ],
   "source": [
    "aux.empty"
   ]
  },
  {
   "cell_type": "code",
   "execution_count": 16,
   "metadata": {},
   "outputs": [],
   "source": [
    "aux = aux.append(matriculas_realizadas[matriculas_realizadas['descricao'] == 'APROVADO'])"
   ]
  },
  {
   "cell_type": "code",
   "execution_count": 17,
   "metadata": {},
   "outputs": [],
   "source": [
    "aux = aux.append(matriculas_realizadas[matriculas_realizadas['descricao'] == 'DISPENSADO'])"
   ]
  },
  {
   "cell_type": "code",
   "execution_count": 18,
   "metadata": {},
   "outputs": [],
   "source": [
    "aux = aux.append(matriculas_realizadas[matriculas_realizadas['descricao'] == 'MATRICULADO'])"
   ]
  },
  {
   "cell_type": "code",
   "execution_count": 19,
   "metadata": {},
   "outputs": [],
   "source": [
    "aux = aux.append(matriculas_realizadas[matriculas_realizadas['descricao'] == 'APROVEITADO'])"
   ]
  },
  {
   "cell_type": "code",
   "execution_count": 20,
   "metadata": {},
   "outputs": [
    {
     "data": {
      "text/plain": [
       "matricula            33295\n",
       "periodo_matricula    33295\n",
       "codigo_componente    33295\n",
       "descricao            33295\n",
       "media_final          33256\n",
       "dtype: int64"
      ]
     },
     "execution_count": 20,
     "metadata": {},
     "output_type": "execute_result"
    }
   ],
   "source": [
    "matriculas_realizadas = None\n",
    "\n",
    "matriculas_realizadas = aux\n",
    "\n",
    "matriculas_realizadas.count()"
   ]
  },
  {
   "cell_type": "markdown",
   "metadata": {},
   "source": [
    "### Tratando disciplinas com mais de um registro"
   ]
  },
  {
   "cell_type": "markdown",
   "metadata": {},
   "source": [
    "Disciplinas que precisam desse tratamento:\n",
    "\n",
    "* LOGICA APLC A COMPUTACAO e LOGICA APLICADA A COMPUTACAO\n",
    "\n",
    "* CALCULO NUMERICO (sem nenhuma matricula) e CALCULO NUMERICO e CALCULO NUMERICO\n",
    "\n",
    "* INTRODUCAO AO PROC DIGITAL DE IMAGENS e INTRODUÇÃO AO PROCESSAMENTO DIGITAL DE IMAGENS\n",
    "\n",
    "* ARQUITETURA DE COMPUTADORES II e ARQUITETURA DE COMPUTADORES II\n",
    "\n",
    "* ADM SIST DE INFORMACOES e ADMINISTRACAO DE SISTEMAS DE INFORMACAO\n",
    "\n",
    "* CONSTRUCAO DE COMPILADORES I e CONSTRUÇÃO DE COMPILADORES I\n",
    "\n",
    "* REDES DE COMPUTADORES I e REDES DE COMPUTADORES I\n",
    "\n",
    "* ESTÁGIO SUPERVISIONADO e ESTAGIO SUPERVISIONADO\n",
    "\n",
    "* FISICA APLICADA A COMPUTACAO I (de 60 creditos e de 90 creditos)\n",
    "\n",
    "* FISICA APLICADA A COMPUTACAO II (de 60 creditos e de 90 creditos)\n",
    "\n",
    "* CALCULO I (de 60 creditos e de 90 creditos)\n",
    "\n",
    "* CALCULO II (de 60 creditos e de 90 creditos)\n",
    "\n",
    "* CALCULO III (de 60 creditos e de 90 creditos)\n",
    "\n",
    "* CIRCUITOS (de 60 creditos e de 90 creditos)\n",
    "\n",
    "* INTRODUCAO A ALGEBRA LINEAR e ALGEBRA LIN GEO ANALITICA "
   ]
  },
  {
   "cell_type": "code",
   "execution_count": 21,
   "metadata": {},
   "outputs": [
    {
     "name": "stdout",
     "output_type": "stream",
     "text": [
      "['1101167', '1101171']\n",
      "['1103114', '1103177']\n"
     ]
    },
    {
     "data": {
      "text/plain": [
       "\"estagio = []\\nestagio.append(disciplinas[disciplinas['nome'] == 'ESTÁGIO SUPERVISIONADO']['codigo'].iloc[0])\\nestagio.append(disciplinas[disciplinas['nome'] == 'ESTAGIO SUPERVISIONADO']['codigo'].iloc[0])\\nprint(estagio)\""
      ]
     },
     "execution_count": 21,
     "metadata": {},
     "output_type": "execute_result"
    }
   ],
   "source": [
    "fisica1 = []\n",
    "fisica1 = disciplinas[disciplinas['nome'] == 'FISICA APLICADA A COMPUTACAO I']['codigo'].to_list()\n",
    "print(fisica1)\n",
    "\n",
    "calc1 = []\n",
    "calc1 = disciplinas[disciplinas['nome'] == 'CALCULO DIFERENCIAL E INTEGRAL I']['codigo'].to_list()\n",
    "print(calc1)\n",
    "\n",
    "'''fisica2 = []\n",
    "fisica2 = disciplinas[disciplinas['nome'] == 'FISICA APLICADA A COMPUTACAO II']['codigo'].to_list()\n",
    "print(fisica2)\n",
    "\n",
    "calc2 = []\n",
    "calc2 = disciplinas[disciplinas['nome'] == 'CALCULO DIFERENCIAL E INTEGRAL II']['codigo'].to_list()\n",
    "print(calc2)\n",
    "\n",
    "algebra = []\n",
    "algebra.append(disciplinas[disciplinas['nome'] == 'INTRODUCAO A ALGEBRA LINEAR']['codigo'].iloc[0])\n",
    "algebra.append(disciplinas[disciplinas['nome'] == 'ALGEBRA LIN GEO ANALITICA']['codigo'].iloc[0])\n",
    "print(algebra)\n",
    "\n",
    "logica = []\n",
    "logica.append(disciplinas[disciplinas['nome'] == 'LOGICA APLC A COMPUTACAO']['codigo'].iloc[0])\n",
    "logica.append(disciplinas[disciplinas['nome'] == 'LOGICA APLICADA A COMPUTACAO']['codigo'].iloc[0])\n",
    "print(logica)\n",
    "'''\n",
    "'''calc3 = []\n",
    "calc3.append(disciplinas[disciplinas['nome'] == 'CALCULO DIF  E INTEGRAL III']['codigo'].iloc[0])\n",
    "calc3.append(disciplinas[disciplinas['nome'] == 'CALCULO DIFERENCIAL E INTEGRAL III']['codigo'].iloc[0])\n",
    "print(calc3)\n",
    "\n",
    "cl = []\n",
    "cl = disciplinas[disciplinas['nome'] == 'CIRCUITOS LOGICOS']['codigo'].to_list()\n",
    "print(cl)'''\n",
    "\n",
    "'''numerico = []\n",
    "numerico = disciplinas[disciplinas['nome'] == 'CALCULO NUMERICO']['codigo'].to_list()\n",
    "print(numerico)\n",
    "\n",
    "pdi = []\n",
    "pdi.append(disciplinas[disciplinas['nome'] == 'INTRODUCAO AO PROC DIGITAL DE IMAGENS']['codigo'].iloc[0])\n",
    "pdi.append(disciplinas[disciplinas['nome'] == 'INTRODUÇÃO AO PROCESSAMENTO DIGITAL DE IMAGENS']['codigo'].iloc[0])\n",
    "print(pdi)'''\n",
    "\n",
    "'''arq2 = []\n",
    "arq2 = disciplinas[disciplinas['nome'] == 'ARQUITETURA DE COMPUTADORES II']['codigo'].to_list()\n",
    "print(arq2)'''\n",
    "\n",
    "'''redes = []\n",
    "redes = disciplinas[disciplinas['nome'] == 'REDES DE COMPUTADORES I']['codigo'].to_list()\n",
    "print(redes)\n",
    "\n",
    "admsi = []\n",
    "admsi.append(disciplinas[disciplinas['nome'] == 'ADM SIST DE INFORMACOES']['codigo'].iloc[0])\n",
    "admsi.append(disciplinas[disciplinas['nome'] == 'ADMINISTRACAO DE SISTEMAS DE INFORMACAO']['codigo'].iloc[0])\n",
    "print(admsi)\n",
    "\n",
    "comp = []\n",
    "comp.append(disciplinas[disciplinas['nome'] == 'CONSTRUCAO DE COMPILADORES I']['codigo'].iloc[0])\n",
    "comp.append(disciplinas[disciplinas['nome'] == 'CONSTRUÇÃO DE COMPILADORES I']['codigo'].iloc[0])\n",
    "print(comp)'''\n",
    "\n",
    "'''estagio = []\n",
    "estagio.append(disciplinas[disciplinas['nome'] == 'ESTÁGIO SUPERVISIONADO']['codigo'].iloc[0])\n",
    "estagio.append(disciplinas[disciplinas['nome'] == 'ESTAGIO SUPERVISIONADO']['codigo'].iloc[0])\n",
    "print(estagio)'''"
   ]
  },
  {
   "cell_type": "code",
   "execution_count": 22,
   "metadata": {},
   "outputs": [
    {
     "name": "stdout",
     "output_type": "stream",
     "text": [
      "Disciplina(s) ['1101167'] mapeadas para o código 1101171\n",
      "Disciplina(s) ['1103114'] mapeadas para o código 1103177\n",
      "Disciplina(s) ['1101167'] mapeadas para o código 1101171\n",
      "Disciplina(s) ['1103114'] mapeadas para o código 1103177\n"
     ]
    },
    {
     "data": {
      "text/plain": [
       "'estagio, matriculas_realizadas = util.mapeia_disciplina(estagio.copy(), matriculas_realizadas)'"
      ]
     },
     "execution_count": 22,
     "metadata": {},
     "output_type": "execute_result"
    }
   ],
   "source": [
    "fisica1_aux, matriculas_realizadas = util.mapeia_disciplina(fisica1.copy(), matriculas_realizadas)\n",
    "calc1_aux, matriculas_realizadas = util.mapeia_disciplina(calc1.copy(), matriculas_realizadas)\n",
    "\n",
    "fisica1_aux, matriculas_geral = util.mapeia_disciplina(fisica1.copy(), matriculas_geral)\n",
    "calc1_aux, matriculas_geral = util.mapeia_disciplina(calc1.copy(), matriculas_geral)\n",
    "\n",
    "'''fisica2_aux, matriculas_realizadas = util.mapeia_disciplina(fisica2.copy(), matriculas_realizadas)\n",
    "calc2_aux, matriculas_realizadas = util.mapeia_disciplina(calc2.copy(), matriculas_realizadas)\n",
    "algebra_aux, matriculas_realizadas = util.mapeia_disciplina(algebra.copy(), matriculas_realizadas)\n",
    "logica_aux, matriculas_realizadas = util.mapeia_disciplina(logica.copy(), matriculas_realizadas)\n",
    "\n",
    "fisica2_aux, matriculas_geral = util.mapeia_disciplina(fisica2.copy(), matriculas_geral)\n",
    "calc2_aux, matriculas_geral = util.mapeia_disciplina(calc2.copy(), matriculas_geral)\n",
    "algebra_aux, matriculas_geral = util.mapeia_disciplina(algebra.copy(), matriculas_geral)\n",
    "logica_aux, matriculas_geral = util.mapeia_disciplina(logica.copy(), matriculas_geral)'''\n",
    "\n",
    "'''calc3, matriculas_realizadas = util.mapeia_disciplina(calc3.copy(), matriculas_realizadas)\n",
    "cl, matriculas_realizadas = util.mapeia_disciplina(cl.copy(), matriculas_realizadas)'''\n",
    "\n",
    "'''numerico, matriculas_realizadas = util.mapeia_disciplina(numerico.copy(), matriculas_realizadas)\n",
    "pdi, matriculas_realizadas = util.mapeia_disciplina(pdi.copy(), matriculas_realizadas)'''\n",
    "\n",
    "'''arq2, matriculas_realizadas = util.mapeia_disciplina(arq2.copy(), matriculas_realizadas)'''\n",
    "\n",
    "'''redes, matriculas_realizadas = util.mapeia_disciplina(redes.copy(), matriculas_realizadas)\n",
    "admsi, matriculas_realizadas = util.mapeia_disciplina(admsi.copy(), matriculas_realizadas)\n",
    "comp, matriculas_realizadas = util.mapeia_disciplina(comp.copy(), matriculas_realizadas)'''\n",
    "\n",
    "'''estagio, matriculas_realizadas = util.mapeia_disciplina(estagio.copy(), matriculas_realizadas)'''"
   ]
  },
  {
   "cell_type": "markdown",
   "metadata": {},
   "source": [
    "### Disciplinas que serão analisadas"
   ]
  },
  {
   "cell_type": "code",
   "execution_count": 23,
   "metadata": {
    "scrolled": true
   },
   "outputs": [
    {
     "name": "stdout",
     "output_type": "stream",
     "text": [
      "1101167\n",
      "FISICA APLICADA A COMPUTACAO I\n",
      "1101171\n",
      "FISICA APLICADA A COMPUTACAO I\n",
      "1103114\n",
      "CALCULO DIFERENCIAL E INTEGRAL I\n",
      "1103118\n",
      "CALCULO VET GEO ANALITICA\n",
      "1103177\n",
      "CALCULO DIFERENCIAL E INTEGRAL I\n",
      "1107136\n",
      "INTRODUCAO A PROGRAMACAO\n",
      "1107137\n",
      "INTRODUCAO AO COMPUTADOR\n"
     ]
    }
   ],
   "source": [
    "for disciplina in codigos_disciplinas:\n",
    "    print((disciplina))\n",
    "    print(disciplinas[disciplinas['codigo'] == disciplina]['nome'].iloc[0])\n",
    "    \n",
    "codigos_disciplinas.remove('1101167')\n",
    "codigos_disciplinas.remove('1103114')"
   ]
  },
  {
   "cell_type": "code",
   "execution_count": 24,
   "metadata": {
    "scrolled": true
   },
   "outputs": [
    {
     "name": "stdout",
     "output_type": "stream",
     "text": [
      "1101171\n",
      "FISICA APLICADA A COMPUTACAO I\n",
      "1103118\n",
      "CALCULO VET GEO ANALITICA\n",
      "1103177\n",
      "CALCULO DIFERENCIAL E INTEGRAL I\n",
      "1107136\n",
      "INTRODUCAO A PROGRAMACAO\n",
      "1107137\n",
      "INTRODUCAO AO COMPUTADOR\n"
     ]
    }
   ],
   "source": [
    "for disciplina in codigos_disciplinas:\n",
    "    print((disciplina))\n",
    "    print(disciplinas[disciplinas['codigo'] == disciplina]['nome'].iloc[0])"
   ]
  },
  {
   "cell_type": "markdown",
   "metadata": {},
   "source": [
    "### Gerando relatório"
   ]
  },
  {
   "cell_type": "code",
   "execution_count": 25,
   "metadata": {},
   "outputs": [
    {
     "name": "stdout",
     "output_type": "stream",
     "text": [
      "219\n",
      "219\n",
      "219\n",
      "219\n",
      "219\n"
     ]
    }
   ],
   "source": [
    "relatorio = []\n",
    "\n",
    "for codigo in codigos_disciplinas:\n",
    "    \n",
    "    relatorio_disciplina = {'nome': None, 'rec': None, 'nao_rec': None, 'alunos_nao_rec': []}\n",
    "\n",
    "    aux = matriculas_realizadas[matriculas_realizadas['codigo_componente'] == codigo]\n",
    "\n",
    "    disciplina = disciplinas[disciplinas['codigo'] == codigo]['nome'].iloc[0]\n",
    "\n",
    "    periodo_recomendado = int(disciplinas[disciplinas['codigo'] == codigo]['semestre'].iloc[0])\n",
    "\n",
    "    relatorio_disciplina['nome'] = disciplina\n",
    "\n",
    "    matriculas = aux.count().iloc[0]\n",
    "        \n",
    "    #matriculas = 1\n",
    "\n",
    "    rec = 0\n",
    "    nao_rec = 0\n",
    "    \n",
    "    alunos_nao_rec = []\n",
    "\n",
    "    for row in aux.iterrows():\n",
    "\n",
    "        #print(row[1])\n",
    "        #print()\n",
    "\n",
    "        aluno = row[1]['matricula']\n",
    "\n",
    "        if aluno not in matriculas_discentes:\n",
    "            matriculas -= 1\n",
    "            continue\n",
    "\n",
    "        else:\n",
    "                \n",
    "            periodo_matricula = row[1]['periodo_matricula']\n",
    "            periodo_ingresso = discentes_depois[discentes_depois['matricula'] == aluno]['periodo_ingresso'].iloc[0]\n",
    "\n",
    "            periodo_cursou = util.retorna_tempo_graduacao(periodo_ingresso, periodo_matricula)\n",
    "\n",
    "            #print('rec: {} matri: {} ingre: {} cursou: {}'.format(periodo_recomendado, periodo_matricula, periodo_ingresso, periodo_cursou))\n",
    "\n",
    "            if periodo_cursou == periodo_recomendado:\n",
    "                rec += 1\n",
    "\n",
    "            else:\n",
    "                nao_rec += 1\n",
    "                alunos_nao_rec.append(aluno)\n",
    "                    \n",
    "            #matriculas += 1\n",
    "\n",
    "    \n",
    "    relatorio_disciplina['rec'] = rec/matriculas\n",
    "    relatorio_disciplina['nao_rec'] = nao_rec/matriculas\n",
    "    relatorio_disciplina['alunos_nao_rec'] = alunos_nao_rec\n",
    "    print(matriculas)\n",
    "    \n",
    "    relatorio.append(relatorio_disciplina)"
   ]
  },
  {
   "cell_type": "markdown",
   "metadata": {},
   "source": [
    "### Analisando Introdução ao Computador"
   ]
  },
  {
   "cell_type": "code",
   "execution_count": 26,
   "metadata": {},
   "outputs": [],
   "source": [
    "codigo = '1107137'"
   ]
  },
  {
   "cell_type": "code",
   "execution_count": 27,
   "metadata": {},
   "outputs": [
    {
     "name": "stdout",
     "output_type": "stream",
     "text": [
      "INTRODUCAO AO COMPUTADOR\n"
     ]
    },
    {
     "data": {
      "text/plain": [
       "[10921372,\n",
       " 11118146,\n",
       " 11218638,\n",
       " 11311862,\n",
       " 10611015,\n",
       " 10621014,\n",
       " 10621235,\n",
       " 10621364,\n",
       " 11021068]"
      ]
     },
     "execution_count": 27,
     "metadata": {},
     "output_type": "execute_result"
    }
   ],
   "source": [
    "print(relatorio[4]['nome'])\n",
    "\n",
    "alunos_nao_rec = relatorio[4]['alunos_nao_rec']\n",
    "\n",
    "alunos_nao_rec"
   ]
  },
  {
   "cell_type": "code",
   "execution_count": 28,
   "metadata": {
    "scrolled": true
   },
   "outputs": [
    {
     "name": "stdout",
     "output_type": "stream",
     "text": [
      "     matricula   cra  periodo_ingresso  descricao  periodo_conclusao\n",
      "576   10921372  8.01            2009.2  CONCLUÍDO             2015.1\n",
      "       matricula  periodo_matricula codigo_componente descricao  media_final\n",
      "16006   10921372             2011.1           1107137  APROVADO          7.5\n",
      "\n",
      "     matricula  cra  periodo_ingresso  descricao  periodo_conclusao\n",
      "624   11118146  8.1            2011.1  CONCLUÍDO             2017.1\n",
      "       matricula  periodo_matricula codigo_componente descricao  media_final\n",
      "18850   11118146             2011.1           1107137  TRANCADO          0.0\n",
      "18854   11118146             2011.2           1107137  APROVADO          6.8\n",
      "\n",
      "     matricula   cra  periodo_ingresso  descricao  periodo_conclusao\n",
      "651   11218638  8.75            2012.1  CONCLUÍDO             2016.2\n",
      "       matricula  periodo_matricula codigo_componente descricao  media_final\n",
      "21097   11218638             2012.2           1107137  APROVADO          8.8\n",
      "\n",
      "     matricula   cra  periodo_ingresso  descricao  periodo_conclusao\n",
      "670   11311862  8.11            2013.1  CONCLUÍDO             2017.2\n",
      "       matricula  periodo_matricula codigo_componente descricao  media_final\n",
      "22369   11311862             2013.2           1107137  APROVADO          7.8\n",
      "\n",
      "     matricula   cra  periodo_ingresso  descricao  periodo_conclusao\n",
      "487   10611015  8.49            2006.1  CONCLUÍDO             2010.2\n",
      "       matricula  periodo_matricula codigo_componente   descricao  media_final\n",
      "11178   10611015             2006.2           1107137  DISPENSADO          8.3\n",
      "\n",
      "     matricula   cra  periodo_ingresso  descricao  periodo_conclusao\n",
      "505   10621014  7.83            2006.2  CONCLUÍDO             2010.2\n",
      "       matricula  periodo_matricula codigo_componente   descricao  media_final\n",
      "11910   10621014             2007.1           1107137  DISPENSADO          7.8\n",
      "\n",
      "     matricula   cra  periodo_ingresso  descricao  periodo_conclusao\n",
      "509   10621235  6.94            2006.2  CONCLUÍDO             2008.1\n",
      "       matricula  periodo_matricula codigo_componente   descricao  media_final\n",
      "12368   10621235             2006.2           1107137    TRANCADO          NaN\n",
      "12393   10621235             2007.1           1107137  DISPENSADO          8.0\n",
      "\n",
      "     matricula   cra  periodo_ingresso  descricao  periodo_conclusao\n",
      "506   10621364  7.65            2006.2  CONCLUÍDO             2010.2\n",
      "       matricula  periodo_matricula codigo_componente   descricao  media_final\n",
      "12603   10621364             2007.1           1107137  DISPENSADO         10.0\n",
      "\n",
      "     matricula  cra  periodo_ingresso  descricao  periodo_conclusao\n",
      "607   11021068  5.6            2010.2  CONCLUÍDO             2016.2\n",
      "       matricula  periodo_matricula codigo_componente   descricao  media_final\n",
      "17621   11021068             2010.2           1107137  REP. FALTA          0.0\n",
      "17631   11021068             2011.1           1107137  DISPENSADO          5.5\n",
      "\n"
     ]
    }
   ],
   "source": [
    "for aluno in alunos_nao_rec:\n",
    "    print(discentes_depois[discentes_depois['matricula'] == aluno])\n",
    "    aux = matriculas_geral[matriculas_geral['matricula'] == aluno]\n",
    "    aux = aux[aux['codigo_componente'] == codigo]\n",
    "    print(aux)\n",
    "    \n",
    "    print()"
   ]
  },
  {
   "cell_type": "code",
   "execution_count": 29,
   "metadata": {},
   "outputs": [],
   "source": [
    "aux = util_extrator_padroes.porcentagem_por_periodo(alunos_nao_rec, discentes_depois, matriculas_realizadas, codigo,\n",
    "                            periodo_rec=periodo_rec)"
   ]
  },
  {
   "cell_type": "code",
   "execution_count": 30,
   "metadata": {},
   "outputs": [
    {
     "data": {
      "text/plain": [
       "[0.0, 0.8888888888888888, 0.0, 0.1111111111111111]"
      ]
     },
     "execution_count": 30,
     "metadata": {},
     "output_type": "execute_result"
    }
   ],
   "source": [
    "aux"
   ]
  },
  {
   "cell_type": "code",
   "execution_count": 31,
   "metadata": {},
   "outputs": [
    {
     "data": {
      "text/plain": [
       "1.0"
      ]
     },
     "execution_count": 31,
     "metadata": {},
     "output_type": "execute_result"
    }
   ],
   "source": [
    "sum(aux)"
   ]
  },
  {
   "cell_type": "code",
   "execution_count": 32,
   "metadata": {},
   "outputs": [
    {
     "data": {
      "image/png": "[encoded data removed]",
      "text/plain": [
       "<Figure size 432x288 with 1 Axes>"
      ]
     },
     "metadata": {
      "needs_background": "light"
     },
     "output_type": "display_data"
    }
   ],
   "source": [
    "util_gerador_graficos.plot_ditribuicao_alunos(aux)"
   ]
  },
  {
   "cell_type": "code",
   "execution_count": 33,
   "metadata": {},
   "outputs": [],
   "source": [
    "aux = util_extrator_padroes.porcentagem_por_situacao(alunos_nao_rec, discentes_depois, matriculas_geral, codigo,\n",
    "                            periodo_rec=periodo_rec)"
   ]
  },
  {
   "cell_type": "code",
   "execution_count": 34,
   "metadata": {},
   "outputs": [
    {
     "data": {
      "text/plain": [
       "{'APROVADO': 0.3333333333333333,\n",
       " 'TRANCADO': 0.2222222222222222,\n",
       " 'DISPENSADO': 0.3333333333333333,\n",
       " 'REP. FALTA': 0.1111111111111111}"
      ]
     },
     "execution_count": 34,
     "metadata": {},
     "output_type": "execute_result"
    }
   ],
   "source": [
    "aux"
   ]
  },
  {
   "cell_type": "markdown",
   "metadata": {},
   "source": [
    "### Analisando Introdução a Prog"
   ]
  },
  {
   "cell_type": "code",
   "execution_count": 35,
   "metadata": {},
   "outputs": [],
   "source": [
    "codigo = '1107136'"
   ]
  },
  {
   "cell_type": "code",
   "execution_count": 36,
   "metadata": {},
   "outputs": [
    {
     "name": "stdout",
     "output_type": "stream",
     "text": [
      "INTRODUCAO A PROGRAMACAO\n"
     ]
    },
    {
     "data": {
      "text/plain": [
       "[10711027,\n",
       " 10711029,\n",
       " 10721015,\n",
       " 10921072,\n",
       " 10921372,\n",
       " 10921378,\n",
       " 11021057,\n",
       " 11021059,\n",
       " 11021067,\n",
       " 11021445,\n",
       " 11021593,\n",
       " 11111298,\n",
       " 11118146,\n",
       " 11118204,\n",
       " 11118209,\n",
       " 11121191,\n",
       " 11121223,\n",
       " 11121705,\n",
       " 11121911,\n",
       " 11121912,\n",
       " 11121914,\n",
       " 11218638,\n",
       " 11218649,\n",
       " 11221240,\n",
       " 11221998,\n",
       " 11318739,\n",
       " 10621235,\n",
       " 10621363]"
      ]
     },
     "execution_count": 36,
     "metadata": {},
     "output_type": "execute_result"
    }
   ],
   "source": [
    "print(relatorio[3]['nome'])\n",
    "\n",
    "alunos_nao_rec = relatorio[3]['alunos_nao_rec']\n",
    "\n",
    "alunos_nao_rec"
   ]
  },
  {
   "cell_type": "code",
   "execution_count": 37,
   "metadata": {
    "scrolled": true
   },
   "outputs": [
    {
     "name": "stdout",
     "output_type": "stream",
     "text": [
      "     matricula   cra  periodo_ingresso  descricao  periodo_conclusao\n",
      "519   10711027  7.75            2007.1  CONCLUÍDO             2012.1\n",
      "       matricula  periodo_matricula codigo_componente  descricao  media_final\n",
      "13162   10711027             2007.1           1107136  REPROVADO          4.8\n",
      "13172   10711027             2007.2           1107136   APROVADO          7.7\n",
      "\n",
      "     matricula   cra  periodo_ingresso  descricao  periodo_conclusao\n",
      "524   10711029  7.29            2007.1  CONCLUÍDO             2011.2\n",
      "       matricula  periodo_matricula codigo_componente  descricao  media_final\n",
      "13281   10711029             2007.1           1107136  REPROVADO          4.8\n",
      "13286   10711029             2007.2           1107136   APROVADO          6.9\n",
      "\n",
      "     matricula   cra  periodo_ingresso  descricao  periodo_conclusao\n",
      "536   10721015  8.08            2007.2  CONCLUÍDO             2011.2\n",
      "       matricula  periodo_matricula codigo_componente  descricao  media_final\n",
      "13712   10721015             2007.2           1107136  REPROVADO          4.4\n",
      "13714   10721015             2008.1           1107136   APROVADO          8.9\n",
      "\n",
      "     matricula   cra  periodo_ingresso  descricao  periodo_conclusao\n",
      "568   10921072  6.82            2009.2  CONCLUÍDO             2014.1\n",
      "       matricula  periodo_matricula codigo_componente   descricao  media_final\n",
      "15746   10921072             2009.2           1107136  REP. FALTA          0.0\n",
      "15755   10921072             2010.1           1107136    APROVADO          6.0\n",
      "\n",
      "     matricula   cra  periodo_ingresso  descricao  periodo_conclusao\n",
      "576   10921372  8.01            2009.2  CONCLUÍDO             2015.1\n",
      "       matricula  periodo_matricula codigo_componente descricao  media_final\n",
      "15993   10921372             2010.1           1107136  TRANCADO          NaN\n",
      "15998   10921372             2010.2           1107136  APROVADO          8.9\n",
      "\n",
      "     matricula   cra  periodo_ingresso  descricao  periodo_conclusao\n",
      "577   10921378  6.73            2009.2  CONCLUÍDO             2015.1\n",
      "       matricula  periodo_matricula codigo_componente  descricao  media_final\n",
      "16101   10921378             2009.2           1107136  REPROVADO          3.2\n",
      "16106   10921378             2010.1           1107136   APROVADO          6.9\n",
      "\n",
      "     matricula   cra  periodo_ingresso  descricao  periodo_conclusao\n",
      "610   11021057  6.83            2010.2  CONCLUÍDO             2015.2\n",
      "       matricula  periodo_matricula codigo_componente  descricao  media_final\n",
      "17266   11021057             2010.2           1107136  REPROVADO          3.2\n",
      "17272   11021057             2011.1           1107136   APROVADO          6.5\n",
      "\n",
      "     matricula   cra  periodo_ingresso  descricao  periodo_conclusao\n",
      "609   11021059  6.98            2010.2  CONCLUÍDO             2015.2\n",
      "       matricula  periodo_matricula codigo_componente  descricao  media_final\n",
      "17335   11021059             2010.2           1107136  REPROVADO          2.4\n",
      "17339   11021059             2011.1           1107136   APROVADO          7.0\n",
      "\n",
      "     matricula   cra  periodo_ingresso  descricao  periodo_conclusao\n",
      "613   11021067  7.93            2010.2  CONCLUÍDO             2015.2\n",
      "       matricula  periodo_matricula codigo_componente  descricao  media_final\n",
      "17561   11021067             2010.2           1107136  REPROVADO          2.5\n",
      "17564   11021067             2011.1           1107136   APROVADO          8.1\n",
      "\n",
      "     matricula   cra  periodo_ingresso  descricao  periodo_conclusao\n",
      "605   11021445  6.99            2010.2  CONCLUÍDO             2015.1\n",
      "       matricula  periodo_matricula codigo_componente  descricao  media_final\n",
      "17921   11021445             2010.2           1107136  REPROVADO          3.6\n",
      "17931   11021445             2011.1           1107136   APROVADO          5.8\n",
      "\n",
      "     matricula   cra  periodo_ingresso  descricao  periodo_conclusao\n",
      "606   11021593  4.94            2010.2  CONCLUÍDO             2017.2\n",
      "       matricula  periodo_matricula codigo_componente  descricao  media_final\n",
      "18033   11021593             2010.2           1107136  REPROVADO          3.1\n",
      "18041   11021593             2011.1           1107136   APROVADO          5.3\n",
      "\n",
      "     matricula   cra  periodo_ingresso  descricao  periodo_conclusao\n",
      "621   11111298  6.65            2011.1  CONCLUÍDO             2015.2\n",
      "       matricula  periodo_matricula codigo_componente  descricao  media_final\n",
      "18335   11111298             2011.1           1107136  REPROVADO          2.4\n",
      "18340   11111298             2011.2           1107136   APROVADO          6.9\n",
      "\n",
      "     matricula  cra  periodo_ingresso  descricao  periodo_conclusao\n",
      "624   11118146  8.1            2011.1  CONCLUÍDO             2017.1\n",
      "       matricula  periodo_matricula codigo_componente descricao  media_final\n",
      "18848   11118146             2011.1           1107136  TRANCADO          0.0\n",
      "18855   11118146             2011.2           1107136  APROVADO          9.3\n",
      "\n",
      "     matricula   cra  periodo_ingresso  descricao  periodo_conclusao\n",
      "618   11118204  4.76            2011.1  CONCLUÍDO             2018.1\n",
      "       matricula  periodo_matricula codigo_componente  descricao  media_final\n",
      "19132   11118204             2011.1           1107136  REPROVADO          1.3\n",
      "19135   11118204             2011.2           1107136   APROVADO          5.0\n",
      "\n",
      "     matricula  cra  periodo_ingresso  descricao  periodo_conclusao\n",
      "622   11118209  6.5            2011.1  CONCLUÍDO             2016.1\n",
      "       matricula  periodo_matricula codigo_componente  descricao  media_final\n",
      "19283   11118209             2011.1           1107136  REPROVADO          1.0\n",
      "19288   11118209             2011.2           1107136   APROVADO          7.0\n",
      "\n",
      "     matricula   cra  periodo_ingresso  descricao  periodo_conclusao\n",
      "642   11121191  5.98            2011.2  CONCLUÍDO             2017.1\n",
      "       matricula  periodo_matricula codigo_componente  descricao  media_final\n",
      "19354   11121191             2011.2           1107136  REPROVADO         2.00\n",
      "19358   11121191             2012.1           1107136   APROVADO         9.79\n",
      "\n",
      "     matricula   cra  periodo_ingresso  descricao  periodo_conclusao\n",
      "631   11121223  6.62            2011.2  CONCLUÍDO             2017.1\n",
      "       matricula  periodo_matricula codigo_componente  descricao  media_final\n",
      "19847   11121223             2011.2           1107136  REPROVADO          2.4\n",
      "19848   11121223             2012.1           1107136   APROVADO          7.8\n",
      "\n",
      "     matricula   cra  periodo_ingresso  descricao  periodo_conclusao\n",
      "634   11121705  6.27            2011.2  CONCLUÍDO             2017.1\n",
      "       matricula  periodo_matricula codigo_componente  descricao  media_final\n",
      "20048   11121705             2011.2           1107136  REPROVADO         3.00\n",
      "20058   11121705             2012.1           1107136  REPROVADO         3.94\n",
      "20062   11121705             2012.2           1107136   APROVADO         9.20\n",
      "\n",
      "     matricula   cra  periodo_ingresso  descricao  periodo_conclusao\n",
      "639   11121911  5.59            2011.2  CONCLUÍDO             2018.1\n",
      "       matricula  periodo_matricula codigo_componente   descricao  media_final\n",
      "20137   11121911             2011.2           1107136   REPROVADO         2.20\n",
      "20139   11121911             2012.1           1107136  REP. FALTA         0.00\n",
      "20146   11121911             2012.2           1107136    APROVADO         7.42\n",
      "\n",
      "     matricula   cra  periodo_ingresso  descricao  periodo_conclusao\n",
      "632   11121912  6.34            2011.2  CONCLUÍDO             2017.1\n",
      "       matricula  periodo_matricula codigo_componente   descricao  media_final\n",
      "20214   11121912             2011.2           1107136  REP. FALTA          0.0\n",
      "20221   11121912             2012.1           1107136    APROVADO          7.0\n",
      "\n",
      "     matricula   cra  periodo_ingresso  descricao  periodo_conclusao\n",
      "640   11121914  6.04            2011.2  CONCLUÍDO             2017.1\n",
      "       matricula  periodo_matricula codigo_componente  descricao  media_final\n",
      "20288   11121914             2011.2           1107136  REPROVADO          3.5\n",
      "20291   11121914             2012.1           1107136   APROVADO          5.0\n",
      "\n",
      "     matricula   cra  periodo_ingresso  descricao  periodo_conclusao\n",
      "651   11218638  8.75            2012.1  CONCLUÍDO             2016.2\n",
      "       matricula  periodo_matricula codigo_componente descricao  media_final\n",
      "21093   11218638             2012.1           1107136  TRANCADO          0.0\n",
      "21098   11218638             2012.2           1107136  APROVADO          9.2\n",
      "\n",
      "     matricula   cra  periodo_ingresso  descricao  periodo_conclusao\n",
      "658   11218649  6.26            2012.1  CONCLUÍDO             2017.2\n",
      "       matricula  periodo_matricula codigo_componente  descricao  media_final\n",
      "21287   11218649             2012.1           1107136  REPROVADO          2.5\n",
      "21295   11218649             2012.2           1107136   APROVADO          9.2\n",
      "\n",
      "     matricula   cra  periodo_ingresso  descricao  periodo_conclusao\n",
      "668   11221240  7.33            2012.2  CONCLUÍDO             2016.2\n"
     ]
    },
    {
     "name": "stdout",
     "output_type": "stream",
     "text": [
      "       matricula  periodo_matricula codigo_componente  descricao  media_final\n",
      "21605   11221240             2012.2           1107136  REPROVADO          3.8\n",
      "21611   11221240             2013.1           1107136   APROVADO          8.6\n",
      "\n",
      "     matricula  cra  periodo_ingresso         descricao  periodo_conclusao\n",
      "666   11221998  5.1            2012.2  ATIVO - FORMANDO             2018.2\n",
      "       matricula  periodo_matricula codigo_componente  descricao  media_final\n",
      "21792   11221998             2012.2           1107136  REPROVADO          3.1\n",
      "21801   11221998             2013.1           1107136   APROVADO         10.0\n",
      "\n",
      "     matricula   cra  periodo_ingresso  descricao  periodo_conclusao\n",
      "673   11318739  7.54            2013.1  CONCLUÍDO             2017.2\n",
      "       matricula  periodo_matricula codigo_componente  descricao  media_final\n",
      "22480   11318739             2013.1           1107136  REPROVADO          2.4\n",
      "22489   11318739             2013.2           1107136   APROVADO          9.4\n",
      "\n",
      "     matricula   cra  periodo_ingresso  descricao  periodo_conclusao\n",
      "509   10621235  6.94            2006.2  CONCLUÍDO             2008.1\n",
      "       matricula  periodo_matricula codigo_componente   descricao  media_final\n",
      "12381   10621235             2006.2           1107136    TRANCADO          NaN\n",
      "12391   10621235             2007.1           1107136  DISPENSADO         10.0\n",
      "\n",
      "     matricula   cra  periodo_ingresso  descricao  periodo_conclusao\n",
      "503   10621363  7.13            2006.2  CONCLUÍDO             2009.2\n",
      "       matricula  periodo_matricula codigo_componente   descricao  media_final\n",
      "12550   10621363             2007.1           1107136  DISPENSADO          7.3\n",
      "\n"
     ]
    }
   ],
   "source": [
    "for aluno in alunos_nao_rec:\n",
    "    print(discentes_depois[discentes_depois['matricula'] == aluno])\n",
    "    aux = matriculas_geral[matriculas_geral['matricula'] == aluno]\n",
    "    aux = aux[aux['codigo_componente'] == codigo]\n",
    "    print(aux)\n",
    "    \n",
    "    print()"
   ]
  },
  {
   "cell_type": "code",
   "execution_count": 38,
   "metadata": {},
   "outputs": [],
   "source": [
    "aux = util_extrator_padroes.porcentagem_por_periodo(alunos_nao_rec, discentes_depois, matriculas_realizadas, codigo,\n",
    "                            periodo_rec=periodo_rec)"
   ]
  },
  {
   "cell_type": "code",
   "execution_count": 39,
   "metadata": {},
   "outputs": [
    {
     "data": {
      "text/plain": [
       "[0.0, 0.8928571428571429, 0.10714285714285714]"
      ]
     },
     "execution_count": 39,
     "metadata": {},
     "output_type": "execute_result"
    }
   ],
   "source": [
    "aux"
   ]
  },
  {
   "cell_type": "code",
   "execution_count": 40,
   "metadata": {},
   "outputs": [
    {
     "data": {
      "text/plain": [
       "1.0"
      ]
     },
     "execution_count": 40,
     "metadata": {},
     "output_type": "execute_result"
    }
   ],
   "source": [
    "sum(aux)"
   ]
  },
  {
   "cell_type": "code",
   "execution_count": 41,
   "metadata": {},
   "outputs": [
    {
     "data": {
      "image/png": "[encoded data removed]",
      "text/plain": [
       "<Figure size 432x288 with 1 Axes>"
      ]
     },
     "metadata": {
      "needs_background": "light"
     },
     "output_type": "display_data"
    }
   ],
   "source": [
    "util_gerador_graficos.plot_ditribuicao_alunos(aux)"
   ]
  },
  {
   "cell_type": "code",
   "execution_count": 42,
   "metadata": {},
   "outputs": [],
   "source": [
    "aux = util_extrator_padroes.porcentagem_por_situacao(alunos_nao_rec, discentes_depois, matriculas_geral, codigo,\n",
    "                            periodo_rec=periodo_rec)"
   ]
  },
  {
   "cell_type": "code",
   "execution_count": 43,
   "metadata": {},
   "outputs": [
    {
     "data": {
      "text/plain": [
       "{'REPROVADO': 0.75,\n",
       " 'REP. FALTA': 0.07142857142857142,\n",
       " 'TRANCADO': 0.14285714285714285,\n",
       " 'DISPENSADO': 0.03571428571428571}"
      ]
     },
     "execution_count": 43,
     "metadata": {},
     "output_type": "execute_result"
    }
   ],
   "source": [
    "aux"
   ]
  },
  {
   "cell_type": "markdown",
   "metadata": {},
   "source": [
    "### Analisando Calc I"
   ]
  },
  {
   "cell_type": "code",
   "execution_count": 44,
   "metadata": {},
   "outputs": [],
   "source": [
    "codigo = '1103177'"
   ]
  },
  {
   "cell_type": "code",
   "execution_count": 45,
   "metadata": {},
   "outputs": [
    {
     "name": "stdout",
     "output_type": "stream",
     "text": [
      "CALCULO DIFERENCIAL E INTEGRAL I\n"
     ]
    },
    {
     "data": {
      "text/plain": [
       "[10621015,\n",
       " 10711018,\n",
       " 10711029,\n",
       " 10711032,\n",
       " 10721015,\n",
       " 10821251,\n",
       " 10821361,\n",
       " 10921063,\n",
       " 11011836,\n",
       " 11021057,\n",
       " 11021059,\n",
       " 11021063,\n",
       " 11021067,\n",
       " 11021445,\n",
       " 11021452,\n",
       " 11021593,\n",
       " 11021633,\n",
       " 11118146,\n",
       " 11118199,\n",
       " 11121191,\n",
       " 11121216,\n",
       " 11121219,\n",
       " 11121223,\n",
       " 11121694,\n",
       " 11121705,\n",
       " 11121911,\n",
       " 11121912,\n",
       " 11121914,\n",
       " 11218562,\n",
       " 11218638,\n",
       " 11218640,\n",
       " 11218649,\n",
       " 11221998,\n",
       " 11228207,\n",
       " 11311014,\n",
       " 11318739,\n",
       " 11328386,\n",
       " 10621235,\n",
       " 10621363]"
      ]
     },
     "execution_count": 45,
     "metadata": {},
     "output_type": "execute_result"
    }
   ],
   "source": [
    "print(relatorio[2]['nome'])\n",
    "\n",
    "alunos_nao_rec = relatorio[2]['alunos_nao_rec']\n",
    "\n",
    "alunos_nao_rec"
   ]
  },
  {
   "cell_type": "code",
   "execution_count": 46,
   "metadata": {
    "scrolled": true
   },
   "outputs": [
    {
     "name": "stdout",
     "output_type": "stream",
     "text": [
      "     matricula   cra  periodo_ingresso  descricao  periodo_conclusao\n",
      "511   10621015  6.77            2006.2  CONCLUÍDO             2012.1\n",
      "       matricula  periodo_matricula codigo_componente   descricao  media_final\n",
      "11957   10621015             2006.2           1103177  REP. FALTA          0.0\n",
      "11964   10621015             2007.1           1103177    APROVADO          5.2\n",
      "\n",
      "     matricula   cra  periodo_ingresso  descricao  periodo_conclusao\n",
      "531   10711018  6.69            2007.1  CONCLUÍDO             2012.1\n",
      "       matricula  periodo_matricula codigo_componente  descricao  media_final\n",
      "13034   10711018             2007.1           1103177  REPROVADO          4.1\n",
      "13038   10711018             2007.2           1103177   APROVADO          7.1\n",
      "\n",
      "     matricula   cra  periodo_ingresso  descricao  periodo_conclusao\n",
      "524   10711029  7.29            2007.1  CONCLUÍDO             2011.2\n",
      "       matricula  periodo_matricula codigo_componente  descricao  media_final\n",
      "13278   10711029             2007.1           1103177  REPROVADO          4.2\n",
      "13282   10711029             2007.2           1103177   APROVADO          5.8\n",
      "\n",
      "     matricula   cra  periodo_ingresso  descricao  periodo_conclusao\n",
      "526   10711032  6.84            2007.1  CONCLUÍDO             2011.2\n",
      "       matricula  periodo_matricula codigo_componente  descricao  media_final\n",
      "13392   10711032             2007.1           1103177  REPROVADO          4.2\n",
      "13398   10711032             2007.2           1103177   APROVADO          7.0\n",
      "\n",
      "     matricula   cra  periodo_ingresso  descricao  periodo_conclusao\n",
      "536   10721015  8.08            2007.2  CONCLUÍDO             2011.2\n",
      "       matricula  periodo_matricula codigo_componente  descricao  media_final\n",
      "13708   10721015             2007.2           1103177  REPROVADO          3.0\n",
      "13715   10721015             2008.1           1103177   APROVADO         10.0\n",
      "\n",
      "     matricula   cra  periodo_ingresso  descricao  periodo_conclusao\n",
      "553   10821251  6.49            2008.2  CONCLUÍDO             2013.2\n",
      "       matricula  periodo_matricula codigo_componente  descricao  media_final\n",
      "14633   10821251             2008.2           1103177  REPROVADO          4.4\n",
      "14640   10821251             2009.1           1103177   APROVADO          5.1\n",
      "\n",
      "     matricula   cra  periodo_ingresso  descricao  periodo_conclusao\n",
      "548   10821361  8.16            2008.2  CONCLUÍDO             2012.2\n",
      "       matricula  periodo_matricula codigo_componente descricao  media_final\n",
      "14757   10821361             2008.2           1103177  TRANCADO          NaN\n",
      "14763   10821361             2009.1           1103177  APROVADO          5.4\n",
      "\n",
      "     matricula   cra  periodo_ingresso  descricao  periodo_conclusao\n",
      "578   10921063  5.76            2009.2  CONCLUÍDO             2016.1\n",
      "       matricula  periodo_matricula codigo_componente  descricao  media_final\n",
      "15519   10921063             2009.2           1103177  REPROVADO          3.0\n",
      "15521   10921063             2010.1           1103177   APROVADO          5.0\n",
      "\n",
      "     matricula   cra  periodo_ingresso  descricao  periodo_conclusao\n",
      "585   11011836  7.35            2010.1  CONCLUÍDO             2014.2\n",
      "       matricula  periodo_matricula codigo_componente  descricao  media_final\n",
      "17210   11011836             2010.1           1103177  REPROVADO          2.3\n",
      "17214   11011836             2010.2           1103177   APROVADO          7.0\n",
      "\n",
      "     matricula   cra  periodo_ingresso  descricao  periodo_conclusao\n",
      "610   11021057  6.83            2010.2  CONCLUÍDO             2015.2\n",
      "       matricula  periodo_matricula codigo_componente  descricao  media_final\n",
      "17267   11021057             2010.2           1103177  REPROVADO          1.9\n",
      "17275   11021057             2011.1           1103177   APROVADO          8.5\n",
      "\n",
      "     matricula   cra  periodo_ingresso  descricao  periodo_conclusao\n",
      "609   11021059  6.98            2010.2  CONCLUÍDO             2015.2\n",
      "       matricula  periodo_matricula codigo_componente  descricao  media_final\n",
      "17334   11021059             2010.2           1103177  REPROVADO          3.3\n",
      "17337   11021059             2011.1           1103177   APROVADO          7.5\n",
      "\n",
      "     matricula   cra  periodo_ingresso  descricao  periodo_conclusao\n",
      "614   11021063  7.95            2010.2  CONCLUÍDO             2016.1\n",
      "       matricula  periodo_matricula codigo_componente  descricao  media_final\n",
      "17502   11021063             2010.2           1103177  REPROVADO          3.5\n",
      "17511   11021063             2011.1           1103177   APROVADO          7.8\n",
      "\n",
      "     matricula   cra  periodo_ingresso  descricao  periodo_conclusao\n",
      "613   11021067  7.93            2010.2  CONCLUÍDO             2015.2\n",
      "       matricula  periodo_matricula codigo_componente   descricao  media_final\n",
      "17558   11021067             2010.2           1103177  REP. FALTA          0.0\n",
      "17563   11021067             2011.1           1103177    APROVADO          8.0\n",
      "\n",
      "     matricula   cra  periodo_ingresso  descricao  periodo_conclusao\n",
      "605   11021445  6.99            2010.2  CONCLUÍDO             2015.1\n",
      "       matricula  periodo_matricula codigo_componente  descricao  media_final\n",
      "17924   11021445             2010.2           1103177  REPROVADO          3.3\n",
      "17930   11021445             2011.1           1103177   APROVADO          7.5\n",
      "\n",
      "     matricula   cra  periodo_ingresso  descricao  periodo_conclusao\n",
      "600   11021452  8.38            2010.2  CONCLUÍDO             2015.2\n",
      "       matricula  periodo_matricula codigo_componente   descricao  media_final\n",
      "17978   11021452             2010.2           1103177  REP. FALTA          0.0\n",
      "17988   11021452             2011.1           1103177    APROVADO          9.8\n",
      "\n",
      "     matricula   cra  periodo_ingresso  descricao  periodo_conclusao\n",
      "606   11021593  4.94            2010.2  CONCLUÍDO             2017.2\n",
      "       matricula  periodo_matricula codigo_componente   descricao  media_final\n",
      "18032   11021593             2010.2           1103177  REP. FALTA          0.0\n",
      "18037   11021593             2011.1           1103177    APROVADO          7.0\n",
      "\n",
      "     matricula   cra  periodo_ingresso  descricao  periodo_conclusao\n",
      "612   11021633  7.83            2010.2  CONCLUÍDO             2015.2\n",
      "       matricula  periodo_matricula codigo_componente  descricao  media_final\n",
      "18122   11021633             2010.2           1103177  REPROVADO          3.3\n",
      "18126   11021633             2011.1           1103177   APROVADO          9.0\n",
      "\n",
      "     matricula  cra  periodo_ingresso  descricao  periodo_conclusao\n",
      "624   11118146  8.1            2011.1  CONCLUÍDO             2017.1\n",
      "       matricula  periodo_matricula codigo_componente descricao  media_final\n",
      "18851   11118146             2011.1           1103177  TRANCADO          0.0\n",
      "18856   11118146             2011.2           1103177  APROVADO          5.1\n",
      "\n",
      "     matricula   cra  periodo_ingresso  descricao  periodo_conclusao\n",
      "623   11118199  4.76            2011.1  CONCLUÍDO             2018.1\n",
      "       matricula  periodo_matricula codigo_componente  descricao  media_final\n",
      "18915   11118199             2011.1           1103177  REPROVADO          1.0\n",
      "18920   11118199             2011.2           1103177  REPROVADO          0.7\n",
      "18923   11118199             2012.1           1103177  REPROVADO          0.3\n",
      "18931   11118199             2012.2           1103177   APROVADO          5.2\n",
      "\n",
      "     matricula   cra  periodo_ingresso  descricao  periodo_conclusao\n",
      "642   11121191  5.98            2011.2  CONCLUÍDO             2017.1\n",
      "       matricula  periodo_matricula codigo_componente   descricao  media_final\n",
      "19353   11121191             2011.2           1103177  REP. FALTA         0.00\n",
      "19357   11121191             2012.1           1103177   REPROVADO         2.20\n",
      "19364   11121191             2012.2           1103177    APROVADO         8.46\n",
      "\n",
      "     matricula   cra  periodo_ingresso  descricao  periodo_conclusao\n",
      "635   11121216  6.48            2011.2  CONCLUÍDO             2017.1\n",
      "       matricula  periodo_matricula codigo_componente  descricao  media_final\n",
      "19490   11121216             2011.2           1103177  REPROVADO          1.6\n",
      "19495   11121216             2012.1           1103177   APROVADO          5.1\n",
      "\n",
      "     matricula   cra  periodo_ingresso  descricao  periodo_conclusao\n",
      "638   11121219  6.75            2011.2  CONCLUÍDO             2017.1\n"
     ]
    },
    {
     "name": "stdout",
     "output_type": "stream",
     "text": [
      "       matricula  periodo_matricula codigo_componente  descricao  media_final\n",
      "19706   11121219             2011.2           1103177  REPROVADO          3.1\n",
      "19714   11121219             2012.1           1103177   APROVADO          7.5\n",
      "\n",
      "     matricula   cra  periodo_ingresso  descricao  periodo_conclusao\n",
      "631   11121223  6.62            2011.2  CONCLUÍDO             2017.1\n",
      "       matricula  periodo_matricula codigo_componente  descricao  media_final\n",
      "19844   11121223             2011.2           1103177  REPROVADO          1.6\n",
      "19857   11121223             2012.2           1103177   APROVADO          6.6\n",
      "\n",
      "     matricula   cra  periodo_ingresso  descricao  periodo_conclusao\n",
      "644   11121694  6.43            2011.2  CONCLUÍDO             2017.1\n",
      "       matricula  periodo_matricula codigo_componente  descricao  media_final\n",
      "19916   11121694             2011.2           1103177  REPROVADO          2.3\n",
      "19920   11121694             2012.1           1103177   APROVADO          6.6\n",
      "\n",
      "     matricula   cra  periodo_ingresso  descricao  periodo_conclusao\n",
      "634   11121705  6.27            2011.2  CONCLUÍDO             2017.1\n",
      "       matricula  periodo_matricula codigo_componente  descricao  media_final\n",
      "20051   11121705             2011.2           1103177  REPROVADO          1.0\n",
      "20054   11121705             2012.1           1103177   APROVADO          7.8\n",
      "\n",
      "     matricula   cra  periodo_ingresso  descricao  periodo_conclusao\n",
      "639   11121911  5.59            2011.2  CONCLUÍDO             2018.1\n",
      "       matricula  periodo_matricula codigo_componente  descricao  media_final\n",
      "20135   11121911             2011.2           1103177  REPROVADO          2.5\n",
      "20140   11121911             2012.1           1103177  REPROVADO          2.7\n",
      "20144   11121911             2012.2           1103177   APROVADO          7.0\n",
      "\n",
      "     matricula   cra  periodo_ingresso  descricao  periodo_conclusao\n",
      "632   11121912  6.34            2011.2  CONCLUÍDO             2017.1\n",
      "       matricula  periodo_matricula codigo_componente   descricao  media_final\n",
      "20218   11121912             2011.2           1103177  REP. FALTA          0.0\n",
      "20223   11121912             2012.1           1103177    APROVADO          5.0\n",
      "\n",
      "     matricula   cra  periodo_ingresso  descricao  periodo_conclusao\n",
      "640   11121914  6.04            2011.2  CONCLUÍDO             2017.1\n",
      "       matricula  periodo_matricula codigo_componente  descricao  media_final\n",
      "20284   11121914             2011.2           1103177  REPROVADO          1.7\n",
      "20296   11121914             2012.1           1103177   APROVADO          5.7\n",
      "\n",
      "     matricula   cra  periodo_ingresso  descricao  periodo_conclusao\n",
      "657   11218562  7.28            2012.1  CONCLUÍDO             2018.1\n",
      "       matricula  periodo_matricula codigo_componente  descricao  media_final\n",
      "21024   11218562             2012.1           1103177  REPROVADO          3.2\n",
      "21030   11218562             2012.2           1103177   APROVADO          7.0\n",
      "\n",
      "     matricula   cra  periodo_ingresso  descricao  periodo_conclusao\n",
      "651   11218638  8.75            2012.1  CONCLUÍDO             2016.2\n",
      "       matricula  periodo_matricula codigo_componente descricao  media_final\n",
      "21096   11218638             2012.1           1103177  TRANCADO          NaN\n",
      "21099   11218638             2012.2           1103177  APROVADO          9.0\n",
      "\n",
      "     matricula   cra  periodo_ingresso  descricao  periodo_conclusao\n",
      "661   11218640  6.52            2012.1  CONCLUÍDO             2018.1\n",
      "       matricula  periodo_matricula codigo_componente  descricao  media_final\n",
      "21153   11218640             2012.1           1103177  REPROVADO          2.2\n",
      "21157   11218640             2012.2           1103177   APROVADO          8.8\n",
      "\n",
      "     matricula   cra  periodo_ingresso  descricao  periodo_conclusao\n",
      "658   11218649  6.26            2012.1  CONCLUÍDO             2017.2\n",
      "       matricula  periodo_matricula codigo_componente  descricao  media_final\n",
      "21288   11218649             2012.1           1103177  REPROVADO          2.0\n",
      "21297   11218649             2012.2           1103177   APROVADO          7.0\n",
      "\n",
      "     matricula  cra  periodo_ingresso         descricao  periodo_conclusao\n",
      "666   11221998  5.1            2012.2  ATIVO - FORMANDO             2018.2\n",
      "       matricula  periodo_matricula codigo_componente  descricao  media_final\n",
      "21795   11221998             2012.2           1103177  REPROVADO         1.20\n",
      "21797   11221998             2013.1           1103177  REPROVADO         0.83\n",
      "21806   11221998             2013.2           1103177  REPROVADO         2.10\n",
      "21808   11221998             2014.1           1103177  REPROVADO         3.30\n",
      "21813   11221998             2014.2           1103177   APROVADO         6.20\n",
      "\n",
      "     matricula   cra  periodo_ingresso  descricao  periodo_conclusao\n",
      "667   11228207  6.58            2012.2  CONCLUÍDO             2018.1\n",
      "       matricula  periodo_matricula codigo_componente   descricao  media_final\n",
      "21953   11228207             2012.2           1103177   REPROVADO         2.20\n",
      "21957   11228207             2013.1           1103177   REPROVADO         0.83\n",
      "21960   11228207             2013.2           1103177   REPROVADO         3.50\n",
      "21967   11228207             2014.1           1103177  REP. FALTA         0.00\n",
      "21974   11228207             2014.2           1103177    APROVADO         5.00\n",
      "\n",
      "     matricula   cra  periodo_ingresso  descricao  periodo_conclusao\n",
      "672   11311014  7.57            2013.1  CONCLUÍDO             2018.1\n",
      "       matricula  periodo_matricula codigo_componente  descricao  media_final\n",
      "22153   11311014             2013.1           1103177  REPROVADO          1.0\n",
      "22157   11311014             2013.2           1103177   APROVADO          5.0\n",
      "\n",
      "     matricula   cra  periodo_ingresso  descricao  periodo_conclusao\n",
      "673   11318739  7.54            2013.1  CONCLUÍDO             2017.2\n",
      "       matricula  periodo_matricula codigo_componente  descricao  media_final\n",
      "22479   11318739             2013.1           1103177  REPROVADO         2.72\n",
      "22488   11318739             2013.2           1103177   APROVADO         7.40\n",
      "\n",
      "     matricula   cra  periodo_ingresso  descricao  periodo_conclusao\n",
      "681   11328386  7.36            2013.2  CONCLUÍDO             2018.1\n",
      "       matricula  periodo_matricula codigo_componente  descricao  media_final\n",
      "22775   11328386             2013.2           1103177  REPROVADO          1.5\n",
      "22780   11328386             2014.1           1103177   APROVADO          7.0\n",
      "\n",
      "     matricula   cra  periodo_ingresso  descricao  periodo_conclusao\n",
      "509   10621235  6.94            2006.2  CONCLUÍDO             2008.1\n",
      "       matricula  periodo_matricula codigo_componente   descricao  media_final\n",
      "12382   10621235             2006.2           1103177    TRANCADO          NaN\n",
      "12394   10621235             2007.1           1103177  DISPENSADO          6.2\n",
      "\n",
      "     matricula   cra  periodo_ingresso  descricao  periodo_conclusao\n",
      "503   10621363  7.13            2006.2  CONCLUÍDO             2009.2\n",
      "       matricula  periodo_matricula codigo_componente   descricao  media_final\n",
      "12552   10621363             2007.1           1103177  DISPENSADO          6.7\n",
      "\n"
     ]
    }
   ],
   "source": [
    "for aluno in alunos_nao_rec:\n",
    "    print(discentes_depois[discentes_depois['matricula'] == aluno])\n",
    "    aux = matriculas_geral[matriculas_geral['matricula'] == aluno]\n",
    "    aux = aux[aux['codigo_componente'] == codigo]\n",
    "    print(aux)\n",
    "    \n",
    "    print()"
   ]
  },
  {
   "cell_type": "code",
   "execution_count": 47,
   "metadata": {},
   "outputs": [],
   "source": [
    "aux = util_extrator_padroes.porcentagem_por_periodo(alunos_nao_rec, discentes_depois, matriculas_realizadas, codigo,\n",
    "                            periodo_rec=periodo_rec)"
   ]
  },
  {
   "cell_type": "code",
   "execution_count": 48,
   "metadata": {},
   "outputs": [
    {
     "data": {
      "text/plain": [
       "[0.0,\n",
       " 0.8461538461538461,\n",
       " 0.07692307692307693,\n",
       " 0.02564102564102564,\n",
       " 0.05128205128205128]"
      ]
     },
     "execution_count": 48,
     "metadata": {},
     "output_type": "execute_result"
    }
   ],
   "source": [
    "aux"
   ]
  },
  {
   "cell_type": "code",
   "execution_count": 49,
   "metadata": {},
   "outputs": [
    {
     "data": {
      "text/plain": [
       "1.0"
      ]
     },
     "execution_count": 49,
     "metadata": {},
     "output_type": "execute_result"
    }
   ],
   "source": [
    "sum(aux)"
   ]
  },
  {
   "cell_type": "code",
   "execution_count": 50,
   "metadata": {},
   "outputs": [
    {
     "data": {
      "image/png": "[encoded data removed]",
      "text/plain": [
       "<Figure size 432x288 with 1 Axes>"
      ]
     },
     "metadata": {
      "needs_background": "light"
     },
     "output_type": "display_data"
    }
   ],
   "source": [
    "util_gerador_graficos.plot_ditribuicao_alunos(aux)"
   ]
  },
  {
   "cell_type": "code",
   "execution_count": 51,
   "metadata": {},
   "outputs": [],
   "source": [
    "aux = util_extrator_padroes.porcentagem_por_situacao(alunos_nao_rec, discentes_depois, matriculas_geral, codigo,\n",
    "                            periodo_rec=periodo_rec)"
   ]
  },
  {
   "cell_type": "code",
   "execution_count": 52,
   "metadata": {},
   "outputs": [
    {
     "data": {
      "text/plain": [
       "{'REP. FALTA': 0.15384615384615385,\n",
       " 'REPROVADO': 0.717948717948718,\n",
       " 'TRANCADO': 0.10256410256410256,\n",
       " 'DISPENSADO': 0.02564102564102564}"
      ]
     },
     "execution_count": 52,
     "metadata": {},
     "output_type": "execute_result"
    }
   ],
   "source": [
    "aux"
   ]
  },
  {
   "cell_type": "markdown",
   "metadata": {},
   "source": [
    "### Analisando Calc Vet"
   ]
  },
  {
   "cell_type": "code",
   "execution_count": 53,
   "metadata": {},
   "outputs": [],
   "source": [
    "codigo = '1103118'"
   ]
  },
  {
   "cell_type": "code",
   "execution_count": 54,
   "metadata": {},
   "outputs": [
    {
     "name": "stdout",
     "output_type": "stream",
     "text": [
      "CALCULO VET GEO ANALITICA\n"
     ]
    },
    {
     "data": {
      "text/plain": [
       "[10621015,\n",
       " 10621028,\n",
       " 10721015,\n",
       " 10811031,\n",
       " 10821361,\n",
       " 10921360,\n",
       " 10921363,\n",
       " 11011060,\n",
       " 11011068,\n",
       " 11011836,\n",
       " 11021059,\n",
       " 11021067,\n",
       " 11021593,\n",
       " 11118146,\n",
       " 11118199,\n",
       " 11118204,\n",
       " 11118209,\n",
       " 11121191,\n",
       " 11121216,\n",
       " 11121223,\n",
       " 11121694,\n",
       " 11121911,\n",
       " 11128089,\n",
       " 11218638,\n",
       " 11218797,\n",
       " 11221240,\n",
       " 11221826,\n",
       " 11221998,\n",
       " 11228207,\n",
       " 10621235]"
      ]
     },
     "execution_count": 54,
     "metadata": {},
     "output_type": "execute_result"
    }
   ],
   "source": [
    "print(relatorio[1]['nome'])\n",
    "\n",
    "alunos_nao_rec = relatorio[1]['alunos_nao_rec']\n",
    "\n",
    "alunos_nao_rec"
   ]
  },
  {
   "cell_type": "code",
   "execution_count": 55,
   "metadata": {
    "scrolled": true
   },
   "outputs": [
    {
     "name": "stdout",
     "output_type": "stream",
     "text": [
      "     matricula   cra  periodo_ingresso  descricao  periodo_conclusao\n",
      "511   10621015  6.77            2006.2  CONCLUÍDO             2012.1\n",
      "       matricula  periodo_matricula codigo_componente  descricao  media_final\n",
      "11961   10621015             2006.2           1103118  REPROVADO          3.3\n",
      "11966   10621015             2007.1           1103118   APROVADO          8.4\n",
      "\n",
      "     matricula   cra  periodo_ingresso  descricao  periodo_conclusao\n",
      "508   10621028  7.28            2006.2  CONCLUÍDO             2010.2\n",
      "       matricula  periodo_matricula codigo_componente  descricao  media_final\n",
      "12239   10621028             2006.2           1103118  REPROVADO          2.3\n",
      "12246   10621028             2007.1           1103118   APROVADO          8.5\n",
      "\n",
      "     matricula   cra  periodo_ingresso  descricao  periodo_conclusao\n",
      "536   10721015  8.08            2007.2  CONCLUÍDO             2011.2\n",
      "       matricula  periodo_matricula codigo_componente  descricao  media_final\n",
      "13710   10721015             2007.2           1103118  REPROVADO          4.7\n",
      "13717   10721015             2008.1           1103118   APROVADO          7.8\n",
      "\n",
      "     matricula   cra  periodo_ingresso  descricao  periodo_conclusao\n",
      "541   10811031  8.65            2008.1  CONCLUÍDO             2015.1\n",
      "       matricula  periodo_matricula codigo_componente descricao  media_final\n",
      "13933   10811031             2008.2           1103118  APROVADO          9.3\n",
      "\n",
      "     matricula   cra  periodo_ingresso  descricao  periodo_conclusao\n",
      "548   10821361  8.16            2008.2  CONCLUÍDO             2012.2\n",
      "       matricula  periodo_matricula codigo_componente descricao  media_final\n",
      "14760   10821361             2009.1           1103118  APROVADO          5.6\n",
      "\n",
      "     matricula   cra  periodo_ingresso  descricao  periodo_conclusao\n",
      "565   10921360  6.23            2009.2  CONCLUÍDO             2015.1\n",
      "       matricula  periodo_matricula codigo_componente  descricao  media_final\n",
      "15858   10921360             2009.2           1103118  REPROVADO          0.7\n",
      "15862   10921360             2010.1           1103118  REPROVADO          3.0\n",
      "15868   10921360             2010.2           1103118   APROVADO          5.0\n",
      "\n",
      "     matricula   cra  periodo_ingresso  descricao  periodo_conclusao\n",
      "570   10921363  6.23            2009.2  CONCLUÍDO             2014.2\n",
      "       matricula  periodo_matricula codigo_componente  descricao  media_final\n",
      "15926   10921363             2009.2           1103118  REPROVADO          3.3\n",
      "15935   10921363             2010.1           1103118  REPROVADO          4.0\n",
      "15944   10921363             2010.2           1103118   APROVADO          5.7\n",
      "\n",
      "     matricula   cra  periodo_ingresso  descricao  periodo_conclusao\n",
      "592   11011060  7.09            2010.1  CONCLUÍDO             2014.2\n",
      "       matricula  periodo_matricula codigo_componente  descricao  media_final\n",
      "16374   11011060             2010.1           1103118  REPROVADO          3.0\n",
      "16380   11011060             2010.2           1103118   APROVADO          6.5\n",
      "\n",
      "     matricula  cra  periodo_ingresso  descricao  periodo_conclusao\n",
      "589   11011068  7.5            2010.1  CONCLUÍDO             2014.2\n",
      "       matricula  periodo_matricula codigo_componente  descricao  media_final\n",
      "16598   11011068             2010.1           1103118  REPROVADO          3.0\n",
      "16603   11011068             2010.2           1103118   APROVADO          7.0\n",
      "\n",
      "     matricula   cra  periodo_ingresso  descricao  periodo_conclusao\n",
      "585   11011836  7.35            2010.1  CONCLUÍDO             2014.2\n",
      "       matricula  periodo_matricula codigo_componente  descricao  media_final\n",
      "17211   11011836             2010.1           1103118  REPROVADO          3.5\n",
      "17217   11011836             2010.2           1103118   APROVADO          6.8\n",
      "\n",
      "     matricula   cra  periodo_ingresso  descricao  periodo_conclusao\n",
      "609   11021059  6.98            2010.2  CONCLUÍDO             2015.2\n",
      "       matricula  periodo_matricula codigo_componente  descricao  media_final\n",
      "17332   11021059             2010.2           1103118  REPROVADO          3.4\n",
      "17342   11021059             2011.1           1103118   APROVADO          7.0\n",
      "\n",
      "     matricula   cra  periodo_ingresso  descricao  periodo_conclusao\n",
      "613   11021067  7.93            2010.2  CONCLUÍDO             2015.2\n",
      "       matricula  periodo_matricula codigo_componente  descricao  media_final\n",
      "17560   11021067             2010.2           1103118  REPROVADO          2.4\n",
      "17565   11021067             2011.1           1103118   APROVADO          7.7\n",
      "\n",
      "     matricula   cra  periodo_ingresso  descricao  periodo_conclusao\n",
      "606   11021593  4.94            2010.2  CONCLUÍDO             2017.2\n",
      "       matricula  periodo_matricula codigo_componente  descricao  media_final\n",
      "18031   11021593             2010.2           1103118  REPROVADO          3.7\n",
      "18038   11021593             2011.1           1103118   APROVADO          7.8\n",
      "\n",
      "     matricula  cra  periodo_ingresso  descricao  periodo_conclusao\n",
      "624   11118146  8.1            2011.1  CONCLUÍDO             2017.1\n",
      "       matricula  periodo_matricula codigo_componente descricao  media_final\n",
      "18849   11118146             2011.1           1103118  TRANCADO          0.0\n",
      "18853   11118146             2011.2           1103118  APROVADO          7.9\n",
      "\n",
      "     matricula   cra  periodo_ingresso  descricao  periodo_conclusao\n",
      "623   11118199  4.76            2011.1  CONCLUÍDO             2018.1\n",
      "       matricula  periodo_matricula codigo_componente   descricao  media_final\n",
      "18912   11118199             2011.1           1103118  REP. FALTA          0.0\n",
      "18918   11118199             2011.2           1103118  REP. FALTA          0.0\n",
      "18926   11118199             2012.1           1103118  REP. FALTA          0.0\n",
      "18928   11118199             2012.2           1103118    APROVADO          5.0\n",
      "\n",
      "     matricula   cra  periodo_ingresso  descricao  periodo_conclusao\n",
      "618   11118204  4.76            2011.1  CONCLUÍDO             2018.1\n",
      "       matricula  periodo_matricula codigo_componente  descricao  media_final\n",
      "19131   11118204             2011.1           1103118  REPROVADO          1.3\n",
      "19139   11118204             2011.2           1103118  REPROVADO          1.6\n",
      "19141   11118204             2012.1           1103118   APROVADO          5.6\n",
      "\n",
      "     matricula  cra  periodo_ingresso  descricao  periodo_conclusao\n",
      "622   11118209  6.5            2011.1  CONCLUÍDO             2016.1\n",
      "       matricula  periodo_matricula codigo_componente  descricao  media_final\n",
      "19286   11118209             2011.1           1103118  REPROVADO          4.6\n",
      "19292   11118209             2011.2           1103118   APROVADO          7.4\n",
      "\n",
      "     matricula   cra  periodo_ingresso  descricao  periodo_conclusao\n",
      "642   11121191  5.98            2011.2  CONCLUÍDO             2017.1\n",
      "       matricula  periodo_matricula codigo_componente   descricao  media_final\n",
      "19356   11121191             2011.2           1103118  REP. FALTA          0.0\n",
      "19361   11121191             2012.1           1103118   REPROVADO          3.9\n",
      "19365   11121191             2012.2           1103118    APROVADO          5.0\n",
      "\n",
      "     matricula   cra  periodo_ingresso  descricao  periodo_conclusao\n",
      "635   11121216  6.48            2011.2  CONCLUÍDO             2017.1\n",
      "       matricula  periodo_matricula codigo_componente  descricao  media_final\n",
      "19491   11121216             2011.2           1103118  REPROVADO          3.5\n",
      "19497   11121216             2012.1           1103118   APROVADO          5.6\n",
      "\n",
      "     matricula   cra  periodo_ingresso  descricao  periodo_conclusao\n",
      "631   11121223  6.62            2011.2  CONCLUÍDO             2017.1\n",
      "       matricula  periodo_matricula codigo_componente   descricao  media_final\n",
      "19846   11121223             2011.2           1103118  REP. FALTA          0.0\n",
      "19849   11121223             2012.1           1103118   REPROVADO          3.9\n",
      "19852   11121223             2012.2           1103118    APROVADO          5.7\n",
      "\n",
      "     matricula   cra  periodo_ingresso  descricao  periodo_conclusao\n",
      "644   11121694  6.43            2011.2  CONCLUÍDO             2017.1\n",
      "       matricula  periodo_matricula codigo_componente  descricao  media_final\n",
      "19918   11121694             2011.2           1103118  REPROVADO          2.6\n",
      "19923   11121694             2012.1           1103118  REPROVADO          3.4\n",
      "19925   11121694             2012.2           1103118   APROVADO          5.0\n",
      "\n",
      "     matricula   cra  periodo_ingresso  descricao  periodo_conclusao\n",
      "639   11121911  5.59            2011.2  CONCLUÍDO             2018.1\n",
      "       matricula  periodo_matricula codigo_componente   descricao  media_final\n",
      "20136   11121911             2011.2           1103118  REP. FALTA          0.0\n",
      "20138   11121911             2012.1           1103118   REPROVADO          2.2\n",
      "20143   11121911             2012.2           1103118    APROVADO          5.0\n",
      "\n"
     ]
    },
    {
     "name": "stdout",
     "output_type": "stream",
     "text": [
      "     matricula   cra  periodo_ingresso  descricao  periodo_conclusao\n",
      "636   11128089  5.35            2011.2  CONCLUÍDO             2017.1\n",
      "       matricula  periodo_matricula codigo_componente   descricao  media_final\n",
      "20384   11128089             2011.2           1103118  REP. FALTA          0.0\n",
      "20388   11128089             2012.1           1103118   REPROVADO          1.8\n",
      "20413   11128089             2013.2           1103118    APROVADO          5.0\n",
      "\n",
      "     matricula   cra  periodo_ingresso  descricao  periodo_conclusao\n",
      "651   11218638  8.75            2012.1  CONCLUÍDO             2016.2\n",
      "       matricula  periodo_matricula codigo_componente descricao  media_final\n",
      "21095   11218638             2012.1           1103118  TRANCADO          NaN\n",
      "21100   11218638             2012.2           1103118  APROVADO         8.08\n",
      "\n",
      "     matricula   cra  periodo_ingresso  descricao  periodo_conclusao\n",
      "656   11218797  6.82            2012.1  CONCLUÍDO             2018.1\n",
      "       matricula  periodo_matricula codigo_componente  descricao  media_final\n",
      "21474   11218797             2012.1           1103118  REPROVADO          3.0\n",
      "21475   11218797             2012.2           1103118  REPROVADO          3.2\n",
      "21481   11218797             2013.1           1103118   APROVADO          7.8\n",
      "\n",
      "     matricula   cra  periodo_ingresso  descricao  periodo_conclusao\n",
      "668   11221240  7.33            2012.2  CONCLUÍDO             2016.2\n",
      "       matricula  periodo_matricula codigo_componente  descricao  media_final\n",
      "21609   11221240             2012.2           1103118  REPROVADO         1.42\n",
      "21612   11221240             2013.1           1103118   APROVADO         7.00\n",
      "\n",
      "     matricula   cra  periodo_ingresso  descricao  periodo_conclusao\n",
      "665   11221826  7.67            2012.2  CONCLUÍDO             2017.2\n",
      "       matricula  periodo_matricula codigo_componente  descricao  media_final\n",
      "21723   11221826             2012.2           1103118  REPROVADO         1.00\n",
      "21733   11221826             2013.1           1103118  REPROVADO         3.25\n",
      "21736   11221826             2013.2           1103118   APROVADO         8.50\n",
      "\n",
      "     matricula  cra  periodo_ingresso         descricao  periodo_conclusao\n",
      "666   11221998  5.1            2012.2  ATIVO - FORMANDO             2018.2\n",
      "       matricula  periodo_matricula codigo_componente   descricao  media_final\n",
      "21793   11221998             2012.2           1103118  REP. FALTA          0.0\n",
      "21798   11221998             2013.1           1103118    APROVADO          5.9\n",
      "\n",
      "     matricula   cra  periodo_ingresso  descricao  periodo_conclusao\n",
      "667   11228207  6.58            2012.2  CONCLUÍDO             2018.1\n",
      "       matricula  periodo_matricula codigo_componente  descricao  media_final\n",
      "21948   11228207             2012.2           1103118  REPROVADO         1.83\n",
      "21958   11228207             2013.1           1103118  REPROVADO         1.20\n",
      "21982   11228207             2015.1           1103118   TRANCADO          NaN\n",
      "21986   11228207             2015.2           1103118   APROVADO         5.90\n",
      "\n",
      "     matricula   cra  periodo_ingresso  descricao  periodo_conclusao\n",
      "509   10621235  6.94            2006.2  CONCLUÍDO             2008.1\n",
      "       matricula  periodo_matricula codigo_componente   descricao  media_final\n",
      "12384   10621235             2006.2           1103118    TRANCADO          NaN\n",
      "12389   10621235             2007.1           1103118  DISPENSADO          7.3\n",
      "\n"
     ]
    }
   ],
   "source": [
    "for aluno in alunos_nao_rec:\n",
    "    print(discentes_depois[discentes_depois['matricula'] == aluno])\n",
    "    aux = matriculas_geral[matriculas_geral['matricula'] == aluno]\n",
    "    aux = aux[aux['codigo_componente'] == codigo]\n",
    "    print(aux)\n",
    "    \n",
    "    print()"
   ]
  },
  {
   "cell_type": "code",
   "execution_count": 56,
   "metadata": {},
   "outputs": [],
   "source": [
    "aux = util_extrator_padroes.porcentagem_por_periodo(alunos_nao_rec, discentes_depois, matriculas_realizadas, codigo,\n",
    "                            periodo_rec=periodo_rec)"
   ]
  },
  {
   "cell_type": "code",
   "execution_count": 57,
   "metadata": {},
   "outputs": [
    {
     "data": {
      "text/plain": [
       "[0.0,\n",
       " 0.6,\n",
       " 0.3,\n",
       " 0.03333333333333333,\n",
       " 0.03333333333333333,\n",
       " 0.0,\n",
       " 0.03333333333333333]"
      ]
     },
     "execution_count": 57,
     "metadata": {},
     "output_type": "execute_result"
    }
   ],
   "source": [
    "aux"
   ]
  },
  {
   "cell_type": "code",
   "execution_count": 58,
   "metadata": {},
   "outputs": [
    {
     "data": {
      "text/plain": [
       "0.9999999999999999"
      ]
     },
     "execution_count": 58,
     "metadata": {},
     "output_type": "execute_result"
    }
   ],
   "source": [
    "sum(aux)"
   ]
  },
  {
   "cell_type": "code",
   "execution_count": 59,
   "metadata": {},
   "outputs": [
    {
     "data": {
      "image/png": "[encoded data removed]",
      "text/plain": [
       "<Figure size 432x288 with 1 Axes>"
      ]
     },
     "metadata": {
      "needs_background": "light"
     },
     "output_type": "display_data"
    }
   ],
   "source": [
    "util_gerador_graficos.plot_ditribuicao_alunos(aux)"
   ]
  },
  {
   "cell_type": "code",
   "execution_count": 60,
   "metadata": {},
   "outputs": [],
   "source": [
    "aux = util_extrator_padroes.porcentagem_por_situacao(alunos_nao_rec, discentes_depois, matriculas_geral, codigo,\n",
    "                            periodo_rec=periodo_rec)"
   ]
  },
  {
   "cell_type": "code",
   "execution_count": 61,
   "metadata": {},
   "outputs": [
    {
     "data": {
      "text/plain": [
       "{'REPROVADO': 0.6333333333333333,\n",
       " 'APROVADO': 0.06666666666666667,\n",
       " 'TRANCADO': 0.1,\n",
       " 'REP. FALTA': 0.2}"
      ]
     },
     "execution_count": 61,
     "metadata": {},
     "output_type": "execute_result"
    }
   ],
   "source": [
    "aux"
   ]
  },
  {
   "cell_type": "markdown",
   "metadata": {},
   "source": [
    "### Analisando Física I"
   ]
  },
  {
   "cell_type": "code",
   "execution_count": 62,
   "metadata": {},
   "outputs": [],
   "source": [
    "codigo = '1101171'"
   ]
  },
  {
   "cell_type": "code",
   "execution_count": 63,
   "metadata": {},
   "outputs": [
    {
     "name": "stdout",
     "output_type": "stream",
     "text": [
      "FISICA APLICADA A COMPUTACAO I\n"
     ]
    },
    {
     "data": {
      "text/plain": [
       "[10621028,\n",
       " 10621030,\n",
       " 10621363,\n",
       " 10621364,\n",
       " 10711021,\n",
       " 10711027,\n",
       " 10711029,\n",
       " 10711032,\n",
       " 10711469,\n",
       " 10721015,\n",
       " 10721244,\n",
       " 10811060,\n",
       " 10811438,\n",
       " 10821060,\n",
       " 10821063,\n",
       " 10821251,\n",
       " 10821361,\n",
       " 11011089,\n",
       " 11011829,\n",
       " 11021067,\n",
       " 11021068,\n",
       " 11021593,\n",
       " 11111298,\n",
       " 11118146,\n",
       " 11118204,\n",
       " 11121191,\n",
       " 11121223,\n",
       " 11121911,\n",
       " 11121912,\n",
       " 11211425,\n",
       " 11218638,\n",
       " 11218640,\n",
       " 11218649,\n",
       " 11218797,\n",
       " 11221240,\n",
       " 11221826,\n",
       " 11221998,\n",
       " 11228207,\n",
       " 11311009,\n",
       " 11318739,\n",
       " 11409543,\n",
       " 11511184,\n",
       " 11512971,\n",
       " 10621030,\n",
       " 10721026,\n",
       " 11111299,\n",
       " 11311014]"
      ]
     },
     "execution_count": 63,
     "metadata": {},
     "output_type": "execute_result"
    }
   ],
   "source": [
    "print(relatorio[0]['nome'])\n",
    "\n",
    "alunos_nao_rec = relatorio[0]['alunos_nao_rec']\n",
    "\n",
    "alunos_nao_rec"
   ]
  },
  {
   "cell_type": "code",
   "execution_count": 64,
   "metadata": {},
   "outputs": [
    {
     "name": "stdout",
     "output_type": "stream",
     "text": [
      "     matricula   cra  periodo_ingresso  descricao  periodo_conclusao\n",
      "508   10621028  7.28            2006.2  CONCLUÍDO             2010.2\n",
      "       matricula  periodo_matricula codigo_componente  descricao  media_final\n",
      "12242   10621028             2006.2           1101171  REPROVADO          3.4\n",
      "12249   10621028             2007.1           1101171   APROVADO          6.5\n",
      "\n",
      "     matricula   cra  periodo_ingresso  descricao  periodo_conclusao\n",
      "510   10621030  6.86            2006.2  CONCLUÍDO             2010.2\n",
      "       matricula  periodo_matricula codigo_componente   descricao  media_final\n",
      "12298   10621030             2006.2           1101171   REPROVADO          3.8\n",
      "12304   10621030             2007.1           1101171    APROVADO          5.7\n",
      "12353   10621030             2010.2           1101171  DISPENSADO          5.7\n",
      "\n",
      "     matricula   cra  periodo_ingresso  descricao  periodo_conclusao\n",
      "503   10621363  7.13            2006.2  CONCLUÍDO             2009.2\n",
      "       matricula  periodo_matricula codigo_componente descricao  media_final\n",
      "12543   10621363             2006.2           1101171  TRANCADO          NaN\n",
      "12551   10621363             2007.1           1101171  APROVADO          5.0\n",
      "\n",
      "     matricula   cra  periodo_ingresso  descricao  periodo_conclusao\n",
      "506   10621364  7.65            2006.2  CONCLUÍDO             2010.2\n",
      "       matricula  periodo_matricula codigo_componente  descricao  media_final\n",
      "12594   10621364             2006.2           1101171  REPROVADO          3.5\n",
      "12602   10621364             2007.1           1101171   APROVADO          6.0\n",
      "\n",
      "     matricula   cra  periodo_ingresso  descricao  periodo_conclusao\n",
      "523   10711021  7.19            2007.1  CONCLUÍDO             2012.2\n",
      "       matricula  periodo_matricula codigo_componente  descricao  media_final\n",
      "13102   10711021             2007.1           1101171  REPROVADO          4.7\n",
      "13108   10711021             2007.2           1101171  REPROVADO          4.1\n",
      "13116   10711021             2008.1           1101171   APROVADO          5.9\n",
      "\n",
      "     matricula   cra  periodo_ingresso  descricao  periodo_conclusao\n",
      "519   10711027  7.75            2007.1  CONCLUÍDO             2012.1\n",
      "       matricula  periodo_matricula codigo_componente  descricao  media_final\n",
      "13163   10711027             2007.1           1101171  REPROVADO          4.3\n",
      "13169   10711027             2007.2           1101171   APROVADO          5.0\n",
      "\n",
      "     matricula   cra  periodo_ingresso  descricao  periodo_conclusao\n",
      "524   10711029  7.29            2007.1  CONCLUÍDO             2011.2\n",
      "       matricula  periodo_matricula codigo_componente  descricao  media_final\n",
      "13276   10711029             2007.1           1101171  REPROVADO          4.3\n",
      "13283   10711029             2007.2           1101171  REPROVADO          3.0\n",
      "13288   10711029             2008.1           1101171   APROVADO          5.0\n",
      "\n",
      "     matricula   cra  periodo_ingresso  descricao  periodo_conclusao\n",
      "526   10711032  6.84            2007.1  CONCLUÍDO             2011.2\n",
      "       matricula  periodo_matricula codigo_componente  descricao  media_final\n",
      "13394   10711032             2007.1           1101171  REPROVADO          4.4\n",
      "13401   10711032             2007.2           1101171   APROVADO          5.1\n",
      "\n",
      "     matricula   cra  periodo_ingresso  descricao  periodo_conclusao\n",
      "521   10711469  6.36            2007.1  CONCLUÍDO             2012.2\n",
      "       matricula  periodo_matricula codigo_componente  descricao  media_final\n",
      "13561   10711469             2007.1           1101171  REPROVADO          2.8\n",
      "13569   10711469             2007.2           1101171   APROVADO          5.2\n",
      "\n",
      "     matricula   cra  periodo_ingresso  descricao  periodo_conclusao\n",
      "536   10721015  8.08            2007.2  CONCLUÍDO             2011.2\n",
      "       matricula  periodo_matricula codigo_componente descricao  media_final\n",
      "13709   10721015             2007.2           1101171  TRANCADO          NaN\n",
      "13716   10721015             2008.1           1101171  APROVADO          7.0\n",
      "\n",
      "     matricula   cra  periodo_ingresso  descricao  periodo_conclusao\n",
      "533   10721244  7.27            2007.2  CONCLUÍDO             2013.1\n",
      "       matricula  periodo_matricula codigo_componente  descricao  media_final\n",
      "13875   10721244             2007.2           1101171   TRANCADO          NaN\n",
      "13877   10721244             2008.1           1101171  REPROVADO          4.2\n",
      "13882   10721244             2008.2           1101171   APROVADO          7.1\n",
      "\n",
      "     matricula   cra  periodo_ingresso  descricao  periodo_conclusao\n",
      "545   10811060  8.56            2008.1  CONCLUÍDO             2011.2\n",
      "       matricula  periodo_matricula codigo_componente   descricao  media_final\n",
      "14140   10811060             2008.1           1101171  REP. FALTA          0.0\n",
      "14142   10811060             2008.2           1101171    APROVADO          5.6\n",
      "\n",
      "     matricula   cra  periodo_ingresso  descricao  periodo_conclusao\n",
      "543   10811438  8.74            2008.1  CONCLUÍDO             2012.1\n",
      "       matricula  periodo_matricula codigo_componente  descricao  media_final\n",
      "14295   10811438             2008.1           1101171  REPROVADO          4.9\n",
      "14301   10811438             2008.2           1101171   APROVADO          8.4\n",
      "\n",
      "     matricula   cra  periodo_ingresso  descricao  periodo_conclusao\n",
      "551   10821060  8.03            2008.2  CONCLUÍDO             2013.1\n",
      "       matricula  periodo_matricula codigo_componente  descricao  media_final\n",
      "14505   10821060             2008.2           1101171  REPROVADO          3.8\n",
      "14513   10821060             2009.1           1101171   APROVADO          7.4\n",
      "\n",
      "     matricula   cra  periodo_ingresso  descricao  periodo_conclusao\n",
      "550   10821063  6.55            2008.2  CONCLUÍDO             2014.2\n",
      "       matricula  periodo_matricula codigo_componente  descricao  media_final\n",
      "14562   10821063             2008.2           1101171  REPROVADO          3.0\n",
      "14572   10821063             2009.1           1101171  REPROVADO          1.1\n",
      "14575   10821063             2009.2           1101171   TRANCADO          NaN\n",
      "14580   10821063             2010.1           1101171   APROVADO          7.4\n",
      "\n",
      "     matricula   cra  periodo_ingresso  descricao  periodo_conclusao\n",
      "553   10821251  6.49            2008.2  CONCLUÍDO             2013.2\n",
      "       matricula  periodo_matricula codigo_componente  descricao  media_final\n",
      "14637   10821251             2008.2           1101171  REPROVADO          3.0\n",
      "14642   10821251             2009.1           1101171   APROVADO          5.0\n",
      "\n",
      "     matricula   cra  periodo_ingresso  descricao  periodo_conclusao\n",
      "548   10821361  8.16            2008.2  CONCLUÍDO             2012.2\n",
      "       matricula  periodo_matricula codigo_componente descricao  media_final\n",
      "14756   10821361             2008.2           1101171  TRANCADO          NaN\n",
      "14758   10821361             2009.1           1101171  APROVADO          5.0\n",
      "\n",
      "     matricula   cra  periodo_ingresso  descricao  periodo_conclusao\n",
      "590   11011089  6.15            2010.1  CONCLUÍDO             2015.2\n",
      "       matricula  periodo_matricula codigo_componente descricao  media_final\n",
      "16765   11011089             2010.1           1101171  APROVADO          5.1\n",
      "16766   11011089             2010.2           1101171  APROVADO          5.1\n",
      "\n",
      "     matricula   cra  periodo_ingresso  descricao  periodo_conclusao\n",
      "594   11011829  7.65            2010.1  CONCLUÍDO             2014.1\n",
      "       matricula  periodo_matricula codigo_componente   descricao  media_final\n",
      "16990   11011829             2010.1           1101171  REP. FALTA          0.0\n",
      "16998   11011829             2010.2           1101171  REP. FALTA          0.0\n",
      "17007   11011829             2011.2           1101171    APROVADO          7.0\n",
      "\n",
      "     matricula   cra  periodo_ingresso  descricao  periodo_conclusao\n",
      "613   11021067  7.93            2010.2  CONCLUÍDO             2015.2\n",
      "       matricula  periodo_matricula codigo_componente   descricao  media_final\n",
      "17557   11021067             2010.2           1101171  REP. FALTA          0.0\n",
      "17567   11021067             2011.1           1101171    APROVADO          7.0\n",
      "\n",
      "     matricula  cra  periodo_ingresso  descricao  periodo_conclusao\n",
      "607   11021068  5.6            2010.2  CONCLUÍDO             2016.2\n",
      "       matricula  periodo_matricula codigo_componente   descricao  media_final\n",
      "17622   11021068             2010.2           1101171  REP. FALTA          0.0\n",
      "17628   11021068             2011.1           1101171    APROVADO          6.8\n",
      "\n",
      "     matricula   cra  periodo_ingresso  descricao  periodo_conclusao\n",
      "606   11021593  4.94            2010.2  CONCLUÍDO             2017.2\n",
      "       matricula  periodo_matricula codigo_componente   descricao  media_final\n",
      "18035   11021593             2010.2           1101171  REP. FALTA          0.0\n",
      "18040   11021593             2011.1           1101171  REP. FALTA          0.0\n",
      "18055   11021593             2012.2           1101171    APROVADO          5.5\n",
      "\n",
      "     matricula   cra  periodo_ingresso  descricao  periodo_conclusao\n",
      "621   11111298  6.65            2011.1  CONCLUÍDO             2015.2\n"
     ]
    },
    {
     "name": "stdout",
     "output_type": "stream",
     "text": [
      "       matricula  periodo_matricula codigo_componente   descricao  media_final\n",
      "18338   11111298             2011.1           1101171  REP. FALTA         0.00\n",
      "18343   11111298             2011.2           1101171   REPROVADO         4.07\n",
      "18348   11111298             2012.1           1101171    APROVADO         8.50\n",
      "\n",
      "     matricula  cra  periodo_ingresso  descricao  periodo_conclusao\n",
      "624   11118146  8.1            2011.1  CONCLUÍDO             2017.1\n",
      "       matricula  periodo_matricula codigo_componente descricao  media_final\n",
      "18852   11118146             2011.1           1101171  TRANCADO         0.00\n",
      "18857   11118146             2011.2           1101171  APROVADO         7.03\n",
      "\n",
      "     matricula   cra  periodo_ingresso  descricao  periodo_conclusao\n",
      "618   11118204  4.76            2011.1  CONCLUÍDO             2018.1\n",
      "       matricula  periodo_matricula codigo_componente   descricao  media_final\n",
      "19133   11118204             2011.1           1101171  REP. FALTA          0.0\n",
      "19138   11118204             2011.2           1101171    APROVADO          5.2\n",
      "\n",
      "     matricula   cra  periodo_ingresso  descricao  periodo_conclusao\n",
      "642   11121191  5.98            2011.2  CONCLUÍDO             2017.1\n",
      "       matricula  periodo_matricula codigo_componente  descricao  media_final\n",
      "19355   11121191             2011.2           1101171  REPROVADO         1.37\n",
      "19359   11121191             2012.1           1101171   APROVADO         7.00\n",
      "\n",
      "     matricula   cra  periodo_ingresso  descricao  periodo_conclusao\n",
      "631   11121223  6.62            2011.2  CONCLUÍDO             2017.1\n",
      "       matricula  periodo_matricula codigo_componente  descricao  media_final\n",
      "19845   11121223             2011.2           1101171  REPROVADO          3.4\n",
      "19850   11121223             2012.1           1101171   APROVADO          6.0\n",
      "\n",
      "     matricula   cra  periodo_ingresso  descricao  periodo_conclusao\n",
      "639   11121911  5.59            2011.2  CONCLUÍDO             2018.1\n",
      "       matricula  periodo_matricula codigo_componente  descricao  media_final\n",
      "20133   11121911             2011.2           1101171  REPROVADO         0.42\n",
      "20141   11121911             2012.1           1101171   APROVADO         7.00\n",
      "\n",
      "     matricula   cra  periodo_ingresso  descricao  periodo_conclusao\n",
      "632   11121912  6.34            2011.2  CONCLUÍDO             2017.1\n",
      "       matricula  periodo_matricula codigo_componente   descricao  media_final\n",
      "20215   11121912             2011.2           1101171  REP. FALTA          0.0\n",
      "20222   11121912             2012.1           1101171    APROVADO          5.7\n",
      "\n",
      "     matricula   cra  periodo_ingresso  descricao  periodo_conclusao\n",
      "649   11211425  7.47            2012.1  CONCLUÍDO             2017.1\n",
      "       matricula  periodo_matricula codigo_componente  descricao  media_final\n",
      "20798   11211425             2012.1           1101171  REPROVADO          4.6\n",
      "20801   11211425             2012.2           1101171   APROVADO          7.0\n",
      "\n",
      "     matricula   cra  periodo_ingresso  descricao  periodo_conclusao\n",
      "651   11218638  8.75            2012.1  CONCLUÍDO             2016.2\n",
      "       matricula  periodo_matricula codigo_componente descricao  media_final\n",
      "21094   11218638             2012.1           1101171  TRANCADO          NaN\n",
      "21101   11218638             2012.2           1101171  APROVADO          5.2\n",
      "\n",
      "     matricula   cra  periodo_ingresso  descricao  periodo_conclusao\n",
      "661   11218640  6.52            2012.1  CONCLUÍDO             2018.1\n",
      "       matricula  periodo_matricula codigo_componente   descricao  media_final\n",
      "21154   11218640             2012.1           1101171   REPROVADO          2.9\n",
      "21159   11218640             2012.2           1101171   REPROVADO          3.4\n",
      "21163   11218640             2013.1           1101171   REPROVADO          0.8\n",
      "21197   11218640             2015.2           1101171  REP. FALTA          1.5\n",
      "21206   11218640             2016.1           1101171  INDEFERIDO          NaN\n",
      "21208   11218640             2016.1           1101171  INDEFERIDO          NaN\n",
      "21210   11218640             2016.2           1101171  INDEFERIDO          NaN\n",
      "21214   11218640             2016.2           1101171   REPROVADO          3.0\n",
      "21221   11218640             2017.1           1101171    APROVADO          5.0\n",
      "21223   11218640             2017.1           1101171  INDEFERIDO          NaN\n",
      "\n",
      "     matricula   cra  periodo_ingresso  descricao  periodo_conclusao\n",
      "658   11218649  6.26            2012.1  CONCLUÍDO             2017.2\n",
      "       matricula  periodo_matricula codigo_componente  descricao  media_final\n",
      "21290   11218649             2012.1           1101171  REPROVADO          3.4\n",
      "21296   11218649             2012.2           1101171   APROVADO          5.1\n",
      "\n",
      "     matricula   cra  periodo_ingresso  descricao  periodo_conclusao\n",
      "656   11218797  6.82            2012.1  CONCLUÍDO             2018.1\n",
      "       matricula  periodo_matricula codigo_componente   descricao  media_final\n",
      "21473   11218797             2012.1           1101171  REP. FALTA         0.00\n",
      "21478   11218797             2012.2           1101171   REPROVADO         3.30\n",
      "21494   11218797             2014.1           1101171   REPROVADO         1.77\n",
      "21515   11218797             2015.2           1101171    APROVADO         5.40\n",
      "\n",
      "     matricula   cra  periodo_ingresso  descricao  periodo_conclusao\n",
      "668   11221240  7.33            2012.2  CONCLUÍDO             2016.2\n",
      "       matricula  periodo_matricula codigo_componente  descricao  media_final\n",
      "21608   11221240             2012.2           1101171  REPROVADO         3.70\n",
      "21614   11221240             2013.1           1101171  REPROVADO         3.20\n",
      "21624   11221240             2014.1           1101171   APROVADO         7.77\n",
      "\n",
      "     matricula   cra  periodo_ingresso  descricao  periodo_conclusao\n",
      "665   11221826  7.67            2012.2  CONCLUÍDO             2017.2\n",
      "       matricula  periodo_matricula codigo_componente  descricao  media_final\n",
      "21724   11221826             2012.2           1101171  REPROVADO          3.8\n",
      "21731   11221826             2013.1           1101171   APROVADO          7.0\n",
      "\n",
      "     matricula  cra  periodo_ingresso         descricao  periodo_conclusao\n",
      "666   11221998  5.1            2012.2  ATIVO - FORMANDO             2018.2\n",
      "       matricula  periodo_matricula codigo_componente   descricao  media_final\n",
      "21796   11221998             2012.2           1101171   REPROVADO         1.50\n",
      "21799   11221998             2013.1           1101171    TRANCADO          NaN\n",
      "21809   11221998             2014.1           1101171   REPROVADO         1.33\n",
      "21826   11221998             2015.2           1101171   REPROVADO         0.20\n",
      "21846   11221998             2016.2           1101171  INDEFERIDO          NaN\n",
      "21851   11221998             2016.2           1101171  INDEFERIDO          NaN\n",
      "21862   11221998             2017.1           1101171    APROVADO         5.00\n",
      "\n",
      "     matricula   cra  periodo_ingresso  descricao  periodo_conclusao\n",
      "667   11228207  6.58            2012.2  CONCLUÍDO             2018.1\n",
      "       matricula  periodo_matricula codigo_componente   descricao  media_final\n",
      "21952   11228207             2012.2           1101171   REPROVADO          1.9\n",
      "21954   11228207             2013.1           1101171  REP. FALTA          0.0\n",
      "22007   11228207             2016.2           1101171  INDEFERIDO          NaN\n",
      "22010   11228207             2017.1           1101171  INDEFERIDO          NaN\n",
      "22018   11228207             2017.1           1101171   REPROVADO          2.8\n",
      "22024   11228207             2017.2           1101171    APROVADO          5.0\n",
      "\n",
      "     matricula   cra  periodo_ingresso  descricao  periodo_conclusao\n",
      "675   11311009  7.94            2013.1  CONCLUÍDO             2017.2\n",
      "       matricula  periodo_matricula codigo_componente  descricao  media_final\n",
      "22091   11311009             2013.1           1101171  REPROVADO          3.5\n",
      "22093   11311009             2013.2           1101171   APROVADO          8.8\n",
      "\n",
      "     matricula   cra  periodo_ingresso  descricao  periodo_conclusao\n",
      "673   11318739  7.54            2013.1  CONCLUÍDO             2017.2\n",
      "       matricula  periodo_matricula codigo_componente   descricao  media_final\n",
      "22483   11318739             2013.1           1101171  REP. FALTA          0.0\n",
      "22486   11318739             2013.2           1101171   REPROVADO          3.8\n",
      "22531   11318739             2016.1           1101171    APROVADO          5.0\n",
      "\n",
      "     matricula   cra  periodo_ingresso  descricao  periodo_conclusao\n",
      "695   11409543  8.93            2014.2  CONCLUÍDO             2018.1\n",
      "       matricula  periodo_matricula codigo_componente  descricao  media_final\n",
      "23419   11409543             2014.2           1101171  REPROVADO         3.48\n",
      "23423   11409543             2015.1           1101171   APROVADO         8.80\n",
      "\n",
      "     matricula  cra  periodo_ingresso  descricao  periodo_conclusao\n",
      "699   11511184  7.1            2015.1  CONCLUÍDO             2017.2\n"
     ]
    },
    {
     "name": "stdout",
     "output_type": "stream",
     "text": [
      "       matricula  periodo_matricula codigo_componente  descricao  media_final\n",
      "23834   11511184             2015.1           1101171  REPROVADO          1.1\n",
      "23856   11511184             2016.1           1101171   APROVADO          5.0\n",
      "\n",
      "     matricula   cra  periodo_ingresso  descricao  periodo_conclusao\n",
      "696   11512971  7.98            2015.1  CONCLUÍDO             2018.1\n",
      "       matricula  periodo_matricula codigo_componente descricao  media_final\n",
      "23920   11512971             2017.1           1101171  APROVADO          5.1\n",
      "\n",
      "     matricula   cra  periodo_ingresso  descricao  periodo_conclusao\n",
      "510   10621030  6.86            2006.2  CONCLUÍDO             2010.2\n",
      "       matricula  periodo_matricula codigo_componente   descricao  media_final\n",
      "12298   10621030             2006.2           1101171   REPROVADO          3.8\n",
      "12304   10621030             2007.1           1101171    APROVADO          5.7\n",
      "12353   10621030             2010.2           1101171  DISPENSADO          5.7\n",
      "\n",
      "     matricula  cra  periodo_ingresso  descricao  periodo_conclusao\n",
      "534   10721026  8.8            2007.2  CONCLUÍDO             2011.2\n",
      "       matricula  periodo_matricula codigo_componente   descricao  media_final\n",
      "13816   10721026             2007.2           1101171    EXCLUIDA          7.1\n",
      "13845   10721026             2010.2           1101171  DISPENSADO          7.1\n",
      "\n",
      "     matricula  cra  periodo_ingresso  descricao  periodo_conclusao\n",
      "616   11111299  8.4            2011.1  CONCLUÍDO             2011.2\n",
      "       matricula  periodo_matricula codigo_componente   descricao  media_final\n",
      "18439   11111299             2011.2           1101171  DISPENSADO          5.7\n",
      "\n",
      "     matricula   cra  periodo_ingresso  descricao  periodo_conclusao\n",
      "672   11311014  7.57            2013.1  CONCLUÍDO             2018.1\n",
      "       matricula  periodo_matricula codigo_componente    descricao  \\\n",
      "22149   11311014             2013.1           1101171   REP. FALTA   \n",
      "22156   11311014             2013.2           1101171   REP. FALTA   \n",
      "22162   11311014             2014.1           1101171   REP. FALTA   \n",
      "22195   11311014             2016.2           1101171   INDEFERIDO   \n",
      "22213   11311014             2017.2           1101171     TRANCADO   \n",
      "22214   11311014             2017.2           1101171   DISPENSADO   \n",
      "22221   11311014             2017.2           1101171  DESISTENCIA   \n",
      "\n",
      "       media_final  \n",
      "22149          0.0  \n",
      "22156          0.0  \n",
      "22162          0.0  \n",
      "22195          NaN  \n",
      "22213          NaN  \n",
      "22214          9.5  \n",
      "22221          NaN  \n",
      "\n"
     ]
    }
   ],
   "source": [
    "for aluno in alunos_nao_rec:\n",
    "    print(discentes_depois[discentes_depois['matricula'] == aluno])\n",
    "    aux = matriculas_geral[matriculas_geral['matricula'] == aluno]\n",
    "    aux = aux[aux['codigo_componente'] == codigo]\n",
    "    print(aux)\n",
    "    \n",
    "    print()"
   ]
  },
  {
   "cell_type": "code",
   "execution_count": 65,
   "metadata": {},
   "outputs": [],
   "source": [
    "mat_estranho = 11011089\n",
    "alunos_nao_rec.remove(mat_estranho)"
   ]
  },
  {
   "cell_type": "code",
   "execution_count": 66,
   "metadata": {},
   "outputs": [],
   "source": [
    "aux = util_extrator_padroes.porcentagem_por_periodo(alunos_nao_rec, discentes_depois, matriculas_realizadas, codigo,\n",
    "                            periodo_rec=periodo_rec)"
   ]
  },
  {
   "cell_type": "code",
   "execution_count": 67,
   "metadata": {},
   "outputs": [
    {
     "data": {
      "text/plain": [
       "[0.0,\n",
       " 0.6304347826086957,\n",
       " 0.10869565217391304,\n",
       " 0.06521739130434782,\n",
       " 0.043478260869565216,\n",
       " 0.0,\n",
       " 0.043478260869565216,\n",
       " 0.021739130434782608,\n",
       " 0.0,\n",
       " 0.043478260869565216,\n",
       " 0.043478260869565216]"
      ]
     },
     "execution_count": 67,
     "metadata": {},
     "output_type": "execute_result"
    }
   ],
   "source": [
    "aux"
   ]
  },
  {
   "cell_type": "code",
   "execution_count": 68,
   "metadata": {},
   "outputs": [
    {
     "data": {
      "text/plain": [
       "0.9999999999999999"
      ]
     },
     "execution_count": 68,
     "metadata": {},
     "output_type": "execute_result"
    }
   ],
   "source": [
    "sum(aux)"
   ]
  },
  {
   "cell_type": "code",
   "execution_count": 69,
   "metadata": {},
   "outputs": [
    {
     "data": {
      "image/png": "[encoded data removed]",
      "text/plain": [
       "<Figure size 432x288 with 1 Axes>"
      ]
     },
     "metadata": {
      "needs_background": "light"
     },
     "output_type": "display_data"
    }
   ],
   "source": [
    "util_gerador_graficos.plot_ditribuicao_alunos(aux)\n",
    "\n",
    "#tem um aluno com dois aprovados, um deles no primeiro semestre olhar dps"
   ]
  },
  {
   "cell_type": "code",
   "execution_count": 70,
   "metadata": {},
   "outputs": [],
   "source": [
    "aux = util_extrator_padroes.porcentagem_por_situacao(alunos_nao_rec, discentes_depois, matriculas_geral, codigo,\n",
    "                            periodo_rec=periodo_rec)"
   ]
  },
  {
   "cell_type": "code",
   "execution_count": 71,
   "metadata": {
    "scrolled": true
   },
   "outputs": [
    {
     "data": {
      "text/plain": [
       "{'REPROVADO': 0.5652173913043478,\n",
       " 'TRANCADO': 0.13043478260869565,\n",
       " 'REP. FALTA': 0.2391304347826087,\n",
       " 'APROVADO': 0.021739130434782608,\n",
       " 'EXCLUIDA': 0.021739130434782608,\n",
       " 'DISPENSADO': 0.021739130434782608}"
      ]
     },
     "execution_count": 71,
     "metadata": {},
     "output_type": "execute_result"
    }
   ],
   "source": [
    "aux"
   ]
  },
  {
   "cell_type": "code",
   "execution_count": 72,
   "metadata": {},
   "outputs": [
    {
     "data": {
      "text/html": [
       "<div>\n",
       "<style scoped>\n",
       "    .dataframe tbody tr th:only-of-type {\n",
       "        vertical-align: middle;\n",
       "    }\n",
       "\n",
       "    .dataframe tbody tr th {\n",
       "        vertical-align: top;\n",
       "    }\n",
       "\n",
       "    .dataframe thead th {\n",
       "        text-align: right;\n",
       "    }\n",
       "</style>\n",
       "<table border=\"1\" class=\"dataframe\">\n",
       "  <thead>\n",
       "    <tr style=\"text-align: right;\">\n",
       "      <th></th>\n",
       "      <th>matricula</th>\n",
       "      <th>cra</th>\n",
       "      <th>periodo_ingresso</th>\n",
       "      <th>descricao</th>\n",
       "      <th>periodo_conclusao</th>\n",
       "    </tr>\n",
       "  </thead>\n",
       "  <tbody>\n",
       "    <tr>\n",
       "      <th>534</th>\n",
       "      <td>10721026</td>\n",
       "      <td>8.8</td>\n",
       "      <td>2007.2</td>\n",
       "      <td>CONCLUÍDO</td>\n",
       "      <td>2011.2</td>\n",
       "    </tr>\n",
       "  </tbody>\n",
       "</table>\n",
       "</div>"
      ],
      "text/plain": [
       "     matricula  cra  periodo_ingresso  descricao  periodo_conclusao\n",
       "534   10721026  8.8            2007.2  CONCLUÍDO             2011.2"
      ]
     },
     "execution_count": 72,
     "metadata": {},
     "output_type": "execute_result"
    }
   ],
   "source": [
    "discentes_depois[discentes_depois['matricula'] == 10721026]"
   ]
  },
  {
   "cell_type": "code",
   "execution_count": 73,
   "metadata": {},
   "outputs": [
    {
     "data": {
      "text/html": [
       "<div>\n",
       "<style scoped>\n",
       "    .dataframe tbody tr th:only-of-type {\n",
       "        vertical-align: middle;\n",
       "    }\n",
       "\n",
       "    .dataframe tbody tr th {\n",
       "        vertical-align: top;\n",
       "    }\n",
       "\n",
       "    .dataframe thead th {\n",
       "        text-align: right;\n",
       "    }\n",
       "</style>\n",
       "<table border=\"1\" class=\"dataframe\">\n",
       "  <thead>\n",
       "    <tr style=\"text-align: right;\">\n",
       "      <th></th>\n",
       "      <th>matricula</th>\n",
       "      <th>periodo_matricula</th>\n",
       "      <th>codigo_componente</th>\n",
       "      <th>descricao</th>\n",
       "      <th>media_final</th>\n",
       "    </tr>\n",
       "  </thead>\n",
       "  <tbody>\n",
       "    <tr>\n",
       "      <th>13816</th>\n",
       "      <td>10721026</td>\n",
       "      <td>2007.2</td>\n",
       "      <td>1101171</td>\n",
       "      <td>EXCLUIDA</td>\n",
       "      <td>7.1</td>\n",
       "    </tr>\n",
       "    <tr>\n",
       "      <th>13845</th>\n",
       "      <td>10721026</td>\n",
       "      <td>2010.2</td>\n",
       "      <td>1101171</td>\n",
       "      <td>DISPENSADO</td>\n",
       "      <td>7.1</td>\n",
       "    </tr>\n",
       "  </tbody>\n",
       "</table>\n",
       "</div>"
      ],
      "text/plain": [
       "       matricula  periodo_matricula codigo_componente   descricao  media_final\n",
       "13816   10721026             2007.2           1101171    EXCLUIDA          7.1\n",
       "13845   10721026             2010.2           1101171  DISPENSADO          7.1"
      ]
     },
     "execution_count": 73,
     "metadata": {},
     "output_type": "execute_result"
    }
   ],
   "source": [
    "aux = matriculas_geral[matriculas_geral['codigo_componente'] == codigo]\n",
    "aux[aux['matricula'] == 10721026]"
   ]
  }
 ],
 "metadata": {
  "kernelspec": {
   "display_name": "Python 3",
   "language": "python",
   "name": "python3"
  },
  "language_info": {
   "codemirror_mode": {
    "name": "ipython",
    "version": 3
   },
   "file_extension": ".py",
   "mimetype": "text/x-python",
   "name": "python",
   "nbconvert_exporter": "python",
   "pygments_lexer": "ipython3",
   "version": "3.6.8"
  }
 },
 "nbformat": 4,
 "nbformat_minor": 2
}
