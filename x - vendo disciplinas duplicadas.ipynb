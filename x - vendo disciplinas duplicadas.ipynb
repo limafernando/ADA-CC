{
 "cells": [
  {
   "cell_type": "markdown",
   "metadata": {},
   "source": [
    "# Análise das questões levantadas para as disciplinas do P2"
   ]
  },
  {
   "cell_type": "markdown",
   "metadata": {},
   "source": [
    "#### Importando Bibliotecas"
   ]
  },
  {
   "cell_type": "code",
   "execution_count": 1,
   "metadata": {},
   "outputs": [],
   "source": [
    "import pandas as pd\n",
    "from statistics import mean, median, mode, stdev, variance\n",
    "from os import listdir\n",
    "from math import modf"
   ]
  },
  {
   "cell_type": "code",
   "execution_count": 2,
   "metadata": {},
   "outputs": [],
   "source": [
    "import os\n",
    "import sys\n",
    "sys.path.append(os.path.abspath(\"util.py\"))\n",
    "\n",
    "import util\n",
    "import util_extrator_padroes"
   ]
  },
  {
   "cell_type": "markdown",
   "metadata": {},
   "source": [
    "#### Abrindo Arquivos CSV"
   ]
  },
  {
   "cell_type": "code",
   "execution_count": 3,
   "metadata": {},
   "outputs": [],
   "source": [
    "discentes = util.retorna_discentes()\n",
    "\n",
    "#disciplinas = util.retorna_componentes_com_semestre()\n",
    "\n",
    "disciplinas = util.retorna_componentes()\n",
    "\n",
    "matriculas_realizadas = util.retorna_matriculas()\n",
    "\n",
    "matriculas_geral = util.retorna_matriculas()"
   ]
  },
  {
   "cell_type": "code",
   "execution_count": 4,
   "metadata": {},
   "outputs": [
    {
     "data": {
      "text/html": [
       "<div>\n",
       "<style scoped>\n",
       "    .dataframe tbody tr th:only-of-type {\n",
       "        vertical-align: middle;\n",
       "    }\n",
       "\n",
       "    .dataframe tbody tr th {\n",
       "        vertical-align: top;\n",
       "    }\n",
       "\n",
       "    .dataframe thead th {\n",
       "        text-align: right;\n",
       "    }\n",
       "</style>\n",
       "<table border=\"1\" class=\"dataframe\">\n",
       "  <thead>\n",
       "    <tr style=\"text-align: right;\">\n",
       "      <th></th>\n",
       "      <th>matricula</th>\n",
       "      <th>cra</th>\n",
       "      <th>periodo_ingresso</th>\n",
       "      <th>descricao</th>\n",
       "      <th>periodo_conclusao</th>\n",
       "    </tr>\n",
       "  </thead>\n",
       "  <tbody>\n",
       "    <tr>\n",
       "      <th>0</th>\n",
       "      <td>18511024</td>\n",
       "      <td>8.18</td>\n",
       "      <td>1985.1</td>\n",
       "      <td>CONCLUÍDO</td>\n",
       "      <td>1988.2</td>\n",
       "    </tr>\n",
       "    <tr>\n",
       "      <th>1</th>\n",
       "      <td>18511029</td>\n",
       "      <td>7.70</td>\n",
       "      <td>1985.1</td>\n",
       "      <td>CONCLUÍDO</td>\n",
       "      <td>1988.2</td>\n",
       "    </tr>\n",
       "    <tr>\n",
       "      <th>2</th>\n",
       "      <td>18511030</td>\n",
       "      <td>9.22</td>\n",
       "      <td>1985.1</td>\n",
       "      <td>CONCLUÍDO</td>\n",
       "      <td>1988.2</td>\n",
       "    </tr>\n",
       "    <tr>\n",
       "      <th>3</th>\n",
       "      <td>18511033</td>\n",
       "      <td>8.31</td>\n",
       "      <td>1985.1</td>\n",
       "      <td>CONCLUÍDO</td>\n",
       "      <td>1988.2</td>\n",
       "    </tr>\n",
       "    <tr>\n",
       "      <th>4</th>\n",
       "      <td>18511035</td>\n",
       "      <td>8.06</td>\n",
       "      <td>1985.1</td>\n",
       "      <td>CONCLUÍDO</td>\n",
       "      <td>1988.2</td>\n",
       "    </tr>\n",
       "  </tbody>\n",
       "</table>\n",
       "</div>"
      ],
      "text/plain": [
       "   matricula   cra  periodo_ingresso  descricao  periodo_conclusao\n",
       "0   18511024  8.18            1985.1  CONCLUÍDO             1988.2\n",
       "1   18511029  7.70            1985.1  CONCLUÍDO             1988.2\n",
       "2   18511030  9.22            1985.1  CONCLUÍDO             1988.2\n",
       "3   18511033  8.31            1985.1  CONCLUÍDO             1988.2\n",
       "4   18511035  8.06            1985.1  CONCLUÍDO             1988.2"
      ]
     },
     "execution_count": 4,
     "metadata": {},
     "output_type": "execute_result"
    }
   ],
   "source": [
    "discentes.head()"
   ]
  },
  {
   "cell_type": "code",
   "execution_count": 5,
   "metadata": {},
   "outputs": [
    {
     "data": {
      "text/html": [
       "<div>\n",
       "<style scoped>\n",
       "    .dataframe tbody tr th:only-of-type {\n",
       "        vertical-align: middle;\n",
       "    }\n",
       "\n",
       "    .dataframe tbody tr th {\n",
       "        vertical-align: top;\n",
       "    }\n",
       "\n",
       "    .dataframe thead th {\n",
       "        text-align: right;\n",
       "    }\n",
       "</style>\n",
       "<table border=\"1\" class=\"dataframe\">\n",
       "  <thead>\n",
       "    <tr style=\"text-align: right;\">\n",
       "      <th></th>\n",
       "      <th>matricula</th>\n",
       "      <th>cra</th>\n",
       "      <th>periodo_ingresso</th>\n",
       "      <th>descricao</th>\n",
       "      <th>periodo_conclusao</th>\n",
       "    </tr>\n",
       "  </thead>\n",
       "  <tbody>\n",
       "    <tr>\n",
       "      <th>483</th>\n",
       "      <td>10611013</td>\n",
       "      <td>8.36</td>\n",
       "      <td>2006.1</td>\n",
       "      <td>CONCLUÍDO</td>\n",
       "      <td>2010.1</td>\n",
       "    </tr>\n",
       "    <tr>\n",
       "      <th>484</th>\n",
       "      <td>10611008</td>\n",
       "      <td>8.82</td>\n",
       "      <td>2006.1</td>\n",
       "      <td>CONCLUÍDO</td>\n",
       "      <td>2009.2</td>\n",
       "    </tr>\n",
       "    <tr>\n",
       "      <th>485</th>\n",
       "      <td>10611431</td>\n",
       "      <td>8.28</td>\n",
       "      <td>2006.1</td>\n",
       "      <td>CONCLUÍDO</td>\n",
       "      <td>2008.2</td>\n",
       "    </tr>\n",
       "    <tr>\n",
       "      <th>486</th>\n",
       "      <td>10611011</td>\n",
       "      <td>8.77</td>\n",
       "      <td>2006.1</td>\n",
       "      <td>CONCLUÍDO</td>\n",
       "      <td>2009.2</td>\n",
       "    </tr>\n",
       "    <tr>\n",
       "      <th>487</th>\n",
       "      <td>10611015</td>\n",
       "      <td>8.49</td>\n",
       "      <td>2006.1</td>\n",
       "      <td>CONCLUÍDO</td>\n",
       "      <td>2010.2</td>\n",
       "    </tr>\n",
       "  </tbody>\n",
       "</table>\n",
       "</div>"
      ],
      "text/plain": [
       "     matricula   cra  periodo_ingresso  descricao  periodo_conclusao\n",
       "483   10611013  8.36            2006.1  CONCLUÍDO             2010.1\n",
       "484   10611008  8.82            2006.1  CONCLUÍDO             2009.2\n",
       "485   10611431  8.28            2006.1  CONCLUÍDO             2008.2\n",
       "486   10611011  8.77            2006.1  CONCLUÍDO             2009.2\n",
       "487   10611015  8.49            2006.1  CONCLUÍDO             2010.2"
      ]
     },
     "execution_count": 5,
     "metadata": {},
     "output_type": "execute_result"
    }
   ],
   "source": [
    "discentes_depois = util.retorna_discentes_depois(discentes=discentes)\n",
    "\n",
    "discentes_depois.head()"
   ]
  },
  {
   "cell_type": "code",
   "execution_count": 6,
   "metadata": {},
   "outputs": [
    {
     "data": {
      "text/plain": [
       "[10611013, 10611008, 10611431, 10611011, 10611015]"
      ]
     },
     "execution_count": 6,
     "metadata": {},
     "output_type": "execute_result"
    }
   ],
   "source": [
    "matriculas_discentes = discentes_depois['matricula'].to_list()\n",
    "\n",
    "matriculas_discentes[:5]"
   ]
  },
  {
   "cell_type": "code",
   "execution_count": 7,
   "metadata": {},
   "outputs": [
    {
     "data": {
      "text/html": [
       "<div>\n",
       "<style scoped>\n",
       "    .dataframe tbody tr th:only-of-type {\n",
       "        vertical-align: middle;\n",
       "    }\n",
       "\n",
       "    .dataframe tbody tr th {\n",
       "        vertical-align: top;\n",
       "    }\n",
       "\n",
       "    .dataframe thead th {\n",
       "        text-align: right;\n",
       "    }\n",
       "</style>\n",
       "<table border=\"1\" class=\"dataframe\">\n",
       "  <thead>\n",
       "    <tr style=\"text-align: right;\">\n",
       "      <th></th>\n",
       "      <th>codigo</th>\n",
       "      <th>nome</th>\n",
       "      <th>ch_total</th>\n",
       "    </tr>\n",
       "  </thead>\n",
       "  <tbody>\n",
       "    <tr>\n",
       "      <th>0</th>\n",
       "      <td>1101101</td>\n",
       "      <td>COMPLEMENTOS EM FISICA GERAL I</td>\n",
       "      <td>30</td>\n",
       "    </tr>\n",
       "    <tr>\n",
       "      <th>1</th>\n",
       "      <td>1101107</td>\n",
       "      <td>ESTRUTURA DA MATÉRIA I</td>\n",
       "      <td>60</td>\n",
       "    </tr>\n",
       "    <tr>\n",
       "      <th>2</th>\n",
       "      <td>1101117</td>\n",
       "      <td>FISICA GERAL I</td>\n",
       "      <td>90</td>\n",
       "    </tr>\n",
       "    <tr>\n",
       "      <th>3</th>\n",
       "      <td>1101118</td>\n",
       "      <td>FISICA GERAL II</td>\n",
       "      <td>90</td>\n",
       "    </tr>\n",
       "    <tr>\n",
       "      <th>4</th>\n",
       "      <td>1101119</td>\n",
       "      <td>FISICA GERAL III</td>\n",
       "      <td>90</td>\n",
       "    </tr>\n",
       "  </tbody>\n",
       "</table>\n",
       "</div>"
      ],
      "text/plain": [
       "    codigo                            nome  ch_total\n",
       "0  1101101  COMPLEMENTOS EM FISICA GERAL I        30\n",
       "1  1101107          ESTRUTURA DA MATÉRIA I        60\n",
       "2  1101117                  FISICA GERAL I        90\n",
       "3  1101118                 FISICA GERAL II        90\n",
       "4  1101119                FISICA GERAL III        90"
      ]
     },
     "execution_count": 7,
     "metadata": {},
     "output_type": "execute_result"
    }
   ],
   "source": [
    "disciplinas.head()"
   ]
  },
  {
   "cell_type": "code",
   "execution_count": 8,
   "metadata": {},
   "outputs": [
    {
     "data": {
      "text/plain": [
       "codigo      291\n",
       "nome        291\n",
       "ch_total    291\n",
       "dtype: int64"
      ]
     },
     "execution_count": 8,
     "metadata": {},
     "output_type": "execute_result"
    }
   ],
   "source": [
    "disciplinas.count()"
   ]
  },
  {
   "cell_type": "code",
   "execution_count": 9,
   "metadata": {},
   "outputs": [],
   "source": [
    "#periodo_rec = 2"
   ]
  },
  {
   "cell_type": "code",
   "execution_count": 10,
   "metadata": {},
   "outputs": [
    {
     "data": {
      "text/plain": [
       "\"disciplinas = disciplinas[disciplinas['semestre']]\\ndisciplinas.count()\""
      ]
     },
     "execution_count": 10,
     "metadata": {},
     "output_type": "execute_result"
    }
   ],
   "source": [
    "'''disciplinas = disciplinas[disciplinas['semestre']]\n",
    "disciplinas.count()'''"
   ]
  },
  {
   "cell_type": "code",
   "execution_count": 11,
   "metadata": {},
   "outputs": [
    {
     "data": {
      "text/plain": [
       "['1101101', '1101107', '1101117', '1101118', '1101119']"
      ]
     },
     "execution_count": 11,
     "metadata": {},
     "output_type": "execute_result"
    }
   ],
   "source": [
    "codigos_disciplinas = disciplinas['codigo'].to_list()\n",
    "\n",
    "codigos_disciplinas[:5]"
   ]
  },
  {
   "cell_type": "code",
   "execution_count": 12,
   "metadata": {},
   "outputs": [
    {
     "data": {
      "text/html": [
       "<div>\n",
       "<style scoped>\n",
       "    .dataframe tbody tr th:only-of-type {\n",
       "        vertical-align: middle;\n",
       "    }\n",
       "\n",
       "    .dataframe tbody tr th {\n",
       "        vertical-align: top;\n",
       "    }\n",
       "\n",
       "    .dataframe thead th {\n",
       "        text-align: right;\n",
       "    }\n",
       "</style>\n",
       "<table border=\"1\" class=\"dataframe\">\n",
       "  <thead>\n",
       "    <tr style=\"text-align: right;\">\n",
       "      <th></th>\n",
       "      <th>matricula</th>\n",
       "      <th>periodo_matricula</th>\n",
       "      <th>codigo_componente</th>\n",
       "      <th>descricao</th>\n",
       "      <th>media_final</th>\n",
       "    </tr>\n",
       "  </thead>\n",
       "  <tbody>\n",
       "    <tr>\n",
       "      <th>0</th>\n",
       "      <td>10011003</td>\n",
       "      <td>2000.1</td>\n",
       "      <td>1103114</td>\n",
       "      <td>APROVADO</td>\n",
       "      <td>9.7</td>\n",
       "    </tr>\n",
       "    <tr>\n",
       "      <th>1</th>\n",
       "      <td>10011003</td>\n",
       "      <td>2000.1</td>\n",
       "      <td>1107137</td>\n",
       "      <td>APROVADO</td>\n",
       "      <td>10.0</td>\n",
       "    </tr>\n",
       "    <tr>\n",
       "      <th>2</th>\n",
       "      <td>10011003</td>\n",
       "      <td>2000.1</td>\n",
       "      <td>1103118</td>\n",
       "      <td>APROVADO</td>\n",
       "      <td>9.8</td>\n",
       "    </tr>\n",
       "    <tr>\n",
       "      <th>3</th>\n",
       "      <td>10011003</td>\n",
       "      <td>2000.1</td>\n",
       "      <td>1107136</td>\n",
       "      <td>APROVADO</td>\n",
       "      <td>10.0</td>\n",
       "    </tr>\n",
       "    <tr>\n",
       "      <th>4</th>\n",
       "      <td>10011003</td>\n",
       "      <td>2000.1</td>\n",
       "      <td>1101117</td>\n",
       "      <td>APROVADO</td>\n",
       "      <td>10.0</td>\n",
       "    </tr>\n",
       "  </tbody>\n",
       "</table>\n",
       "</div>"
      ],
      "text/plain": [
       "   matricula  periodo_matricula codigo_componente descricao  media_final\n",
       "0   10011003             2000.1           1103114  APROVADO          9.7\n",
       "1   10011003             2000.1           1107137  APROVADO         10.0\n",
       "2   10011003             2000.1           1103118  APROVADO          9.8\n",
       "3   10011003             2000.1           1107136  APROVADO         10.0\n",
       "4   10011003             2000.1           1101117  APROVADO         10.0"
      ]
     },
     "execution_count": 12,
     "metadata": {},
     "output_type": "execute_result"
    }
   ],
   "source": [
    "matriculas_realizadas.head()"
   ]
  },
  {
   "cell_type": "markdown",
   "metadata": {},
   "source": [
    "### Tratando disciplinas com mais de um registro"
   ]
  },
  {
   "cell_type": "markdown",
   "metadata": {},
   "source": [
    "Disciplinas que precisam desse tratamento:\n",
    "\n",
    "* LOGICA APLC A COMPUTACAO e LOGICA APLICADA A COMPUTACAO\n",
    "\n",
    "* CALCULO NUMERICO (sem nenhuma matricula) e CALCULO NUMERICO e CALCULO NUMERICO\n",
    "\n",
    "* INTRODUCAO AO PROC DIGITAL DE IMAGENS e INTRODUÇÃO AO PROCESSAMENTO DIGITAL DE IMAGENS\n",
    "\n",
    "* ARQUITETURA DE COMPUTADORES II e ARQUITETURA DE COMPUTADORES II\n",
    "\n",
    "* ADM SIST DE INFORMACOES e ADMINISTRACAO DE SISTEMAS DE INFORMACAO\n",
    "\n",
    "* CONSTRUCAO DE COMPILADORES I e CONSTRUÇÃO DE COMPILADORES I\n",
    "\n",
    "* REDES DE COMPUTADORES I e REDES DE COMPUTADORES I\n",
    "\n",
    "* ESTÁGIO SUPERVISIONADO e ESTAGIO SUPERVISIONADO"
   ]
  },
  {
   "cell_type": "code",
   "execution_count": 20,
   "metadata": {
    "scrolled": true
   },
   "outputs": [
    {
     "name": "stdout",
     "output_type": "stream",
     "text": [
      "['1107149', '1107200']\n",
      "['1103176', '1107114', 'GDCOC0072']\n",
      "['1107122', 'GDSCO0043']\n",
      "['1107207', 'GDSCO0062']\n",
      "['GDINF0100', '1107185']\n"
     ]
    }
   ],
   "source": [
    "logica = []\n",
    "logica.append(disciplinas[disciplinas['nome'] == 'LOGICA APLC A COMPUTACAO']['codigo'].iloc[0])\n",
    "logica.append(disciplinas[disciplinas['nome'] == 'LOGICA APLICADA A COMPUTACAO']['codigo'].iloc[0])\n",
    "print(logica)\n",
    "\n",
    "numerico = []\n",
    "numerico = disciplinas[disciplinas['nome'] == 'CALCULO NUMERICO']['codigo'].to_list()\n",
    "print(numerico)\n",
    "\n",
    "comp = []\n",
    "comp.append(disciplinas[disciplinas['nome'] == 'CONSTRUCAO DE COMPILADORES I']['codigo'].iloc[0])\n",
    "comp.append(disciplinas[disciplinas['nome'] == 'CONSTRUÇÃO DE COMPILADORES I']['codigo'].iloc[0])\n",
    "print(comp)\n",
    "\n",
    "redes = []\n",
    "redes = disciplinas[disciplinas['nome'] == 'REDES DE COMPUTADORES I']['codigo'].to_list()\n",
    "print(redes)\n",
    "\n",
    "estagio = []\n",
    "estagio.append(disciplinas[disciplinas['nome'] == 'ESTÁGIO SUPERVISIONADO']['codigo'].iloc[0])\n",
    "estagio.append(disciplinas[disciplinas['nome'] == 'ESTAGIO SUPERVISIONADO']['codigo'].iloc[0])\n",
    "print(estagio)"
   ]
  },
  {
   "cell_type": "code",
   "execution_count": 22,
   "metadata": {},
   "outputs": [],
   "source": [
    "aux = logica+numerico+comp+redes+estagio"
   ]
  },
  {
   "cell_type": "code",
   "execution_count": 23,
   "metadata": {},
   "outputs": [
    {
     "name": "stdout",
     "output_type": "stream",
     "text": [
      "     codigo                      nome  ch_total\n",
      "82  1107149  LOGICA APLC A COMPUTACAO        60\n",
      "      codigo                          nome  ch_total\n",
      "116  1107200  LOGICA APLICADA A COMPUTACAO        60\n",
      "     codigo              nome  ch_total\n",
      "32  1103176  CALCULO NUMERICO        60\n",
      "     codigo              nome  ch_total\n",
      "58  1107114  CALCULO NUMERICO        60\n",
      "        codigo              nome  ch_total\n",
      "275  GDCOC0072  CALCULO NUMERICO        60\n",
      "     codigo                          nome  ch_total\n",
      "64  1107122  CONSTRUCAO DE COMPILADORES I        60\n",
      "        codigo                          nome  ch_total\n",
      "283  GDSCO0043  CONSTRUÇÃO DE COMPILADORES I        60\n",
      "      codigo                     nome  ch_total\n",
      "123  1107207  REDES DE COMPUTADORES I        60\n",
      "        codigo                     nome  ch_total\n",
      "286  GDSCO0062  REDES DE COMPUTADORES I        60\n",
      "        codigo                    nome  ch_total\n",
      "276  GDINF0100  ESTÁGIO SUPERVISIONADO       300\n",
      "      codigo                    nome  ch_total\n",
      "100  1107185  ESTAGIO SUPERVISIONADO       300\n"
     ]
    }
   ],
   "source": [
    "aux_df = []\n",
    "for a in aux:\n",
    "    print(disciplinas[disciplinas['codigo'] == a])\n",
    "    aux_df.append(disciplinas[disciplinas['codigo'] == a])"
   ]
  },
  {
   "cell_type": "code",
   "execution_count": 19,
   "metadata": {},
   "outputs": [
    {
     "data": {
      "text/html": [
       "<div>\n",
       "<style scoped>\n",
       "    .dataframe tbody tr th:only-of-type {\n",
       "        vertical-align: middle;\n",
       "    }\n",
       "\n",
       "    .dataframe tbody tr th {\n",
       "        vertical-align: top;\n",
       "    }\n",
       "\n",
       "    .dataframe thead th {\n",
       "        text-align: right;\n",
       "    }\n",
       "</style>\n",
       "<table border=\"1\" class=\"dataframe\">\n",
       "  <thead>\n",
       "    <tr style=\"text-align: right;\">\n",
       "      <th></th>\n",
       "      <th>codigo</th>\n",
       "      <th>nome</th>\n",
       "      <th>ch_total</th>\n",
       "    </tr>\n",
       "  </thead>\n",
       "  <tbody>\n",
       "    <tr>\n",
       "      <th>82</th>\n",
       "      <td>1107149</td>\n",
       "      <td>LOGICA APLC A COMPUTACAO</td>\n",
       "      <td>60</td>\n",
       "    </tr>\n",
       "    <tr>\n",
       "      <th>116</th>\n",
       "      <td>1107200</td>\n",
       "      <td>LOGICA APLICADA A COMPUTACAO</td>\n",
       "      <td>60</td>\n",
       "    </tr>\n",
       "    <tr>\n",
       "      <th>32</th>\n",
       "      <td>1103176</td>\n",
       "      <td>CALCULO NUMERICO</td>\n",
       "      <td>60</td>\n",
       "    </tr>\n",
       "    <tr>\n",
       "      <th>58</th>\n",
       "      <td>1107114</td>\n",
       "      <td>CALCULO NUMERICO</td>\n",
       "      <td>60</td>\n",
       "    </tr>\n",
       "    <tr>\n",
       "      <th>275</th>\n",
       "      <td>GDCOC0072</td>\n",
       "      <td>CALCULO NUMERICO</td>\n",
       "      <td>60</td>\n",
       "    </tr>\n",
       "    <tr>\n",
       "      <th>112</th>\n",
       "      <td>1107196</td>\n",
       "      <td>INTRODUCAO AO PROC DIGITAL DE IMAGENS</td>\n",
       "      <td>60</td>\n",
       "    </tr>\n",
       "    <tr>\n",
       "      <th>285</th>\n",
       "      <td>GDSCO0055</td>\n",
       "      <td>INTRODUÇÃO AO PROCESSAMENTO DIGITAL DE IMAGENS</td>\n",
       "      <td>60</td>\n",
       "    </tr>\n",
       "    <tr>\n",
       "      <th>123</th>\n",
       "      <td>1107207</td>\n",
       "      <td>REDES DE COMPUTADORES I</td>\n",
       "      <td>60</td>\n",
       "    </tr>\n",
       "    <tr>\n",
       "      <th>286</th>\n",
       "      <td>GDSCO0062</td>\n",
       "      <td>REDES DE COMPUTADORES I</td>\n",
       "      <td>60</td>\n",
       "    </tr>\n",
       "    <tr>\n",
       "      <th>276</th>\n",
       "      <td>GDINF0100</td>\n",
       "      <td>ESTÁGIO SUPERVISIONADO</td>\n",
       "      <td>300</td>\n",
       "    </tr>\n",
       "    <tr>\n",
       "      <th>100</th>\n",
       "      <td>1107185</td>\n",
       "      <td>ESTAGIO SUPERVISIONADO</td>\n",
       "      <td>300</td>\n",
       "    </tr>\n",
       "  </tbody>\n",
       "</table>\n",
       "</div>"
      ],
      "text/plain": [
       "        codigo                                            nome  ch_total\n",
       "82     1107149                        LOGICA APLC A COMPUTACAO        60\n",
       "116    1107200                    LOGICA APLICADA A COMPUTACAO        60\n",
       "32     1103176                                CALCULO NUMERICO        60\n",
       "58     1107114                                CALCULO NUMERICO        60\n",
       "275  GDCOC0072                                CALCULO NUMERICO        60\n",
       "112    1107196           INTRODUCAO AO PROC DIGITAL DE IMAGENS        60\n",
       "285  GDSCO0055  INTRODUÇÃO AO PROCESSAMENTO DIGITAL DE IMAGENS        60\n",
       "123    1107207                         REDES DE COMPUTADORES I        60\n",
       "286  GDSCO0062                         REDES DE COMPUTADORES I        60\n",
       "276  GDINF0100                          ESTÁGIO SUPERVISIONADO       300\n",
       "100    1107185                          ESTAGIO SUPERVISIONADO       300"
      ]
     },
     "execution_count": 19,
     "metadata": {},
     "output_type": "execute_result"
    }
   ],
   "source": [
    "pd.concat(aux_df)"
   ]
  }
 ],
 "metadata": {
  "kernelspec": {
   "display_name": "Python 3",
   "language": "python",
   "name": "python3"
  },
  "language_info": {
   "codemirror_mode": {
    "name": "ipython",
    "version": 3
   },
   "file_extension": ".py",
   "mimetype": "text/x-python",
   "name": "python",
   "nbconvert_exporter": "python",
   "pygments_lexer": "ipython3",
   "version": "3.6.8"
  }
 },
 "nbformat": 4,
 "nbformat_minor": 2
}
