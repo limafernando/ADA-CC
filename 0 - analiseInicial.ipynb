{
 "cells": [
  {
   "cell_type": "markdown",
   "metadata": {},
   "source": [
    "# Análise Incial do Banco de Dados"
   ]
  },
  {
   "cell_type": "markdown",
   "metadata": {},
   "source": [
    "#### Importando Bibliotecas"
   ]
  },
  {
   "cell_type": "code",
   "execution_count": 1,
   "metadata": {},
   "outputs": [],
   "source": [
    "import pandas as pd\n",
    "from statistics import mean, median, mode, stdev, variance\n",
    "from os import listdir\n",
    "from math import modf"
   ]
  },
  {
   "cell_type": "code",
   "execution_count": 2,
   "metadata": {},
   "outputs": [],
   "source": [
    "import sys\n",
    "\n",
    "sys.path.insert(1, '/home/luiz/ufpb/tcc/ADA.CC/src/')\n",
    "\n",
    "from model import gerenciador_dados\n",
    "from controller import controlador_dados, operador_estatisticas"
   ]
  },
  {
   "cell_type": "markdown",
   "metadata": {},
   "source": [
    "#### Abrindo Arquivos CSV"
   ]
  },
  {
   "cell_type": "code",
   "execution_count": 3,
   "metadata": {},
   "outputs": [],
   "source": [
    "discentes = gerenciador_dados.retorna_discentes()\n",
    "\n",
    "disciplinas = gerenciador_dados.retorna_componentes()\n",
    "\n",
    "matriculas = gerenciador_dados.retorna_matriculas()"
   ]
  },
  {
   "cell_type": "markdown",
   "metadata": {},
   "source": [
    "## Análise do Arquivo discentes.csv"
   ]
  },
  {
   "cell_type": "code",
   "execution_count": 4,
   "metadata": {},
   "outputs": [
    {
     "data": {
      "text/html": [
       "<div>\n",
       "<style scoped>\n",
       "    .dataframe tbody tr th:only-of-type {\n",
       "        vertical-align: middle;\n",
       "    }\n",
       "\n",
       "    .dataframe tbody tr th {\n",
       "        vertical-align: top;\n",
       "    }\n",
       "\n",
       "    .dataframe thead th {\n",
       "        text-align: right;\n",
       "    }\n",
       "</style>\n",
       "<table border=\"1\" class=\"dataframe\">\n",
       "  <thead>\n",
       "    <tr style=\"text-align: right;\">\n",
       "      <th></th>\n",
       "      <th>matricula</th>\n",
       "      <th>cra</th>\n",
       "      <th>periodo_ingresso</th>\n",
       "      <th>descricao</th>\n",
       "      <th>periodo_conclusao</th>\n",
       "    </tr>\n",
       "  </thead>\n",
       "  <tbody>\n",
       "    <tr>\n",
       "      <th>0</th>\n",
       "      <td>18511024</td>\n",
       "      <td>8.18</td>\n",
       "      <td>1985.1</td>\n",
       "      <td>CONCLUÍDO</td>\n",
       "      <td>1988.2</td>\n",
       "    </tr>\n",
       "    <tr>\n",
       "      <th>1</th>\n",
       "      <td>18511029</td>\n",
       "      <td>7.70</td>\n",
       "      <td>1985.1</td>\n",
       "      <td>CONCLUÍDO</td>\n",
       "      <td>1988.2</td>\n",
       "    </tr>\n",
       "    <tr>\n",
       "      <th>2</th>\n",
       "      <td>18511030</td>\n",
       "      <td>9.22</td>\n",
       "      <td>1985.1</td>\n",
       "      <td>CONCLUÍDO</td>\n",
       "      <td>1988.2</td>\n",
       "    </tr>\n",
       "    <tr>\n",
       "      <th>3</th>\n",
       "      <td>18511033</td>\n",
       "      <td>8.31</td>\n",
       "      <td>1985.1</td>\n",
       "      <td>CONCLUÍDO</td>\n",
       "      <td>1988.2</td>\n",
       "    </tr>\n",
       "    <tr>\n",
       "      <th>4</th>\n",
       "      <td>18511035</td>\n",
       "      <td>8.06</td>\n",
       "      <td>1985.1</td>\n",
       "      <td>CONCLUÍDO</td>\n",
       "      <td>1988.2</td>\n",
       "    </tr>\n",
       "  </tbody>\n",
       "</table>\n",
       "</div>"
      ],
      "text/plain": [
       "   matricula   cra  periodo_ingresso  descricao  periodo_conclusao\n",
       "0   18511024  8.18            1985.1  CONCLUÍDO             1988.2\n",
       "1   18511029  7.70            1985.1  CONCLUÍDO             1988.2\n",
       "2   18511030  9.22            1985.1  CONCLUÍDO             1988.2\n",
       "3   18511033  8.31            1985.1  CONCLUÍDO             1988.2\n",
       "4   18511035  8.06            1985.1  CONCLUÍDO             1988.2"
      ]
     },
     "execution_count": 4,
     "metadata": {},
     "output_type": "execute_result"
    }
   ],
   "source": [
    "discentes.head()"
   ]
  },
  {
   "cell_type": "code",
   "execution_count": 5,
   "metadata": {},
   "outputs": [
    {
     "name": "stdout",
     "output_type": "stream",
     "text": [
      "<class 'numpy.int64'>\n",
      "<class 'numpy.float64'>\n",
      "<class 'numpy.float64'>\n",
      "<class 'str'>\n",
      "<class 'numpy.float64'>\n"
     ]
    }
   ],
   "source": [
    "print(type(discentes['matricula'].iloc[0]))\n",
    "print(type(discentes['cra'].iloc[0]))\n",
    "print(type(discentes['periodo_ingresso'].iloc[0]))\n",
    "print(type(discentes['descricao'].iloc[0]))\n",
    "print(type(discentes['periodo_conclusao'].iloc[0]))"
   ]
  },
  {
   "cell_type": "code",
   "execution_count": 6,
   "metadata": {
    "scrolled": true
   },
   "outputs": [
    {
     "data": {
      "text/plain": [
       "matricula            703\n",
       "cra                  703\n",
       "periodo_ingresso     703\n",
       "descricao            703\n",
       "periodo_conclusao    703\n",
       "dtype: int64"
      ]
     },
     "execution_count": 6,
     "metadata": {},
     "output_type": "execute_result"
    }
   ],
   "source": [
    "#quantidade total de amostras\n",
    "\n",
    "discentes.count() #não há nenhum dado faltando"
   ]
  },
  {
   "cell_type": "code",
   "execution_count": 7,
   "metadata": {},
   "outputs": [
    {
     "data": {
      "text/plain": [
       "matricula            483\n",
       "cra                  483\n",
       "periodo_ingresso     483\n",
       "descricao            483\n",
       "periodo_conclusao    483\n",
       "dtype: int64"
      ]
     },
     "execution_count": 7,
     "metadata": {},
     "output_type": "execute_result"
    }
   ],
   "source": [
    "#quantidade de amostras de alunos que ingressaram antes de 2006 (atualização do currículo)\n",
    "\n",
    "discentesAntes = controlador_dados.retorna_discentes_antes(discentes=discentes)\n",
    "discentesAntes.count()"
   ]
  },
  {
   "cell_type": "code",
   "execution_count": 8,
   "metadata": {},
   "outputs": [
    {
     "data": {
      "text/plain": [
       "matricula            220\n",
       "cra                  220\n",
       "periodo_ingresso     220\n",
       "descricao            220\n",
       "periodo_conclusao    220\n",
       "dtype: int64"
      ]
     },
     "execution_count": 8,
     "metadata": {},
     "output_type": "execute_result"
    }
   ],
   "source": [
    "#quantidade de amostras de alunos que ingressaram a partir de 2006 (atualização do currículo)\n",
    "\n",
    "discentesDepois = controlador_dados.retorna_discentes_depois(discentes=discentes)\n",
    "discentesDepois.count()"
   ]
  },
  {
   "cell_type": "code",
   "execution_count": 9,
   "metadata": {},
   "outputs": [
    {
     "name": "stdout",
     "output_type": "stream",
     "text": [
      "703\n",
      "mínimo: 3.35 \n",
      "máximo: 9.6\n",
      "média: 7.805604551920341 \n",
      "mediana: 7.97  \n",
      "moda: 8.63 \n",
      "desvia padrão: 0.9842248009386216 \n",
      "variância: 0.9686984587826694\n"
     ]
    }
   ],
   "source": [
    "#dados estatísticos de CRA dos concluintes (geral)\n",
    "\n",
    "craDiscentes = discentes['cra']\n",
    "\n",
    "print(len(craDiscentes))\n",
    "\n",
    "operador_estatisticas.exibe_estatisticas(craDiscentes)"
   ]
  },
  {
   "cell_type": "code",
   "execution_count": 10,
   "metadata": {},
   "outputs": [
    {
     "name": "stdout",
     "output_type": "stream",
     "text": [
      "483\n",
      "mínimo: 3.35 \n",
      "máximo: 9.6\n",
      "média: 7.8175983436853 \n",
      "mediana: 7.99  \n",
      "moda: 8.63 \n",
      "desvia padrão: 0.975093158735625 \n",
      "variância: 0.9508066682130186\n"
     ]
    }
   ],
   "source": [
    "#dados estatísticos de CRA dos concluintes que ingressaram antes de 2006\n",
    "\n",
    "craDiscentes = discentesAntes['cra']\n",
    "\n",
    "print(len(craDiscentes))\n",
    "\n",
    "operador_estatisticas.exibe_estatisticas(craDiscentes)"
   ]
  },
  {
   "cell_type": "code",
   "execution_count": 11,
   "metadata": {},
   "outputs": [
    {
     "name": "stdout",
     "output_type": "stream",
     "text": [
      "220\n",
      "mínimo: 4.76 \n",
      "máximo: 9.49\n",
      "!mais de um valor pra moda!\n",
      "média: 7.779272727272727 \n",
      "mediana: 7.95  \n",
      "desvio padrão: 1.0057267156887413 \n",
      "variância: 1.0114862266500622\n"
     ]
    }
   ],
   "source": [
    "#dados estatísticos de CRA dos concluintes que ingressaram a partir de 2006\n",
    "\n",
    "craDiscentes = discentesDepois['cra']\n",
    "\n",
    "print(len(craDiscentes))\n",
    "\n",
    "operador_estatisticas.exibe_estatisticas(craDiscentes)"
   ]
  },
  {
   "cell_type": "code",
   "execution_count": 12,
   "metadata": {},
   "outputs": [
    {
     "name": "stdout",
     "output_type": "stream",
     "text": [
      "mínimo: 1 \n",
      "máximo: 26\n",
      "média: 9.436699857752489 \n",
      "mediana: 9  \n",
      "moda: 8 \n",
      "desvia padrão: 2.555629823429381 \n",
      "variância: 6.531243794401689\n"
     ]
    }
   ],
   "source": [
    "#dados estatíticos do tempo para se graduar\n",
    "\n",
    "tempos = controlador_dados.retorna_lista_tempo_graduacao()\n",
    "operador_estatisticas.exibe_estatisticas(tempos)"
   ]
  },
  {
   "cell_type": "code",
   "execution_count": 13,
   "metadata": {},
   "outputs": [
    {
     "data": {
      "text/plain": [
       "matricula             19111343\n",
       "cra                       5.13\n",
       "periodo_ingresso        1991.1\n",
       "descricao            CONCLUÍDO\n",
       "periodo_conclusao       2003.2\n",
       "Name: 90, dtype: object"
      ]
     },
     "execution_count": 13,
     "metadata": {},
     "output_type": "execute_result"
    }
   ],
   "source": [
    "#aluno com 26 semestres\n",
    "\n",
    "i = tempos.index(26)\n",
    "discentes.loc[i]"
   ]
  },
  {
   "cell_type": "code",
   "execution_count": 14,
   "metadata": {},
   "outputs": [
    {
     "name": "stdout",
     "output_type": "stream",
     "text": [
      "qtd de amostras com tempo válido: 621\n",
      "mínimo: 6 \n",
      "máximo: 12\n",
      "média: 9.090177133655395 \n",
      "mediana: 9  \n",
      "moda: 8 \n",
      "desvia padrão: 1.4056051850768752 \n",
      "variância: 1.9757259363149966\n"
     ]
    }
   ],
   "source": [
    "#Tempo para se graduar (Intervalo \"Válido\" Geral)\n",
    "\n",
    "tempos_validos = controlador_dados.filtra_tempo_valido(tempos=tempos,tipo='intervalo')\n",
    "\n",
    "print('qtd de amostras com tempo válido: {}'.format(len(tempos_validos)))\n",
    "\n",
    "operador_estatisticas.exibe_estatisticas(tempos_validos)"
   ]
  },
  {
   "cell_type": "code",
   "execution_count": 15,
   "metadata": {},
   "outputs": [
    {
     "name": "stdout",
     "output_type": "stream",
     "text": [
      "261\n",
      "0.42028985507246375\n"
     ]
    }
   ],
   "source": [
    "#Porcentagem de pessoas que se graduaram em 8 semestres\n",
    "\n",
    "tempos_validos = controlador_dados.filtra_tempo_valido(tempos=tempos,tipo='exato')\n",
    "#util.exibe_estatisticas(tempos_validos)\n",
    "\n",
    "aux = len(tempos_validos)\n",
    "print(aux)\n",
    "print(aux/621)"
   ]
  },
  {
   "cell_type": "code",
   "execution_count": 16,
   "metadata": {},
   "outputs": [
    {
     "name": "stdout",
     "output_type": "stream",
     "text": [
      "mínimo: 1 \n",
      "máximo: 26\n",
      "média: 9.4472049689441 \n",
      "mediana: 8  \n",
      "moda: 8 \n",
      "desvia padrão: 2.5996344008468855 \n",
      "variância: 6.758099018066544\n"
     ]
    }
   ],
   "source": [
    "#Tempo para se graduar (Antes de 2006)\n",
    "\n",
    "tempos = controlador_dados.retorna_lista_tempo_graduacao(discentesAntes)\n",
    "operador_estatisticas.exibe_estatisticas(tempos)"
   ]
  },
  {
   "cell_type": "code",
   "execution_count": 17,
   "metadata": {},
   "outputs": [
    {
     "name": "stdout",
     "output_type": "stream",
     "text": [
      "qtd de amostras com tempo válido: 435\n",
      "mínimo: 6 \n",
      "máximo: 12\n",
      "média: 8.882758620689655 \n",
      "mediana: 8  \n",
      "moda: 8 \n",
      "desvia padrão: 1.3137176727247866 \n",
      "variância: 1.7258541236294296\n"
     ]
    }
   ],
   "source": [
    "#Tempo para se graduar (Intervalo \"Válido\" Antes de 2006)\n",
    "\n",
    "tempos_validos = controlador_dados.filtra_tempo_valido(tempos=tempos,tipo='intervalo')\n",
    "\n",
    "print('qtd de amostras com tempo válido: {}'.format(len(tempos_validos)))\n",
    "\n",
    "operador_estatisticas.exibe_estatisticas(tempos_validos)"
   ]
  },
  {
   "cell_type": "code",
   "execution_count": 18,
   "metadata": {},
   "outputs": [
    {
     "name": "stdout",
     "output_type": "stream",
     "text": [
      "qtd de amostras: 220\n",
      "mínimo: 1 \n",
      "máximo: 15\n",
      "média: 9.413636363636364 \n",
      "mediana: 9.0  \n",
      "moda: 9 \n",
      "desvia padrão: 2.4619099120621786 \n",
      "variância: 6.061000415110004\n"
     ]
    }
   ],
   "source": [
    "#Tempo para se graduar (Depois de 2006)\n",
    "\n",
    "tempos = controlador_dados.retorna_lista_tempo_graduacao(discentesDepois)\n",
    "print('qtd de amostras: {}'.format(len(tempos)))\n",
    "operador_estatisticas.exibe_estatisticas(tempos)"
   ]
  },
  {
   "cell_type": "code",
   "execution_count": 19,
   "metadata": {
    "scrolled": true
   },
   "outputs": [
    {
     "name": "stdout",
     "output_type": "stream",
     "text": [
      "qtd de amostras com tempo válido: 186\n",
      "mínimo: 6 \n",
      "máximo: 12\n",
      "média: 9.575268817204302 \n",
      "mediana: 9.0  \n",
      "moda: 9 \n",
      "desvia padrão: 1.494939638226673 \n",
      "variância: 2.2348445219412962\n"
     ]
    }
   ],
   "source": [
    "#Tempo para se graduar (Intervalo \"Válido\" Depois de 2006)\n",
    "\n",
    "tempos_validos = controlador_dados.filtra_tempo_valido(tempos=tempos,tipo='intervalo')\n",
    "\n",
    "print('qtd de amostras com tempo válido: {}'.format(len(tempos_validos)))\n",
    "\n",
    "operador_estatisticas.exibe_estatisticas(tempos_validos)"
   ]
  },
  {
   "cell_type": "code",
   "execution_count": 20,
   "metadata": {},
   "outputs": [
    {
     "name": "stdout",
     "output_type": "stream",
     "text": [
      "40\n",
      "0.18181818181818182\n"
     ]
    }
   ],
   "source": [
    "#Porcentagem de pessoas que se graduaram em 8 semestres\n",
    "\n",
    "tempos_validos = controlador_dados.filtra_tempo_valido(tempos=tempos,tipo='exato')\n",
    "#util.exibe_estatisticas(tempos_validos)\n",
    "\n",
    "aux = len(tempos_validos)\n",
    "print(aux)\n",
    "print(aux/220)"
   ]
  },
  {
   "cell_type": "code",
   "execution_count": 21,
   "metadata": {},
   "outputs": [
    {
     "name": "stdout",
     "output_type": "stream",
     "text": [
      "40\n",
      "0.21505376344086022\n"
     ]
    }
   ],
   "source": [
    "#Porcentagem de pessoas que se graduaram em 8 semestres em relação ao tempo \"válido\"\n",
    "\n",
    "tempos_validos = controlador_dados.filtra_tempo_valido(tempos=tempos,tipo='exato')\n",
    "#util.exibe_estatisticas(tempos_validos)\n",
    "\n",
    "aux = len(tempos_validos)\n",
    "print(aux)\n",
    "print(aux/186)"
   ]
  },
  {
   "cell_type": "markdown",
   "metadata": {},
   "source": [
    "## Análise do Arquivo componetes_curriculares.csv"
   ]
  },
  {
   "cell_type": "code",
   "execution_count": 22,
   "metadata": {
    "scrolled": true
   },
   "outputs": [
    {
     "data": {
      "text/html": [
       "<div>\n",
       "<style scoped>\n",
       "    .dataframe tbody tr th:only-of-type {\n",
       "        vertical-align: middle;\n",
       "    }\n",
       "\n",
       "    .dataframe tbody tr th {\n",
       "        vertical-align: top;\n",
       "    }\n",
       "\n",
       "    .dataframe thead th {\n",
       "        text-align: right;\n",
       "    }\n",
       "</style>\n",
       "<table border=\"1\" class=\"dataframe\">\n",
       "  <thead>\n",
       "    <tr style=\"text-align: right;\">\n",
       "      <th></th>\n",
       "      <th>codigo</th>\n",
       "      <th>nome</th>\n",
       "      <th>ch_total</th>\n",
       "    </tr>\n",
       "  </thead>\n",
       "  <tbody>\n",
       "    <tr>\n",
       "      <th>0</th>\n",
       "      <td>1101101</td>\n",
       "      <td>COMPLEMENTOS EM FISICA GERAL I</td>\n",
       "      <td>30</td>\n",
       "    </tr>\n",
       "    <tr>\n",
       "      <th>1</th>\n",
       "      <td>1101107</td>\n",
       "      <td>ESTRUTURA DA MATÉRIA I</td>\n",
       "      <td>60</td>\n",
       "    </tr>\n",
       "    <tr>\n",
       "      <th>2</th>\n",
       "      <td>1101117</td>\n",
       "      <td>FISICA GERAL I</td>\n",
       "      <td>90</td>\n",
       "    </tr>\n",
       "    <tr>\n",
       "      <th>3</th>\n",
       "      <td>1101118</td>\n",
       "      <td>FISICA GERAL II</td>\n",
       "      <td>90</td>\n",
       "    </tr>\n",
       "    <tr>\n",
       "      <th>4</th>\n",
       "      <td>1101119</td>\n",
       "      <td>FISICA GERAL III</td>\n",
       "      <td>90</td>\n",
       "    </tr>\n",
       "  </tbody>\n",
       "</table>\n",
       "</div>"
      ],
      "text/plain": [
       "    codigo                            nome  ch_total\n",
       "0  1101101  COMPLEMENTOS EM FISICA GERAL I        30\n",
       "1  1101107          ESTRUTURA DA MATÉRIA I        60\n",
       "2  1101117                  FISICA GERAL I        90\n",
       "3  1101118                 FISICA GERAL II        90\n",
       "4  1101119                FISICA GERAL III        90"
      ]
     },
     "execution_count": 22,
     "metadata": {},
     "output_type": "execute_result"
    }
   ],
   "source": [
    "disciplinas.head()"
   ]
  },
  {
   "cell_type": "code",
   "execution_count": 23,
   "metadata": {},
   "outputs": [
    {
     "name": "stdout",
     "output_type": "stream",
     "text": [
      "<class 'str'>\n",
      "<class 'str'>\n",
      "<class 'numpy.int64'>\n"
     ]
    }
   ],
   "source": [
    "print(type(disciplinas['codigo'].iloc[0]))\n",
    "print(type(disciplinas['nome'].iloc[0]))\n",
    "print(type(disciplinas['ch_total'].iloc[0]))"
   ]
  },
  {
   "cell_type": "code",
   "execution_count": 24,
   "metadata": {},
   "outputs": [
    {
     "data": {
      "text/plain": [
       "codigo      291\n",
       "nome        291\n",
       "ch_total    291\n",
       "dtype: int64"
      ]
     },
     "execution_count": 24,
     "metadata": {},
     "output_type": "execute_result"
    }
   ],
   "source": [
    "#quantidade de disciplinas já cursadas pelos alunos\n",
    "\n",
    "disciplinas.count()"
   ]
  },
  {
   "cell_type": "code",
   "execution_count": 25,
   "metadata": {},
   "outputs": [
    {
     "name": "stdout",
     "output_type": "stream",
     "text": [
      "      codigo                       nome  ch_total\n",
      "104  1107189     INTERACAO HOMEMMAQUINA        60\n",
      "105  1107189  INTERAÇÃO  HOMEM  MAQUINA        60\n",
      "      codigo                              nome  ch_total\n",
      "106  1107190  IINTRODUÇÃO A COMPUTAÇÃO GRÁFICA        60\n",
      "107  1107190   INTRODUÇÃO A COMPUTAÇÃO GRÁFICA        60\n",
      "      codigo                                         nome  ch_total\n",
      "155  1108100  CÁLCULO DAS PROBABILIDADES E  ESTATÍSTICA I        60\n",
      "156  1108100                     CALCULO DAS PROB ESTAT I        60\n",
      "      codigo                    nome  ch_total\n",
      "201  1403153  PORTUGUES INSTRUMENTAL        60\n",
      "202  1403153  PORTUGUÊS INSTRUMENTAL        60\n"
     ]
    }
   ],
   "source": [
    "#checando se tem códigos duplicados\n",
    "\n",
    "controlador_dados.checa_disciplinas_duplicadas(disciplinas)"
   ]
  },
  {
   "cell_type": "markdown",
   "metadata": {},
   "source": [
    "## Análise do Arquivo matriculas.csv"
   ]
  },
  {
   "cell_type": "code",
   "execution_count": 26,
   "metadata": {
    "scrolled": true
   },
   "outputs": [
    {
     "data": {
      "text/html": [
       "<div>\n",
       "<style scoped>\n",
       "    .dataframe tbody tr th:only-of-type {\n",
       "        vertical-align: middle;\n",
       "    }\n",
       "\n",
       "    .dataframe tbody tr th {\n",
       "        vertical-align: top;\n",
       "    }\n",
       "\n",
       "    .dataframe thead th {\n",
       "        text-align: right;\n",
       "    }\n",
       "</style>\n",
       "<table border=\"1\" class=\"dataframe\">\n",
       "  <thead>\n",
       "    <tr style=\"text-align: right;\">\n",
       "      <th></th>\n",
       "      <th>matricula</th>\n",
       "      <th>periodo_matricula</th>\n",
       "      <th>codigo_componente</th>\n",
       "      <th>descricao</th>\n",
       "      <th>media_final</th>\n",
       "    </tr>\n",
       "  </thead>\n",
       "  <tbody>\n",
       "    <tr>\n",
       "      <th>0</th>\n",
       "      <td>10011003</td>\n",
       "      <td>2000.1</td>\n",
       "      <td>1103114</td>\n",
       "      <td>APROVADO</td>\n",
       "      <td>9.7</td>\n",
       "    </tr>\n",
       "    <tr>\n",
       "      <th>1</th>\n",
       "      <td>10011003</td>\n",
       "      <td>2000.1</td>\n",
       "      <td>1107137</td>\n",
       "      <td>APROVADO</td>\n",
       "      <td>10.0</td>\n",
       "    </tr>\n",
       "    <tr>\n",
       "      <th>2</th>\n",
       "      <td>10011003</td>\n",
       "      <td>2000.1</td>\n",
       "      <td>1103118</td>\n",
       "      <td>APROVADO</td>\n",
       "      <td>9.8</td>\n",
       "    </tr>\n",
       "    <tr>\n",
       "      <th>3</th>\n",
       "      <td>10011003</td>\n",
       "      <td>2000.1</td>\n",
       "      <td>1107136</td>\n",
       "      <td>APROVADO</td>\n",
       "      <td>10.0</td>\n",
       "    </tr>\n",
       "    <tr>\n",
       "      <th>4</th>\n",
       "      <td>10011003</td>\n",
       "      <td>2000.1</td>\n",
       "      <td>1101117</td>\n",
       "      <td>APROVADO</td>\n",
       "      <td>10.0</td>\n",
       "    </tr>\n",
       "  </tbody>\n",
       "</table>\n",
       "</div>"
      ],
      "text/plain": [
       "   matricula  periodo_matricula codigo_componente descricao  media_final\n",
       "0   10011003             2000.1           1103114  APROVADO          9.7\n",
       "1   10011003             2000.1           1107137  APROVADO         10.0\n",
       "2   10011003             2000.1           1103118  APROVADO          9.8\n",
       "3   10011003             2000.1           1107136  APROVADO         10.0\n",
       "4   10011003             2000.1           1101117  APROVADO         10.0"
      ]
     },
     "execution_count": 26,
     "metadata": {},
     "output_type": "execute_result"
    }
   ],
   "source": [
    "matriculas.head()"
   ]
  },
  {
   "cell_type": "code",
   "execution_count": 27,
   "metadata": {},
   "outputs": [
    {
     "data": {
      "text/plain": [
       "matricula            37767\n",
       "periodo_matricula    37767\n",
       "codigo_componente    37767\n",
       "descricao            37767\n",
       "media_final          35939\n",
       "dtype: int64"
      ]
     },
     "execution_count": 27,
     "metadata": {},
     "output_type": "execute_result"
    }
   ],
   "source": [
    "matriculas.count()"
   ]
  },
  {
   "cell_type": "code",
   "execution_count": 28,
   "metadata": {},
   "outputs": [],
   "source": [
    "from math import isnan\n",
    "\n",
    "medias = matriculas['media_final'].to_list()\n",
    "\n",
    "media_nan = list(filter(isnan, medias))"
   ]
  },
  {
   "cell_type": "code",
   "execution_count": 29,
   "metadata": {},
   "outputs": [
    {
     "data": {
      "text/plain": [
       "1828"
      ]
     },
     "execution_count": 29,
     "metadata": {},
     "output_type": "execute_result"
    }
   ],
   "source": [
    "len(media_nan)"
   ]
  },
  {
   "cell_type": "code",
   "execution_count": 30,
   "metadata": {},
   "outputs": [
    {
     "name": "stdout",
     "output_type": "stream",
     "text": [
      "<class 'numpy.int64'>\n",
      "<class 'numpy.float64'>\n",
      "<class 'str'>\n",
      "<class 'str'>\n",
      "<class 'numpy.float64'>\n"
     ]
    }
   ],
   "source": [
    "print(type(matriculas['matricula'].iloc[0]))\n",
    "print(type(matriculas['periodo_matricula'].iloc[0]))\n",
    "print(type(matriculas['codigo_componente'].iloc[0]))\n",
    "print(type(matriculas['descricao'].iloc[0]))\n",
    "print(type(matriculas['media_final'].iloc[0]))"
   ]
  },
  {
   "cell_type": "code",
   "execution_count": 32,
   "metadata": {},
   "outputs": [
    {
     "name": "stdout",
     "output_type": "stream",
     "text": [
      "Todas as disciplinas foram cursadas pelo menos uma vez\n"
     ]
    }
   ],
   "source": [
    "codigos_matriculados = matriculas['codigo_componente'].to_list()\n",
    "\n",
    "controlador_dados.checa_disciplinas_nao_cursadas(codigos_matriculados)"
   ]
  },
  {
   "cell_type": "code",
   "execution_count": 33,
   "metadata": {},
   "outputs": [
    {
     "name": "stdout",
     "output_type": "stream",
     "text": [
      "       matricula  periodo_matricula codigo_componente   descricao  media_final\n",
      "28956   19111343             1991.1           1103114  DISPENSADO          8.2\n",
      "28957   19111343             1991.1           1101118  DISPENSADO          7.9\n",
      "28958   19111343             1991.1           1101117  DISPENSADO          8.2\n",
      "28959   19111343             1991.1           1103118  DISPENSADO          6.9\n",
      "28960   19111343             1991.1           1403120  REP. FALTA          0.0\n",
      "28961   19111343             1991.1           1107137  REP. FALTA          0.0\n",
      "28962   19111343             1991.2           1202139    TRANCADO          0.0\n",
      "28963   19111343             1991.2           1204140    TRANCADO          0.0\n",
      "28964   19111343             1992.2           1201126    APROVADO          7.3\n",
      "28965   19111343             1992.2           1202139    APROVADO          7.7\n",
      "28966   19111343             1992.2           1204140    APROVADO          7.8\n",
      "28967   19111343             1993.1           1107137    APROVADO          5.0\n",
      "28968   19111343             1993.1           1103115    APROVADO          7.7\n",
      "28969   19111343             1993.1           1401128    APROVADO          7.5\n",
      "28970   19111343             1993.1           1404138    APROVADO          9.7\n",
      "28971   19111343             1993.2           1101119    TRANCADO          0.0\n",
      "28972   19111343             1993.2           1103112    TRANCADO          0.0\n",
      "28973   19111343             1993.2           1103104    TRANCADO          0.0\n",
      "28974   19111343             1994.1           1101119   REPROVADO          3.8\n",
      "28975   19111343             1994.1           1103112   REPROVADO          3.3\n",
      "28976   19111343             1994.1           1107136  REP. FALTA          0.0\n",
      "28977   19111343             1994.1           1103104    APROVADO          7.0\n",
      "28978   19111343             1994.1           1107119  REP. FALTA          0.0\n",
      "28979   19111343             1994.1           1107149    APROVADO          7.5\n",
      "28980   19111343             1994.2           1108100    APROVADO          7.3\n",
      "28981   19111343             1994.2           1101119   REPROVADO          3.3\n",
      "28982   19111343             1994.2           1103112    APROVADO          7.5\n",
      "28983   19111343             1995.1           1101119   REPROVADO          3.0\n",
      "28984   19111343             1995.1           1107119    APROVADO          8.5\n",
      "28985   19111343             1995.1           1107136    APROVADO          7.6\n",
      "28986   19111343             1995.2           1101119  REP. FALTA          0.0\n",
      "28987   19111343             1995.2           1107148  REP. FALTA          0.0\n",
      "28988   19111343             1995.2           1107147  REP. FALTA          0.0\n",
      "28989   19111343             1995.2           1703103  DISPENSADO          7.0\n",
      "28990   19111343             1996.1           1105128  DISPENSADO          8.3\n",
      "28991   19111343             1996.1           1101119    APROVADO          6.8\n",
      "28992   19111343             1996.1           1204141    APROVADO          5.5\n",
      "28993   19111343             1996.1           1403120    APROVADO          8.3\n",
      "28994   19111343             1996.2           1107144  REP. FALTA          0.0\n",
      "28995   19111343             1996.2           1107118  REP. FALTA          0.0\n",
      "28996   19111343             1996.2           1107147  REP. FALTA          0.0\n",
      "28997   19111343             1996.2           1107148  REP. FALTA          0.0\n",
      "28998   19111343             1997.2           1107148  REP. FALTA          0.0\n",
      "28999   19111343             1997.2           1107147  REP. FALTA          0.0\n",
      "29000   19111343             1997.2           1107144  REP. FALTA          0.0\n",
      "29001   19111343             1997.2           1107118  REP. FALTA          0.0\n",
      "29002   19111343             1997.2           1405108  REP. FALTA          0.0\n",
      "29003   19111343             1998.1           1107170  REP. FALTA          0.0\n",
      "29004   19111343             1998.2           1107120  REP. FALTA          0.0\n",
      "29005   19111343             1998.2           1107144    APROVADO          9.0\n",
      "29006   19111343             1998.2           1107147    APROVADO          5.0\n",
      "29007   19111343             1998.2           1401134    APROVADO          8.0\n",
      "29008   19111343             1998.2           1107118    APROVADO          9.5\n",
      "29009   19111343             1998.2           1501175    APROVADO          8.5\n",
      "29010   19111343             1998.2           1107148  REP. FALTA          0.0\n",
      "29011   19111343             1999.0           1107108    APROVADO          8.5\n",
      "29012   19111343             1999.1           1107116    APROVADO          7.0\n",
      "29013   19111343             1999.1           1107170    APROVADO          6.4\n",
      "29014   19111343             1999.1           1103124    TRANCADO          NaN\n",
      "29015   19111343             1999.1           1101120    TRANCADO          NaN\n",
      "29016   19111343             1999.1           1107165    APROVADO          7.3\n",
      "29017   19111343             1999.1           1107114    TRANCADO          NaN\n",
      "29018   19111343             2000.1           1107114   REPROVADO          2.3\n",
      "29019   19111343             2000.1           1107111  REP. FALTA          0.0\n",
      "29020   19111343             2000.1           1107166  REP. FALTA          0.0\n",
      "29021   19111343             2000.2           1107138    APROVADO          8.5\n",
      "29022   19111343             2000.2           1107148   REPROVADO          2.0\n",
      "29023   19111343             2000.2           1107139    APROVADO          6.1\n",
      "29024   19111343             2000.2           1107155    APROVADO          8.5\n",
      "29025   19111343             2000.2           1107114    APROVADO          6.5\n",
      "29026   19111343             2000.2           1405108    APROVADO          7.5\n",
      "29027   19111343             2001.1           1107107    APROVADO          8.7\n",
      "29028   19111343             2001.1           1107101    APROVADO          5.0\n",
      "29029   19111343             2001.1           1107148    APROVADO          7.5\n",
      "29030   19111343             2001.1           1107156    APROVADO          6.0\n",
      "29031   19111343             2001.2           1107169    APROVADO          6.3\n",
      "29032   19111343             2001.2           1107120    APROVADO          8.0\n",
      "29033   19111343             2001.2           1107104    APROVADO          7.2\n",
      "29034   19111343             2001.2           1609247    APROVADO          8.0\n",
      "29035   19111343             2001.2           1107111    APROVADO          8.1\n",
      "29036   19111343             2001.2           1107134    APROVADO          8.0\n",
      "29037   19111343             2002.1           1107166    TRANCADO          NaN\n",
      "29038   19111343             2002.1           1107105    APROVADO          7.9\n",
      "29039   19111343             2002.1           1107112   REPROVADO          3.7\n",
      "29040   19111343             2002.1           1107122   REPROVADO          2.3\n",
      "29041   19111343             2002.2           1107128    APROVADO          7.0\n",
      "29042   19111343             2002.2           1107122    APROVADO          5.3\n",
      "29043   19111343             2002.2           1107112    APROVADO          5.6\n",
      "29044   19111343             2003.2           1107129    APROVADO          9.0\n"
     ]
    }
   ],
   "source": [
    "print(matriculas[matriculas['matricula'] == 19111343].to_string()) #isso pode ajudar a entender por que alunos demoram muito ou cursaram muito rápido"
   ]
  }
 ],
 "metadata": {
  "kernelspec": {
   "display_name": "Python 3",
   "language": "python",
   "name": "python3"
  },
  "language_info": {
   "codemirror_mode": {
    "name": "ipython",
    "version": 3
   },
   "file_extension": ".py",
   "mimetype": "text/x-python",
   "name": "python",
   "nbconvert_exporter": "python",
   "pygments_lexer": "ipython3",
   "version": "3.6.8"
  }
 },
 "nbformat": 4,
 "nbformat_minor": 2
}
